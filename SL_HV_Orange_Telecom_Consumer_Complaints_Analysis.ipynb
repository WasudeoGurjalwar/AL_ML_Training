{
  "nbformat": 4,
  "nbformat_minor": 0,
  "metadata": {
    "colab": {
      "provenance": [],
      "include_colab_link": true
    },
    "kernelspec": {
      "name": "python3",
      "display_name": "Python 3"
    },
    "language_info": {
      "name": "python"
    }
  },
  "cells": [
    {
      "cell_type": "markdown",
      "metadata": {
        "id": "view-in-github",
        "colab_type": "text"
      },
      "source": [
        "<a href=\"https://colab.research.google.com/github/WasudeoGurjalwar/AL_ML_Training/blob/main/SL_HV_Orange_Telecom_Consumer_Complaints_Analysis.ipynb\" target=\"_parent\"><img src=\"https://colab.research.google.com/assets/colab-badge.svg\" alt=\"Open In Colab\"/></a>"
      ]
    },
    {
      "cell_type": "markdown",
      "metadata": {
        "id": "oKe52aHVEeMY"
      },
      "source": [
        "Orange is an American global telecommunication company. The firm has been providing terrible customer service. They continue to fall short despite repeated promises to improve. Only last month (October 2016) the authority fined them a $2.3 million, after receiving over 1000 consumer complaints.\n",
        "\n",
        "The existing database will serve as a repository of public customer complaints filed against Orange.\n",
        "\n",
        "It will help to pin down what is wrong with Orange's customer service.\n",
        "\n",
        "**`Data Dictionary`**\n",
        "\n",
        "1. Ticket #: Ticket number assigned to each complaint\n",
        "2. Customer Complaint: Description of complaint\n",
        "3. Date: Date of complaint\n",
        "4. Time: Time of complaint\n",
        "5. Received Via: Mode of communication of the complaint\n",
        "6. City: Customer city\n",
        "7. State: Customer state\n",
        "8. Zipcode: Customer zip\n",
        "9. Status: Status of complaint\n",
        "10. Filing on behalf of someone\n",
        "\n",
        "### Analysis Task\n",
        "\n",
        "> Import data into environment.\n",
        "\n",
        "> Provide the trend chart for the number of complaints at monthly and daily granularity levels.\n",
        "\n",
        "> Create a new categorical variable with value as Open and Closed. Open & Pending is to be categorized as Open and Closed & Solved is to be categorized as Closed.\n",
        "\n",
        "> Provide state wise status of complaints in a stacked bar chart. Use the categorized variable from Q3. Provide insights on:\n",
        ">> Which state has the maximum complaints\n",
        "\n",
        ">> Which state has the highest percentage of unresolved complaints\n",
        "\n",
        "> Provide a table with the frequency of complaint types.\n",
        "*Which complaint types are maximum i.e., around internet, network issues, or across any other domains*.\n",
        "\n",
        "Provide the percentage of complaints resolved till date, which were received through the Internet and customer care calls.\n",
        "\n",
        "**The analysis results to be provided with insights wherever applicable**."
      ]
    },
    {
      "cell_type": "code",
      "metadata": {
        "id": "gf25aknEESsb"
      },
      "source": [
        "import numpy as np\n",
        "import pandas as pd\n",
        "import matplotlib.pyplot as plt"
      ],
      "execution_count": null,
      "outputs": []
    },
    {
      "cell_type": "code",
      "metadata": {
        "id": "cKyXGC9cG_2s"
      },
      "source": [
        "#from google.colab import files\n",
        "#data_to_load = files.upload()"
      ],
      "execution_count": null,
      "outputs": []
    },
    {
      "cell_type": "code",
      "metadata": {
        "id": "3IGjEz4eGvT1"
      },
      "source": [
        "## drive link for the data source - https://drive.google.com/file/d/1-FsEcITxkPRQ9-xuRvY6xkfLadsXksR_/view?usp=sharing\n",
        "df = pd.read_csv(\"Orange_telecom_complaints_data.csv\")"
      ],
      "execution_count": null,
      "outputs": []
    },
    {
      "cell_type": "code",
      "metadata": {
        "colab": {
          "base_uri": "https://localhost:8080/",
          "height": 416
        },
        "id": "OPWoQK6JHSOI",
        "outputId": "f15ad6bb-9f7d-48fa-a1e2-45732d9072cc"
      },
      "source": [
        "df.head(3)"
      ],
      "execution_count": null,
      "outputs": [
        {
          "output_type": "execute_result",
          "data": {
            "text/plain": [
              "  Ticket #                            Customer Complaint      Date  \\\n",
              "0   250635                 Comcast Cable Internet Speeds  22-04-15   \n",
              "1   223441  Payment disappear - service got disconnected  04-08-15   \n",
              "2   242732                             Speed and Service  18-04-15   \n",
              "\n",
              "  Date_month_year         Time        Received Via      City     State  \\\n",
              "0       22-Apr-15   3:53:50 PM  Customer Care Call  Abingdon  Maryland   \n",
              "1       04-Aug-15  10:22:56 AM            Internet   Acworth   Georgia   \n",
              "2       18-Apr-15   9:55:47 AM            Internet   Acworth   Georgia   \n",
              "\n",
              "   Zip code  Status Filing on Behalf of Someone  \n",
              "0     21009  Closed                          No  \n",
              "1     30102  Closed                          No  \n",
              "2     30101  Closed                         Yes  "
            ],
            "text/html": [
              "\n",
              "  <div id=\"df-b0500967-9c7c-4921-8738-d36e8ad8cafc\">\n",
              "    <div class=\"colab-df-container\">\n",
              "      <div>\n",
              "<style scoped>\n",
              "    .dataframe tbody tr th:only-of-type {\n",
              "        vertical-align: middle;\n",
              "    }\n",
              "\n",
              "    .dataframe tbody tr th {\n",
              "        vertical-align: top;\n",
              "    }\n",
              "\n",
              "    .dataframe thead th {\n",
              "        text-align: right;\n",
              "    }\n",
              "</style>\n",
              "<table border=\"1\" class=\"dataframe\">\n",
              "  <thead>\n",
              "    <tr style=\"text-align: right;\">\n",
              "      <th></th>\n",
              "      <th>Ticket #</th>\n",
              "      <th>Customer Complaint</th>\n",
              "      <th>Date</th>\n",
              "      <th>Date_month_year</th>\n",
              "      <th>Time</th>\n",
              "      <th>Received Via</th>\n",
              "      <th>City</th>\n",
              "      <th>State</th>\n",
              "      <th>Zip code</th>\n",
              "      <th>Status</th>\n",
              "      <th>Filing on Behalf of Someone</th>\n",
              "    </tr>\n",
              "  </thead>\n",
              "  <tbody>\n",
              "    <tr>\n",
              "      <th>0</th>\n",
              "      <td>250635</td>\n",
              "      <td>Comcast Cable Internet Speeds</td>\n",
              "      <td>22-04-15</td>\n",
              "      <td>22-Apr-15</td>\n",
              "      <td>3:53:50 PM</td>\n",
              "      <td>Customer Care Call</td>\n",
              "      <td>Abingdon</td>\n",
              "      <td>Maryland</td>\n",
              "      <td>21009</td>\n",
              "      <td>Closed</td>\n",
              "      <td>No</td>\n",
              "    </tr>\n",
              "    <tr>\n",
              "      <th>1</th>\n",
              "      <td>223441</td>\n",
              "      <td>Payment disappear - service got disconnected</td>\n",
              "      <td>04-08-15</td>\n",
              "      <td>04-Aug-15</td>\n",
              "      <td>10:22:56 AM</td>\n",
              "      <td>Internet</td>\n",
              "      <td>Acworth</td>\n",
              "      <td>Georgia</td>\n",
              "      <td>30102</td>\n",
              "      <td>Closed</td>\n",
              "      <td>No</td>\n",
              "    </tr>\n",
              "    <tr>\n",
              "      <th>2</th>\n",
              "      <td>242732</td>\n",
              "      <td>Speed and Service</td>\n",
              "      <td>18-04-15</td>\n",
              "      <td>18-Apr-15</td>\n",
              "      <td>9:55:47 AM</td>\n",
              "      <td>Internet</td>\n",
              "      <td>Acworth</td>\n",
              "      <td>Georgia</td>\n",
              "      <td>30101</td>\n",
              "      <td>Closed</td>\n",
              "      <td>Yes</td>\n",
              "    </tr>\n",
              "  </tbody>\n",
              "</table>\n",
              "</div>\n",
              "      <button class=\"colab-df-convert\" onclick=\"convertToInteractive('df-b0500967-9c7c-4921-8738-d36e8ad8cafc')\"\n",
              "              title=\"Convert this dataframe to an interactive table.\"\n",
              "              style=\"display:none;\">\n",
              "        \n",
              "  <svg xmlns=\"http://www.w3.org/2000/svg\" height=\"24px\"viewBox=\"0 0 24 24\"\n",
              "       width=\"24px\">\n",
              "    <path d=\"M0 0h24v24H0V0z\" fill=\"none\"/>\n",
              "    <path d=\"M18.56 5.44l.94 2.06.94-2.06 2.06-.94-2.06-.94-.94-2.06-.94 2.06-2.06.94zm-11 1L8.5 8.5l.94-2.06 2.06-.94-2.06-.94L8.5 2.5l-.94 2.06-2.06.94zm10 10l.94 2.06.94-2.06 2.06-.94-2.06-.94-.94-2.06-.94 2.06-2.06.94z\"/><path d=\"M17.41 7.96l-1.37-1.37c-.4-.4-.92-.59-1.43-.59-.52 0-1.04.2-1.43.59L10.3 9.45l-7.72 7.72c-.78.78-.78 2.05 0 2.83L4 21.41c.39.39.9.59 1.41.59.51 0 1.02-.2 1.41-.59l7.78-7.78 2.81-2.81c.8-.78.8-2.07 0-2.86zM5.41 20L4 18.59l7.72-7.72 1.47 1.35L5.41 20z\"/>\n",
              "  </svg>\n",
              "      </button>\n",
              "      \n",
              "  <style>\n",
              "    .colab-df-container {\n",
              "      display:flex;\n",
              "      flex-wrap:wrap;\n",
              "      gap: 12px;\n",
              "    }\n",
              "\n",
              "    .colab-df-convert {\n",
              "      background-color: #E8F0FE;\n",
              "      border: none;\n",
              "      border-radius: 50%;\n",
              "      cursor: pointer;\n",
              "      display: none;\n",
              "      fill: #1967D2;\n",
              "      height: 32px;\n",
              "      padding: 0 0 0 0;\n",
              "      width: 32px;\n",
              "    }\n",
              "\n",
              "    .colab-df-convert:hover {\n",
              "      background-color: #E2EBFA;\n",
              "      box-shadow: 0px 1px 2px rgba(60, 64, 67, 0.3), 0px 1px 3px 1px rgba(60, 64, 67, 0.15);\n",
              "      fill: #174EA6;\n",
              "    }\n",
              "\n",
              "    [theme=dark] .colab-df-convert {\n",
              "      background-color: #3B4455;\n",
              "      fill: #D2E3FC;\n",
              "    }\n",
              "\n",
              "    [theme=dark] .colab-df-convert:hover {\n",
              "      background-color: #434B5C;\n",
              "      box-shadow: 0px 1px 3px 1px rgba(0, 0, 0, 0.15);\n",
              "      filter: drop-shadow(0px 1px 2px rgba(0, 0, 0, 0.3));\n",
              "      fill: #FFFFFF;\n",
              "    }\n",
              "  </style>\n",
              "\n",
              "      <script>\n",
              "        const buttonEl =\n",
              "          document.querySelector('#df-b0500967-9c7c-4921-8738-d36e8ad8cafc button.colab-df-convert');\n",
              "        buttonEl.style.display =\n",
              "          google.colab.kernel.accessAllowed ? 'block' : 'none';\n",
              "\n",
              "        async function convertToInteractive(key) {\n",
              "          const element = document.querySelector('#df-b0500967-9c7c-4921-8738-d36e8ad8cafc');\n",
              "          const dataTable =\n",
              "            await google.colab.kernel.invokeFunction('convertToInteractive',\n",
              "                                                     [key], {});\n",
              "          if (!dataTable) return;\n",
              "\n",
              "          const docLinkHtml = 'Like what you see? Visit the ' +\n",
              "            '<a target=\"_blank\" href=https://colab.research.google.com/notebooks/data_table.ipynb>data table notebook</a>'\n",
              "            + ' to learn more about interactive tables.';\n",
              "          element.innerHTML = '';\n",
              "          dataTable['output_type'] = 'display_data';\n",
              "          await google.colab.output.renderOutput(dataTable, element);\n",
              "          const docLink = document.createElement('div');\n",
              "          docLink.innerHTML = docLinkHtml;\n",
              "          element.appendChild(docLink);\n",
              "        }\n",
              "      </script>\n",
              "    </div>\n",
              "  </div>\n",
              "  "
            ]
          },
          "metadata": {},
          "execution_count": 4
        }
      ]
    },
    {
      "cell_type": "code",
      "metadata": {
        "id": "VO4CVmL2HpkC"
      },
      "source": [
        "## Creating a time based indexing. To enable, to perform some kind of time series analysis\n",
        "df[\"date_index\"] = df[\"Date_month_year\"] + \" \" + df[\"Time\"]"
      ],
      "execution_count": null,
      "outputs": []
    },
    {
      "cell_type": "code",
      "metadata": {
        "id": "CN9SL3KvItVR"
      },
      "source": [
        "df[\"date_index\"] = pd.to_datetime(df[\"date_index\"])\n",
        "df[\"Date_month_year\"] = pd.to_datetime(df[\"Date_month_year\"])"
      ],
      "execution_count": null,
      "outputs": []
    },
    {
      "cell_type": "code",
      "metadata": {
        "colab": {
          "base_uri": "https://localhost:8080/"
        },
        "id": "OS92SmHlIyOG",
        "outputId": "17d8bf7c-0efc-4779-b2a1-c73d8e33d451"
      },
      "source": [
        "df.dtypes"
      ],
      "execution_count": null,
      "outputs": [
        {
          "output_type": "execute_result",
          "data": {
            "text/plain": [
              "Ticket #                               object\n",
              "Customer Complaint                     object\n",
              "Date                                   object\n",
              "Date_month_year                datetime64[ns]\n",
              "Time                                   object\n",
              "Received Via                           object\n",
              "City                                   object\n",
              "State                                  object\n",
              "Zip code                                int64\n",
              "Status                                 object\n",
              "Filing on Behalf of Someone            object\n",
              "date_index                     datetime64[ns]\n",
              "dtype: object"
            ]
          },
          "metadata": {},
          "execution_count": 7
        }
      ]
    },
    {
      "cell_type": "code",
      "metadata": {
        "id": "olShN-UzI6Gg"
      },
      "source": [
        "df = df.set_index(df[\"date_index\"])"
      ],
      "execution_count": null,
      "outputs": []
    },
    {
      "cell_type": "code",
      "metadata": {
        "colab": {
          "base_uri": "https://localhost:8080/",
          "height": 447
        },
        "id": "ajt_FebAI7oS",
        "outputId": "001b5159-4ede-4174-eaf2-84ce452bbe79"
      },
      "source": [
        "df.head(3)"
      ],
      "execution_count": null,
      "outputs": [
        {
          "output_type": "execute_result",
          "data": {
            "text/plain": [
              "                    Ticket #                            Customer Complaint  \\\n",
              "date_index                                                                   \n",
              "2015-04-22 15:53:50   250635                 Comcast Cable Internet Speeds   \n",
              "2015-08-04 10:22:56   223441  Payment disappear - service got disconnected   \n",
              "2015-04-18 09:55:47   242732                             Speed and Service   \n",
              "\n",
              "                         Date Date_month_year         Time  \\\n",
              "date_index                                                   \n",
              "2015-04-22 15:53:50  22-04-15      2015-04-22   3:53:50 PM   \n",
              "2015-08-04 10:22:56  04-08-15      2015-08-04  10:22:56 AM   \n",
              "2015-04-18 09:55:47  18-04-15      2015-04-18   9:55:47 AM   \n",
              "\n",
              "                           Received Via      City     State  Zip code  Status  \\\n",
              "date_index                                                                      \n",
              "2015-04-22 15:53:50  Customer Care Call  Abingdon  Maryland     21009  Closed   \n",
              "2015-08-04 10:22:56            Internet   Acworth   Georgia     30102  Closed   \n",
              "2015-04-18 09:55:47            Internet   Acworth   Georgia     30101  Closed   \n",
              "\n",
              "                    Filing on Behalf of Someone          date_index  \n",
              "date_index                                                           \n",
              "2015-04-22 15:53:50                          No 2015-04-22 15:53:50  \n",
              "2015-08-04 10:22:56                          No 2015-08-04 10:22:56  \n",
              "2015-04-18 09:55:47                         Yes 2015-04-18 09:55:47  "
            ],
            "text/html": [
              "\n",
              "  <div id=\"df-17e10284-5247-4eae-9cff-bbddcad858d5\">\n",
              "    <div class=\"colab-df-container\">\n",
              "      <div>\n",
              "<style scoped>\n",
              "    .dataframe tbody tr th:only-of-type {\n",
              "        vertical-align: middle;\n",
              "    }\n",
              "\n",
              "    .dataframe tbody tr th {\n",
              "        vertical-align: top;\n",
              "    }\n",
              "\n",
              "    .dataframe thead th {\n",
              "        text-align: right;\n",
              "    }\n",
              "</style>\n",
              "<table border=\"1\" class=\"dataframe\">\n",
              "  <thead>\n",
              "    <tr style=\"text-align: right;\">\n",
              "      <th></th>\n",
              "      <th>Ticket #</th>\n",
              "      <th>Customer Complaint</th>\n",
              "      <th>Date</th>\n",
              "      <th>Date_month_year</th>\n",
              "      <th>Time</th>\n",
              "      <th>Received Via</th>\n",
              "      <th>City</th>\n",
              "      <th>State</th>\n",
              "      <th>Zip code</th>\n",
              "      <th>Status</th>\n",
              "      <th>Filing on Behalf of Someone</th>\n",
              "      <th>date_index</th>\n",
              "    </tr>\n",
              "    <tr>\n",
              "      <th>date_index</th>\n",
              "      <th></th>\n",
              "      <th></th>\n",
              "      <th></th>\n",
              "      <th></th>\n",
              "      <th></th>\n",
              "      <th></th>\n",
              "      <th></th>\n",
              "      <th></th>\n",
              "      <th></th>\n",
              "      <th></th>\n",
              "      <th></th>\n",
              "      <th></th>\n",
              "    </tr>\n",
              "  </thead>\n",
              "  <tbody>\n",
              "    <tr>\n",
              "      <th>2015-04-22 15:53:50</th>\n",
              "      <td>250635</td>\n",
              "      <td>Comcast Cable Internet Speeds</td>\n",
              "      <td>22-04-15</td>\n",
              "      <td>2015-04-22</td>\n",
              "      <td>3:53:50 PM</td>\n",
              "      <td>Customer Care Call</td>\n",
              "      <td>Abingdon</td>\n",
              "      <td>Maryland</td>\n",
              "      <td>21009</td>\n",
              "      <td>Closed</td>\n",
              "      <td>No</td>\n",
              "      <td>2015-04-22 15:53:50</td>\n",
              "    </tr>\n",
              "    <tr>\n",
              "      <th>2015-08-04 10:22:56</th>\n",
              "      <td>223441</td>\n",
              "      <td>Payment disappear - service got disconnected</td>\n",
              "      <td>04-08-15</td>\n",
              "      <td>2015-08-04</td>\n",
              "      <td>10:22:56 AM</td>\n",
              "      <td>Internet</td>\n",
              "      <td>Acworth</td>\n",
              "      <td>Georgia</td>\n",
              "      <td>30102</td>\n",
              "      <td>Closed</td>\n",
              "      <td>No</td>\n",
              "      <td>2015-08-04 10:22:56</td>\n",
              "    </tr>\n",
              "    <tr>\n",
              "      <th>2015-04-18 09:55:47</th>\n",
              "      <td>242732</td>\n",
              "      <td>Speed and Service</td>\n",
              "      <td>18-04-15</td>\n",
              "      <td>2015-04-18</td>\n",
              "      <td>9:55:47 AM</td>\n",
              "      <td>Internet</td>\n",
              "      <td>Acworth</td>\n",
              "      <td>Georgia</td>\n",
              "      <td>30101</td>\n",
              "      <td>Closed</td>\n",
              "      <td>Yes</td>\n",
              "      <td>2015-04-18 09:55:47</td>\n",
              "    </tr>\n",
              "  </tbody>\n",
              "</table>\n",
              "</div>\n",
              "      <button class=\"colab-df-convert\" onclick=\"convertToInteractive('df-17e10284-5247-4eae-9cff-bbddcad858d5')\"\n",
              "              title=\"Convert this dataframe to an interactive table.\"\n",
              "              style=\"display:none;\">\n",
              "        \n",
              "  <svg xmlns=\"http://www.w3.org/2000/svg\" height=\"24px\"viewBox=\"0 0 24 24\"\n",
              "       width=\"24px\">\n",
              "    <path d=\"M0 0h24v24H0V0z\" fill=\"none\"/>\n",
              "    <path d=\"M18.56 5.44l.94 2.06.94-2.06 2.06-.94-2.06-.94-.94-2.06-.94 2.06-2.06.94zm-11 1L8.5 8.5l.94-2.06 2.06-.94-2.06-.94L8.5 2.5l-.94 2.06-2.06.94zm10 10l.94 2.06.94-2.06 2.06-.94-2.06-.94-.94-2.06-.94 2.06-2.06.94z\"/><path d=\"M17.41 7.96l-1.37-1.37c-.4-.4-.92-.59-1.43-.59-.52 0-1.04.2-1.43.59L10.3 9.45l-7.72 7.72c-.78.78-.78 2.05 0 2.83L4 21.41c.39.39.9.59 1.41.59.51 0 1.02-.2 1.41-.59l7.78-7.78 2.81-2.81c.8-.78.8-2.07 0-2.86zM5.41 20L4 18.59l7.72-7.72 1.47 1.35L5.41 20z\"/>\n",
              "  </svg>\n",
              "      </button>\n",
              "      \n",
              "  <style>\n",
              "    .colab-df-container {\n",
              "      display:flex;\n",
              "      flex-wrap:wrap;\n",
              "      gap: 12px;\n",
              "    }\n",
              "\n",
              "    .colab-df-convert {\n",
              "      background-color: #E8F0FE;\n",
              "      border: none;\n",
              "      border-radius: 50%;\n",
              "      cursor: pointer;\n",
              "      display: none;\n",
              "      fill: #1967D2;\n",
              "      height: 32px;\n",
              "      padding: 0 0 0 0;\n",
              "      width: 32px;\n",
              "    }\n",
              "\n",
              "    .colab-df-convert:hover {\n",
              "      background-color: #E2EBFA;\n",
              "      box-shadow: 0px 1px 2px rgba(60, 64, 67, 0.3), 0px 1px 3px 1px rgba(60, 64, 67, 0.15);\n",
              "      fill: #174EA6;\n",
              "    }\n",
              "\n",
              "    [theme=dark] .colab-df-convert {\n",
              "      background-color: #3B4455;\n",
              "      fill: #D2E3FC;\n",
              "    }\n",
              "\n",
              "    [theme=dark] .colab-df-convert:hover {\n",
              "      background-color: #434B5C;\n",
              "      box-shadow: 0px 1px 3px 1px rgba(0, 0, 0, 0.15);\n",
              "      filter: drop-shadow(0px 1px 2px rgba(0, 0, 0, 0.3));\n",
              "      fill: #FFFFFF;\n",
              "    }\n",
              "  </style>\n",
              "\n",
              "      <script>\n",
              "        const buttonEl =\n",
              "          document.querySelector('#df-17e10284-5247-4eae-9cff-bbddcad858d5 button.colab-df-convert');\n",
              "        buttonEl.style.display =\n",
              "          google.colab.kernel.accessAllowed ? 'block' : 'none';\n",
              "\n",
              "        async function convertToInteractive(key) {\n",
              "          const element = document.querySelector('#df-17e10284-5247-4eae-9cff-bbddcad858d5');\n",
              "          const dataTable =\n",
              "            await google.colab.kernel.invokeFunction('convertToInteractive',\n",
              "                                                     [key], {});\n",
              "          if (!dataTable) return;\n",
              "\n",
              "          const docLinkHtml = 'Like what you see? Visit the ' +\n",
              "            '<a target=\"_blank\" href=https://colab.research.google.com/notebooks/data_table.ipynb>data table notebook</a>'\n",
              "            + ' to learn more about interactive tables.';\n",
              "          element.innerHTML = '';\n",
              "          dataTable['output_type'] = 'display_data';\n",
              "          await google.colab.output.renderOutput(dataTable, element);\n",
              "          const docLink = document.createElement('div');\n",
              "          docLink.innerHTML = docLinkHtml;\n",
              "          element.appendChild(docLink);\n",
              "        }\n",
              "      </script>\n",
              "    </div>\n",
              "  </div>\n",
              "  "
            ]
          },
          "metadata": {},
          "execution_count": 9
        }
      ]
    },
    {
      "cell_type": "code",
      "metadata": {
        "colab": {
          "base_uri": "https://localhost:8080/"
        },
        "id": "z_D8iUVBJTE6",
        "outputId": "d5fdff11-3535-4f07-ef8f-e6a48ded85aa"
      },
      "source": [
        "df[\"Date_month_year\"].value_counts()[:6]"
      ],
      "execution_count": null,
      "outputs": [
        {
          "output_type": "execute_result",
          "data": {
            "text/plain": [
              "2015-06-24    218\n",
              "2015-06-23    190\n",
              "2015-06-25     98\n",
              "2015-06-26     55\n",
              "2015-06-30     53\n",
              "2015-06-29     51\n",
              "Name: Date_month_year, dtype: int64"
            ]
          },
          "metadata": {},
          "execution_count": 10
        }
      ]
    },
    {
      "cell_type": "code",
      "metadata": {
        "colab": {
          "base_uri": "https://localhost:8080/",
          "height": 356
        },
        "id": "lQbZifDzJkgO",
        "outputId": "6be35ba0-6c2b-42d8-90f3-1ed73fa07e99"
      },
      "source": [
        "## Check how many complaints - date wise or daily basis\n",
        "from matplotlib.pyplot import figure\n",
        "figure(figsize=(14, 4), dpi=80)\n",
        "\n",
        "#fd = df[\"Date_month_year\"].value_counts()\n",
        "#print(fd.head())\n",
        "#fd.plot();\n",
        "\n",
        "## or\n",
        "fd = df.groupby(pd.Grouper(freq=\"D\")).size()\n",
        "print(fd.head())\n",
        "fd.plot();"
      ],
      "execution_count": null,
      "outputs": [
        {
          "output_type": "stream",
          "name": "stdout",
          "text": [
            "date_index\n",
            "2015-01-04    18\n",
            "2015-01-05    12\n",
            "2015-01-06    25\n",
            "2015-01-07     0\n",
            "2015-01-08     0\n",
            "Freq: D, dtype: int64\n"
          ]
        },
        {
          "output_type": "display_data",
          "data": {
            "text/plain": [
              "<Figure size 1120x320 with 1 Axes>"
            ],
            "image/png": "[encoded data removed]"
          },
          "metadata": {
            "needs_background": "light"
          }
        }
      ]
    },
    {
      "cell_type": "code",
      "metadata": {
        "id": "K49WbSqhJ1cV"
      },
      "source": [
        "fm = df.groupby(pd.Grouper(freq=\"M\")).size()\n",
        "\n",
        "## https://pandas.pydata.org/pandas-docs/version/0.23/generated/pandas.Grouper.html\n",
        "## https://pbpython.com/pandas-grouper-agg.html"
      ],
      "execution_count": null,
      "outputs": []
    },
    {
      "cell_type": "code",
      "metadata": {
        "colab": {
          "base_uri": "https://localhost:8080/"
        },
        "id": "SjbKciOaMyJR",
        "outputId": "b0dae8d5-fbdd-47df-dbf7-dc21937c4c86"
      },
      "source": [
        "fm.head(7)"
      ],
      "execution_count": null,
      "outputs": [
        {
          "output_type": "execute_result",
          "data": {
            "text/plain": [
              "date_index\n",
              "2015-01-31      55\n",
              "2015-02-28      59\n",
              "2015-03-31      45\n",
              "2015-04-30     375\n",
              "2015-05-31     317\n",
              "2015-06-30    1046\n",
              "2015-07-31      49\n",
              "Freq: M, dtype: int64"
            ]
          },
          "metadata": {},
          "execution_count": 13
        }
      ]
    },
    {
      "cell_type": "code",
      "metadata": {
        "colab": {
          "base_uri": "https://localhost:8080/",
          "height": 309
        },
        "id": "6NPVwqzhNJj2",
        "outputId": "cd98a5db-d525-443a-a168-ac8ef71c6bff"
      },
      "source": [
        "fm.plot()\n",
        "\n",
        "## More here : https://medium.com/nerd-for-tech/how-to-plot-timeseries-data-in-python-and-plotly-1382d205cc2"
      ],
      "execution_count": null,
      "outputs": [
        {
          "output_type": "execute_result",
          "data": {
            "text/plain": [
              "<AxesSubplot:xlabel='date_index'>"
            ]
          },
          "metadata": {},
          "execution_count": 14
        },
        {
          "output_type": "display_data",
          "data": {
            "text/plain": [
              "<Figure size 432x288 with 1 Axes>"
            ],
            "image/png": "[encoded data removed]"
          },
          "metadata": {
            "needs_background": "light"
          }
        }
      ]
    },
    {
      "cell_type": "code",
      "metadata": {
        "colab": {
          "base_uri": "https://localhost:8080/"
        },
        "id": "NdT-CbYUNibR",
        "outputId": "574d2f88-f238-4d93-870a-c62d1957e371"
      },
      "source": [
        "df.Status.unique()"
      ],
      "execution_count": null,
      "outputs": [
        {
          "output_type": "execute_result",
          "data": {
            "text/plain": [
              "array(['Closed', 'Open', 'Solved', 'Pending'], dtype=object)"
            ]
          },
          "metadata": {},
          "execution_count": 15
        }
      ]
    },
    {
      "cell_type": "code",
      "metadata": {
        "id": "aM3AlwlCP-ei"
      },
      "source": [
        "## Create a new categorical variable with value as Open and Closed.\n",
        "## Open & Pending is to be categorized as Open and Closed & Solved is to be categorized as Closed.\n",
        "\n",
        "df[\"newStatus\"] = [\"Open\" if Status==\"Open\" or Status==\"Pending\" else \"Closed\" for Status in df[\"Status\"]]"
      ],
      "execution_count": null,
      "outputs": []
    },
    {
      "cell_type": "code",
      "metadata": {
        "colab": {
          "base_uri": "https://localhost:8080/",
          "height": 447
        },
        "id": "H-SWl0JOQCEO",
        "outputId": "22a967c5-19c8-4a4a-ba41-ed2d38d4bd6d"
      },
      "source": [
        "df.head(3)"
      ],
      "execution_count": null,
      "outputs": [
        {
          "output_type": "execute_result",
          "data": {
            "text/plain": [
              "                    Ticket #                            Customer Complaint  \\\n",
              "date_index                                                                   \n",
              "2015-04-22 15:53:50   250635                 Comcast Cable Internet Speeds   \n",
              "2015-08-04 10:22:56   223441  Payment disappear - service got disconnected   \n",
              "2015-04-18 09:55:47   242732                             Speed and Service   \n",
              "\n",
              "                         Date Date_month_year         Time  \\\n",
              "date_index                                                   \n",
              "2015-04-22 15:53:50  22-04-15      2015-04-22   3:53:50 PM   \n",
              "2015-08-04 10:22:56  04-08-15      2015-08-04  10:22:56 AM   \n",
              "2015-04-18 09:55:47  18-04-15      2015-04-18   9:55:47 AM   \n",
              "\n",
              "                           Received Via      City     State  Zip code  Status  \\\n",
              "date_index                                                                      \n",
              "2015-04-22 15:53:50  Customer Care Call  Abingdon  Maryland     21009  Closed   \n",
              "2015-08-04 10:22:56            Internet   Acworth   Georgia     30102  Closed   \n",
              "2015-04-18 09:55:47            Internet   Acworth   Georgia     30101  Closed   \n",
              "\n",
              "                    Filing on Behalf of Someone          date_index newStatus  \n",
              "date_index                                                                     \n",
              "2015-04-22 15:53:50                          No 2015-04-22 15:53:50    Closed  \n",
              "2015-08-04 10:22:56                          No 2015-08-04 10:22:56    Closed  \n",
              "2015-04-18 09:55:47                         Yes 2015-04-18 09:55:47    Closed  "
            ],
            "text/html": [
              "\n",
              "  <div id=\"df-efd39acf-cb55-4428-a0fd-77700507a709\">\n",
              "    <div class=\"colab-df-container\">\n",
              "      <div>\n",
              "<style scoped>\n",
              "    .dataframe tbody tr th:only-of-type {\n",
              "        vertical-align: middle;\n",
              "    }\n",
              "\n",
              "    .dataframe tbody tr th {\n",
              "        vertical-align: top;\n",
              "    }\n",
              "\n",
              "    .dataframe thead th {\n",
              "        text-align: right;\n",
              "    }\n",
              "</style>\n",
              "<table border=\"1\" class=\"dataframe\">\n",
              "  <thead>\n",
              "    <tr style=\"text-align: right;\">\n",
              "      <th></th>\n",
              "      <th>Ticket #</th>\n",
              "      <th>Customer Complaint</th>\n",
              "      <th>Date</th>\n",
              "      <th>Date_month_year</th>\n",
              "      <th>Time</th>\n",
              "      <th>Received Via</th>\n",
              "      <th>City</th>\n",
              "      <th>State</th>\n",
              "      <th>Zip code</th>\n",
              "      <th>Status</th>\n",
              "      <th>Filing on Behalf of Someone</th>\n",
              "      <th>date_index</th>\n",
              "      <th>newStatus</th>\n",
              "    </tr>\n",
              "    <tr>\n",
              "      <th>date_index</th>\n",
              "      <th></th>\n",
              "      <th></th>\n",
              "      <th></th>\n",
              "      <th></th>\n",
              "      <th></th>\n",
              "      <th></th>\n",
              "      <th></th>\n",
              "      <th></th>\n",
              "      <th></th>\n",
              "      <th></th>\n",
              "      <th></th>\n",
              "      <th></th>\n",
              "      <th></th>\n",
              "    </tr>\n",
              "  </thead>\n",
              "  <tbody>\n",
              "    <tr>\n",
              "      <th>2015-04-22 15:53:50</th>\n",
              "      <td>250635</td>\n",
              "      <td>Comcast Cable Internet Speeds</td>\n",
              "      <td>22-04-15</td>\n",
              "      <td>2015-04-22</td>\n",
              "      <td>3:53:50 PM</td>\n",
              "      <td>Customer Care Call</td>\n",
              "      <td>Abingdon</td>\n",
              "      <td>Maryland</td>\n",
              "      <td>21009</td>\n",
              "      <td>Closed</td>\n",
              "      <td>No</td>\n",
              "      <td>2015-04-22 15:53:50</td>\n",
              "      <td>Closed</td>\n",
              "    </tr>\n",
              "    <tr>\n",
              "      <th>2015-08-04 10:22:56</th>\n",
              "      <td>223441</td>\n",
              "      <td>Payment disappear - service got disconnected</td>\n",
              "      <td>04-08-15</td>\n",
              "      <td>2015-08-04</td>\n",
              "      <td>10:22:56 AM</td>\n",
              "      <td>Internet</td>\n",
              "      <td>Acworth</td>\n",
              "      <td>Georgia</td>\n",
              "      <td>30102</td>\n",
              "      <td>Closed</td>\n",
              "      <td>No</td>\n",
              "      <td>2015-08-04 10:22:56</td>\n",
              "      <td>Closed</td>\n",
              "    </tr>\n",
              "    <tr>\n",
              "      <th>2015-04-18 09:55:47</th>\n",
              "      <td>242732</td>\n",
              "      <td>Speed and Service</td>\n",
              "      <td>18-04-15</td>\n",
              "      <td>2015-04-18</td>\n",
              "      <td>9:55:47 AM</td>\n",
              "      <td>Internet</td>\n",
              "      <td>Acworth</td>\n",
              "      <td>Georgia</td>\n",
              "      <td>30101</td>\n",
              "      <td>Closed</td>\n",
              "      <td>Yes</td>\n",
              "      <td>2015-04-18 09:55:47</td>\n",
              "      <td>Closed</td>\n",
              "    </tr>\n",
              "  </tbody>\n",
              "</table>\n",
              "</div>\n",
              "      <button class=\"colab-df-convert\" onclick=\"convertToInteractive('df-efd39acf-cb55-4428-a0fd-77700507a709')\"\n",
              "              title=\"Convert this dataframe to an interactive table.\"\n",
              "              style=\"display:none;\">\n",
              "        \n",
              "  <svg xmlns=\"http://www.w3.org/2000/svg\" height=\"24px\"viewBox=\"0 0 24 24\"\n",
              "       width=\"24px\">\n",
              "    <path d=\"M0 0h24v24H0V0z\" fill=\"none\"/>\n",
              "    <path d=\"M18.56 5.44l.94 2.06.94-2.06 2.06-.94-2.06-.94-.94-2.06-.94 2.06-2.06.94zm-11 1L8.5 8.5l.94-2.06 2.06-.94-2.06-.94L8.5 2.5l-.94 2.06-2.06.94zm10 10l.94 2.06.94-2.06 2.06-.94-2.06-.94-.94-2.06-.94 2.06-2.06.94z\"/><path d=\"M17.41 7.96l-1.37-1.37c-.4-.4-.92-.59-1.43-.59-.52 0-1.04.2-1.43.59L10.3 9.45l-7.72 7.72c-.78.78-.78 2.05 0 2.83L4 21.41c.39.39.9.59 1.41.59.51 0 1.02-.2 1.41-.59l7.78-7.78 2.81-2.81c.8-.78.8-2.07 0-2.86zM5.41 20L4 18.59l7.72-7.72 1.47 1.35L5.41 20z\"/>\n",
              "  </svg>\n",
              "      </button>\n",
              "      \n",
              "  <style>\n",
              "    .colab-df-container {\n",
              "      display:flex;\n",
              "      flex-wrap:wrap;\n",
              "      gap: 12px;\n",
              "    }\n",
              "\n",
              "    .colab-df-convert {\n",
              "      background-color: #E8F0FE;\n",
              "      border: none;\n",
              "      border-radius: 50%;\n",
              "      cursor: pointer;\n",
              "      display: none;\n",
              "      fill: #1967D2;\n",
              "      height: 32px;\n",
              "      padding: 0 0 0 0;\n",
              "      width: 32px;\n",
              "    }\n",
              "\n",
              "    .colab-df-convert:hover {\n",
              "      background-color: #E2EBFA;\n",
              "      box-shadow: 0px 1px 2px rgba(60, 64, 67, 0.3), 0px 1px 3px 1px rgba(60, 64, 67, 0.15);\n",
              "      fill: #174EA6;\n",
              "    }\n",
              "\n",
              "    [theme=dark] .colab-df-convert {\n",
              "      background-color: #3B4455;\n",
              "      fill: #D2E3FC;\n",
              "    }\n",
              "\n",
              "    [theme=dark] .colab-df-convert:hover {\n",
              "      background-color: #434B5C;\n",
              "      box-shadow: 0px 1px 3px 1px rgba(0, 0, 0, 0.15);\n",
              "      filter: drop-shadow(0px 1px 2px rgba(0, 0, 0, 0.3));\n",
              "      fill: #FFFFFF;\n",
              "    }\n",
              "  </style>\n",
              "\n",
              "      <script>\n",
              "        const buttonEl =\n",
              "          document.querySelector('#df-efd39acf-cb55-4428-a0fd-77700507a709 button.colab-df-convert');\n",
              "        buttonEl.style.display =\n",
              "          google.colab.kernel.accessAllowed ? 'block' : 'none';\n",
              "\n",
              "        async function convertToInteractive(key) {\n",
              "          const element = document.querySelector('#df-efd39acf-cb55-4428-a0fd-77700507a709');\n",
              "          const dataTable =\n",
              "            await google.colab.kernel.invokeFunction('convertToInteractive',\n",
              "                                                     [key], {});\n",
              "          if (!dataTable) return;\n",
              "\n",
              "          const docLinkHtml = 'Like what you see? Visit the ' +\n",
              "            '<a target=\"_blank\" href=https://colab.research.google.com/notebooks/data_table.ipynb>data table notebook</a>'\n",
              "            + ' to learn more about interactive tables.';\n",
              "          element.innerHTML = '';\n",
              "          dataTable['output_type'] = 'display_data';\n",
              "          await google.colab.output.renderOutput(dataTable, element);\n",
              "          const docLink = document.createElement('div');\n",
              "          docLink.innerHTML = docLinkHtml;\n",
              "          element.appendChild(docLink);\n",
              "        }\n",
              "      </script>\n",
              "    </div>\n",
              "  </div>\n",
              "  "
            ]
          },
          "metadata": {},
          "execution_count": 17
        }
      ]
    },
    {
      "cell_type": "code",
      "metadata": {
        "colab": {
          "base_uri": "https://localhost:8080/"
        },
        "id": "JUvcCrDIQY8l",
        "outputId": "c62ec61a-ec92-4edd-8445-f05c701ccd1f"
      },
      "source": [
        "## Provide state wise status of complaints in a stacked bar chart.\n",
        "## Use the categorized variable from above data. Provide insights on:\n",
        "\n",
        "## 1. Which state has the maximum complaints\n",
        "## 2. Which state has the highest percentage of unresolved complaints\n",
        "\n",
        "#df.groupby([\"State\"]).size().sort_values(ascending=False).to_frame().reset_index().rename({0: \"Count\"}, axis=1)[ : 1]\n",
        "df.groupby([\"State\"]).size().sort_values(ascending=False)[:1]\n",
        "## ANS : Georgia state has maximum complaints"
      ],
      "execution_count": null,
      "outputs": [
        {
          "output_type": "execute_result",
          "data": {
            "text/plain": [
              "State\n",
              "Georgia    288\n",
              "dtype: int64"
            ]
          },
          "metadata": {},
          "execution_count": 18
        }
      ]
    },
    {
      "cell_type": "code",
      "metadata": {
        "colab": {
          "base_uri": "https://localhost:8080/",
          "height": 1000
        },
        "id": "-LzazvBaReha",
        "outputId": "23252612-c463-407f-ee77-bd2bd3e8a865"
      },
      "source": [
        "## finding states - open complaints\n",
        "Status_complaints = df.groupby([\"State\",\"newStatus\"]).size().unstack().fillna(0)\n",
        "Status_complaints"
      ],
      "execution_count": null,
      "outputs": [
        {
          "output_type": "execute_result",
          "data": {
            "text/plain": [
              "newStatus             Closed  Open\n",
              "State                             \n",
              "Alabama                 17.0   9.0\n",
              "Arizona                 14.0   6.0\n",
              "Arkansas                 6.0   0.0\n",
              "California             159.0  61.0\n",
              "Colorado                58.0  22.0\n",
              "Connecticut              9.0   3.0\n",
              "Delaware                 8.0   4.0\n",
              "District Of Columbia    14.0   2.0\n",
              "District of Columbia     1.0   0.0\n",
              "Florida                201.0  39.0\n",
              "Georgia                208.0  80.0\n",
              "Illinois               135.0  29.0\n",
              "Indiana                 50.0   9.0\n",
              "Iowa                     1.0   0.0\n",
              "Kansas                   1.0   1.0\n",
              "Kentucky                 4.0   3.0\n",
              "Louisiana               12.0   1.0\n",
              "Maine                    3.0   2.0\n",
              "Maryland                63.0  15.0\n",
              "Massachusetts           50.0  11.0\n",
              "Michigan                92.0  23.0\n",
              "Minnesota               29.0   4.0\n",
              "Mississippi             23.0  16.0\n",
              "Missouri                 3.0   1.0\n",
              "Montana                  1.0   0.0\n",
              "Nevada                   1.0   0.0\n",
              "New Hampshire            8.0   4.0\n",
              "New Jersey              56.0  19.0\n",
              "New Mexico              11.0   4.0\n",
              "New York                 6.0   0.0\n",
              "North Carolina           3.0   0.0\n",
              "Ohio                     3.0   0.0\n",
              "Oregon                  36.0  13.0\n",
              "Pennsylvania           110.0  20.0\n",
              "Rhode Island             1.0   0.0\n",
              "South Carolina          15.0   3.0\n",
              "Tennessee               96.0  47.0\n",
              "Texas                   49.0  22.0\n",
              "Utah                    16.0   6.0\n",
              "Vermont                  2.0   1.0\n",
              "Virginia                49.0  11.0\n",
              "Washington              75.0  23.0\n",
              "West Virginia            8.0   3.0"
            ],
            "text/html": [
              "\n",
              "  <div id=\"df-48ed4533-5dd3-46f7-99e7-24fed32dfb36\">\n",
              "    <div class=\"colab-df-container\">\n",
              "      <div>\n",
              "<style scoped>\n",
              "    .dataframe tbody tr th:only-of-type {\n",
              "        vertical-align: middle;\n",
              "    }\n",
              "\n",
              "    .dataframe tbody tr th {\n",
              "        vertical-align: top;\n",
              "    }\n",
              "\n",
              "    .dataframe thead th {\n",
              "        text-align: right;\n",
              "    }\n",
              "</style>\n",
              "<table border=\"1\" class=\"dataframe\">\n",
              "  <thead>\n",
              "    <tr style=\"text-align: right;\">\n",
              "      <th>newStatus</th>\n",
              "      <th>Closed</th>\n",
              "      <th>Open</th>\n",
              "    </tr>\n",
              "    <tr>\n",
              "      <th>State</th>\n",
              "      <th></th>\n",
              "      <th></th>\n",
              "    </tr>\n",
              "  </thead>\n",
              "  <tbody>\n",
              "    <tr>\n",
              "      <th>Alabama</th>\n",
              "      <td>17.0</td>\n",
              "      <td>9.0</td>\n",
              "    </tr>\n",
              "    <tr>\n",
              "      <th>Arizona</th>\n",
              "      <td>14.0</td>\n",
              "      <td>6.0</td>\n",
              "    </tr>\n",
              "    <tr>\n",
              "      <th>Arkansas</th>\n",
              "      <td>6.0</td>\n",
              "      <td>0.0</td>\n",
              "    </tr>\n",
              "    <tr>\n",
              "      <th>California</th>\n",
              "      <td>159.0</td>\n",
              "      <td>61.0</td>\n",
              "    </tr>\n",
              "    <tr>\n",
              "      <th>Colorado</th>\n",
              "      <td>58.0</td>\n",
              "      <td>22.0</td>\n",
              "    </tr>\n",
              "    <tr>\n",
              "      <th>Connecticut</th>\n",
              "      <td>9.0</td>\n",
              "      <td>3.0</td>\n",
              "    </tr>\n",
              "    <tr>\n",
              "      <th>Delaware</th>\n",
              "      <td>8.0</td>\n",
              "      <td>4.0</td>\n",
              "    </tr>\n",
              "    <tr>\n",
              "      <th>District Of Columbia</th>\n",
              "      <td>14.0</td>\n",
              "      <td>2.0</td>\n",
              "    </tr>\n",
              "    <tr>\n",
              "      <th>District of Columbia</th>\n",
              "      <td>1.0</td>\n",
              "      <td>0.0</td>\n",
              "    </tr>\n",
              "    <tr>\n",
              "      <th>Florida</th>\n",
              "      <td>201.0</td>\n",
              "      <td>39.0</td>\n",
              "    </tr>\n",
              "    <tr>\n",
              "      <th>Georgia</th>\n",
              "      <td>208.0</td>\n",
              "      <td>80.0</td>\n",
              "    </tr>\n",
              "    <tr>\n",
              "      <th>Illinois</th>\n",
              "      <td>135.0</td>\n",
              "      <td>29.0</td>\n",
              "    </tr>\n",
              "    <tr>\n",
              "      <th>Indiana</th>\n",
              "      <td>50.0</td>\n",
              "      <td>9.0</td>\n",
              "    </tr>\n",
              "    <tr>\n",
              "      <th>Iowa</th>\n",
              "      <td>1.0</td>\n",
              "      <td>0.0</td>\n",
              "    </tr>\n",
              "    <tr>\n",
              "      <th>Kansas</th>\n",
              "      <td>1.0</td>\n",
              "      <td>1.0</td>\n",
              "    </tr>\n",
              "    <tr>\n",
              "      <th>Kentucky</th>\n",
              "      <td>4.0</td>\n",
              "      <td>3.0</td>\n",
              "    </tr>\n",
              "    <tr>\n",
              "      <th>Louisiana</th>\n",
              "      <td>12.0</td>\n",
              "      <td>1.0</td>\n",
              "    </tr>\n",
              "    <tr>\n",
              "      <th>Maine</th>\n",
              "      <td>3.0</td>\n",
              "      <td>2.0</td>\n",
              "    </tr>\n",
              "    <tr>\n",
              "      <th>Maryland</th>\n",
              "      <td>63.0</td>\n",
              "      <td>15.0</td>\n",
              "    </tr>\n",
              "    <tr>\n",
              "      <th>Massachusetts</th>\n",
              "      <td>50.0</td>\n",
              "      <td>11.0</td>\n",
              "    </tr>\n",
              "    <tr>\n",
              "      <th>Michigan</th>\n",
              "      <td>92.0</td>\n",
              "      <td>23.0</td>\n",
              "    </tr>\n",
              "    <tr>\n",
              "      <th>Minnesota</th>\n",
              "      <td>29.0</td>\n",
              "      <td>4.0</td>\n",
              "    </tr>\n",
              "    <tr>\n",
              "      <th>Mississippi</th>\n",
              "      <td>23.0</td>\n",
              "      <td>16.0</td>\n",
              "    </tr>\n",
              "    <tr>\n",
              "      <th>Missouri</th>\n",
              "      <td>3.0</td>\n",
              "      <td>1.0</td>\n",
              "    </tr>\n",
              "    <tr>\n",
              "      <th>Montana</th>\n",
              "      <td>1.0</td>\n",
              "      <td>0.0</td>\n",
              "    </tr>\n",
              "    <tr>\n",
              "      <th>Nevada</th>\n",
              "      <td>1.0</td>\n",
              "      <td>0.0</td>\n",
              "    </tr>\n",
              "    <tr>\n",
              "      <th>New Hampshire</th>\n",
              "      <td>8.0</td>\n",
              "      <td>4.0</td>\n",
              "    </tr>\n",
              "    <tr>\n",
              "      <th>New Jersey</th>\n",
              "      <td>56.0</td>\n",
              "      <td>19.0</td>\n",
              "    </tr>\n",
              "    <tr>\n",
              "      <th>New Mexico</th>\n",
              "      <td>11.0</td>\n",
              "      <td>4.0</td>\n",
              "    </tr>\n",
              "    <tr>\n",
              "      <th>New York</th>\n",
              "      <td>6.0</td>\n",
              "      <td>0.0</td>\n",
              "    </tr>\n",
              "    <tr>\n",
              "      <th>North Carolina</th>\n",
              "      <td>3.0</td>\n",
              "      <td>0.0</td>\n",
              "    </tr>\n",
              "    <tr>\n",
              "      <th>Ohio</th>\n",
              "      <td>3.0</td>\n",
              "      <td>0.0</td>\n",
              "    </tr>\n",
              "    <tr>\n",
              "      <th>Oregon</th>\n",
              "      <td>36.0</td>\n",
              "      <td>13.0</td>\n",
              "    </tr>\n",
              "    <tr>\n",
              "      <th>Pennsylvania</th>\n",
              "      <td>110.0</td>\n",
              "      <td>20.0</td>\n",
              "    </tr>\n",
              "    <tr>\n",
              "      <th>Rhode Island</th>\n",
              "      <td>1.0</td>\n",
              "      <td>0.0</td>\n",
              "    </tr>\n",
              "    <tr>\n",
              "      <th>South Carolina</th>\n",
              "      <td>15.0</td>\n",
              "      <td>3.0</td>\n",
              "    </tr>\n",
              "    <tr>\n",
              "      <th>Tennessee</th>\n",
              "      <td>96.0</td>\n",
              "      <td>47.0</td>\n",
              "    </tr>\n",
              "    <tr>\n",
              "      <th>Texas</th>\n",
              "      <td>49.0</td>\n",
              "      <td>22.0</td>\n",
              "    </tr>\n",
              "    <tr>\n",
              "      <th>Utah</th>\n",
              "      <td>16.0</td>\n",
              "      <td>6.0</td>\n",
              "    </tr>\n",
              "    <tr>\n",
              "      <th>Vermont</th>\n",
              "      <td>2.0</td>\n",
              "      <td>1.0</td>\n",
              "    </tr>\n",
              "    <tr>\n",
              "      <th>Virginia</th>\n",
              "      <td>49.0</td>\n",
              "      <td>11.0</td>\n",
              "    </tr>\n",
              "    <tr>\n",
              "      <th>Washington</th>\n",
              "      <td>75.0</td>\n",
              "      <td>23.0</td>\n",
              "    </tr>\n",
              "    <tr>\n",
              "      <th>West Virginia</th>\n",
              "      <td>8.0</td>\n",
              "      <td>3.0</td>\n",
              "    </tr>\n",
              "  </tbody>\n",
              "</table>\n",
              "</div>\n",
              "      <button class=\"colab-df-convert\" onclick=\"convertToInteractive('df-48ed4533-5dd3-46f7-99e7-24fed32dfb36')\"\n",
              "              title=\"Convert this dataframe to an interactive table.\"\n",
              "              style=\"display:none;\">\n",
              "        \n",
              "  <svg xmlns=\"http://www.w3.org/2000/svg\" height=\"24px\"viewBox=\"0 0 24 24\"\n",
              "       width=\"24px\">\n",
              "    <path d=\"M0 0h24v24H0V0z\" fill=\"none\"/>\n",
              "    <path d=\"M18.56 5.44l.94 2.06.94-2.06 2.06-.94-2.06-.94-.94-2.06-.94 2.06-2.06.94zm-11 1L8.5 8.5l.94-2.06 2.06-.94-2.06-.94L8.5 2.5l-.94 2.06-2.06.94zm10 10l.94 2.06.94-2.06 2.06-.94-2.06-.94-.94-2.06-.94 2.06-2.06.94z\"/><path d=\"M17.41 7.96l-1.37-1.37c-.4-.4-.92-.59-1.43-.59-.52 0-1.04.2-1.43.59L10.3 9.45l-7.72 7.72c-.78.78-.78 2.05 0 2.83L4 21.41c.39.39.9.59 1.41.59.51 0 1.02-.2 1.41-.59l7.78-7.78 2.81-2.81c.8-.78.8-2.07 0-2.86zM5.41 20L4 18.59l7.72-7.72 1.47 1.35L5.41 20z\"/>\n",
              "  </svg>\n",
              "      </button>\n",
              "      \n",
              "  <style>\n",
              "    .colab-df-container {\n",
              "      display:flex;\n",
              "      flex-wrap:wrap;\n",
              "      gap: 12px;\n",
              "    }\n",
              "\n",
              "    .colab-df-convert {\n",
              "      background-color: #E8F0FE;\n",
              "      border: none;\n",
              "      border-radius: 50%;\n",
              "      cursor: pointer;\n",
              "      display: none;\n",
              "      fill: #1967D2;\n",
              "      height: 32px;\n",
              "      padding: 0 0 0 0;\n",
              "      width: 32px;\n",
              "    }\n",
              "\n",
              "    .colab-df-convert:hover {\n",
              "      background-color: #E2EBFA;\n",
              "      box-shadow: 0px 1px 2px rgba(60, 64, 67, 0.3), 0px 1px 3px 1px rgba(60, 64, 67, 0.15);\n",
              "      fill: #174EA6;\n",
              "    }\n",
              "\n",
              "    [theme=dark] .colab-df-convert {\n",
              "      background-color: #3B4455;\n",
              "      fill: #D2E3FC;\n",
              "    }\n",
              "\n",
              "    [theme=dark] .colab-df-convert:hover {\n",
              "      background-color: #434B5C;\n",
              "      box-shadow: 0px 1px 3px 1px rgba(0, 0, 0, 0.15);\n",
              "      filter: drop-shadow(0px 1px 2px rgba(0, 0, 0, 0.3));\n",
              "      fill: #FFFFFF;\n",
              "    }\n",
              "  </style>\n",
              "\n",
              "      <script>\n",
              "        const buttonEl =\n",
              "          document.querySelector('#df-48ed4533-5dd3-46f7-99e7-24fed32dfb36 button.colab-df-convert');\n",
              "        buttonEl.style.display =\n",
              "          google.colab.kernel.accessAllowed ? 'block' : 'none';\n",
              "\n",
              "        async function convertToInteractive(key) {\n",
              "          const element = document.querySelector('#df-48ed4533-5dd3-46f7-99e7-24fed32dfb36');\n",
              "          const dataTable =\n",
              "            await google.colab.kernel.invokeFunction('convertToInteractive',\n",
              "                                                     [key], {});\n",
              "          if (!dataTable) return;\n",
              "\n",
              "          const docLinkHtml = 'Like what you see? Visit the ' +\n",
              "            '<a target=\"_blank\" href=https://colab.research.google.com/notebooks/data_table.ipynb>data table notebook</a>'\n",
              "            + ' to learn more about interactive tables.';\n",
              "          element.innerHTML = '';\n",
              "          dataTable['output_type'] = 'display_data';\n",
              "          await google.colab.output.renderOutput(dataTable, element);\n",
              "          const docLink = document.createElement('div');\n",
              "          docLink.innerHTML = docLinkHtml;\n",
              "          element.appendChild(docLink);\n",
              "        }\n",
              "      </script>\n",
              "    </div>\n",
              "  </div>\n",
              "  "
            ]
          },
          "metadata": {},
          "execution_count": 19
        }
      ]
    },
    {
      "cell_type": "code",
      "metadata": {
        "colab": {
          "base_uri": "https://localhost:8080/"
        },
        "id": "KKMAnk_pXXuG",
        "outputId": "44adb799-227f-4e80-fa9a-b3d5d8ade14e"
      },
      "source": [
        "df.groupby([\"State\",\"newStatus\"]).size().unstack().fillna(0).max()"
      ],
      "execution_count": null,
      "outputs": [
        {
          "output_type": "execute_result",
          "data": {
            "text/plain": [
              "newStatus\n",
              "Closed    208.0\n",
              "Open       80.0\n",
              "dtype: float64"
            ]
          },
          "metadata": {},
          "execution_count": 20
        }
      ]
    },
    {
      "cell_type": "code",
      "metadata": {
        "colab": {
          "base_uri": "https://localhost:8080/",
          "height": 1000
        },
        "id": "wq7kYTNURp12",
        "outputId": "52393cf1-fcde-4811-87da-93e37b94a834"
      },
      "source": [
        "Status_complaints.plot(kind=\"barh\", figsize=(30,50), stacked=True)"
      ],
      "execution_count": null,
      "outputs": [
        {
          "output_type": "execute_result",
          "data": {
            "text/plain": [
              "<AxesSubplot:ylabel='State'>"
            ]
          },
          "metadata": {},
          "execution_count": 21
        },
        {
          "output_type": "display_data",
          "data": {
            "text/plain": [
              "<Figure size 2160x3600 with 1 Axes>"
            ],
            "image/png": "[encoded data removed]"
          },
          "metadata": {
            "needs_background": "light"
          }
        }
      ]
    },
    {
      "cell_type": "code",
      "source": [
        "## Extra code done for participants\n",
        "##\n",
        "Status_complaints = df.groupby([\"State\",\"newStatus\"]).size().unstack().fillna(0)\n",
        "Status_complaints['% Unresolved Complaints']=np.divide(Status_complaints['Open'],np.add(Status_complaints['Open'],Status_complaints['Closed']))*100\n",
        "Status_complaints = Status_complaints.sort_values(by='% Unresolved Complaints',ascending=False)\n",
        "Status_complaints.head(6)\n",
        "\n",
        "## H.W\n",
        "## WE NEED to first filter our data on absolute basis and then apply above logic.\n",
        "## We would keep all those rows , where n(Open) > 0.5 * mean(Open)\n",
        "## Now apply above logic"
      ],
      "metadata": {
        "colab": {
          "base_uri": "https://localhost:8080/",
          "height": 269
        },
        "id": "GC12LQWjGkul",
        "outputId": "094974c8-9015-467b-b66a-ba4dd01c3cca"
      },
      "execution_count": null,
      "outputs": [
        {
          "output_type": "execute_result",
          "data": {
            "text/plain": [
              "newStatus    Closed  Open  % Unresolved Complaints\n",
              "State                                             \n",
              "Kansas          1.0   1.0                50.000000\n",
              "Kentucky        4.0   3.0                42.857143\n",
              "Mississippi    23.0  16.0                41.025641\n",
              "Maine           3.0   2.0                40.000000\n",
              "Alabama        17.0   9.0                34.615385\n",
              "Vermont         2.0   1.0                33.333333"
            ],
            "text/html": [
              "\n",
              "  <div id=\"df-27bc4eec-a1b8-4caf-a384-74993e53b3ff\">\n",
              "    <div class=\"colab-df-container\">\n",
              "      <div>\n",
              "<style scoped>\n",
              "    .dataframe tbody tr th:only-of-type {\n",
              "        vertical-align: middle;\n",
              "    }\n",
              "\n",
              "    .dataframe tbody tr th {\n",
              "        vertical-align: top;\n",
              "    }\n",
              "\n",
              "    .dataframe thead th {\n",
              "        text-align: right;\n",
              "    }\n",
              "</style>\n",
              "<table border=\"1\" class=\"dataframe\">\n",
              "  <thead>\n",
              "    <tr style=\"text-align: right;\">\n",
              "      <th>newStatus</th>\n",
              "      <th>Closed</th>\n",
              "      <th>Open</th>\n",
              "      <th>% Unresolved Complaints</th>\n",
              "    </tr>\n",
              "    <tr>\n",
              "      <th>State</th>\n",
              "      <th></th>\n",
              "      <th></th>\n",
              "      <th></th>\n",
              "    </tr>\n",
              "  </thead>\n",
              "  <tbody>\n",
              "    <tr>\n",
              "      <th>Kansas</th>\n",
              "      <td>1.0</td>\n",
              "      <td>1.0</td>\n",
              "      <td>50.000000</td>\n",
              "    </tr>\n",
              "    <tr>\n",
              "      <th>Kentucky</th>\n",
              "      <td>4.0</td>\n",
              "      <td>3.0</td>\n",
              "      <td>42.857143</td>\n",
              "    </tr>\n",
              "    <tr>\n",
              "      <th>Mississippi</th>\n",
              "      <td>23.0</td>\n",
              "      <td>16.0</td>\n",
              "      <td>41.025641</td>\n",
              "    </tr>\n",
              "    <tr>\n",
              "      <th>Maine</th>\n",
              "      <td>3.0</td>\n",
              "      <td>2.0</td>\n",
              "      <td>40.000000</td>\n",
              "    </tr>\n",
              "    <tr>\n",
              "      <th>Alabama</th>\n",
              "      <td>17.0</td>\n",
              "      <td>9.0</td>\n",
              "      <td>34.615385</td>\n",
              "    </tr>\n",
              "    <tr>\n",
              "      <th>Vermont</th>\n",
              "      <td>2.0</td>\n",
              "      <td>1.0</td>\n",
              "      <td>33.333333</td>\n",
              "    </tr>\n",
              "  </tbody>\n",
              "</table>\n",
              "</div>\n",
              "      <button class=\"colab-df-convert\" onclick=\"convertToInteractive('df-27bc4eec-a1b8-4caf-a384-74993e53b3ff')\"\n",
              "              title=\"Convert this dataframe to an interactive table.\"\n",
              "              style=\"display:none;\">\n",
              "        \n",
              "  <svg xmlns=\"http://www.w3.org/2000/svg\" height=\"24px\"viewBox=\"0 0 24 24\"\n",
              "       width=\"24px\">\n",
              "    <path d=\"M0 0h24v24H0V0z\" fill=\"none\"/>\n",
              "    <path d=\"M18.56 5.44l.94 2.06.94-2.06 2.06-.94-2.06-.94-.94-2.06-.94 2.06-2.06.94zm-11 1L8.5 8.5l.94-2.06 2.06-.94-2.06-.94L8.5 2.5l-.94 2.06-2.06.94zm10 10l.94 2.06.94-2.06 2.06-.94-2.06-.94-.94-2.06-.94 2.06-2.06.94z\"/><path d=\"M17.41 7.96l-1.37-1.37c-.4-.4-.92-.59-1.43-.59-.52 0-1.04.2-1.43.59L10.3 9.45l-7.72 7.72c-.78.78-.78 2.05 0 2.83L4 21.41c.39.39.9.59 1.41.59.51 0 1.02-.2 1.41-.59l7.78-7.78 2.81-2.81c.8-.78.8-2.07 0-2.86zM5.41 20L4 18.59l7.72-7.72 1.47 1.35L5.41 20z\"/>\n",
              "  </svg>\n",
              "      </button>\n",
              "      \n",
              "  <style>\n",
              "    .colab-df-container {\n",
              "      display:flex;\n",
              "      flex-wrap:wrap;\n",
              "      gap: 12px;\n",
              "    }\n",
              "\n",
              "    .colab-df-convert {\n",
              "      background-color: #E8F0FE;\n",
              "      border: none;\n",
              "      border-radius: 50%;\n",
              "      cursor: pointer;\n",
              "      display: none;\n",
              "      fill: #1967D2;\n",
              "      height: 32px;\n",
              "      padding: 0 0 0 0;\n",
              "      width: 32px;\n",
              "    }\n",
              "\n",
              "    .colab-df-convert:hover {\n",
              "      background-color: #E2EBFA;\n",
              "      box-shadow: 0px 1px 2px rgba(60, 64, 67, 0.3), 0px 1px 3px 1px rgba(60, 64, 67, 0.15);\n",
              "      fill: #174EA6;\n",
              "    }\n",
              "\n",
              "    [theme=dark] .colab-df-convert {\n",
              "      background-color: #3B4455;\n",
              "      fill: #D2E3FC;\n",
              "    }\n",
              "\n",
              "    [theme=dark] .colab-df-convert:hover {\n",
              "      background-color: #434B5C;\n",
              "      box-shadow: 0px 1px 3px 1px rgba(0, 0, 0, 0.15);\n",
              "      filter: drop-shadow(0px 1px 2px rgba(0, 0, 0, 0.3));\n",
              "      fill: #FFFFFF;\n",
              "    }\n",
              "  </style>\n",
              "\n",
              "      <script>\n",
              "        const buttonEl =\n",
              "          document.querySelector('#df-27bc4eec-a1b8-4caf-a384-74993e53b3ff button.colab-df-convert');\n",
              "        buttonEl.style.display =\n",
              "          google.colab.kernel.accessAllowed ? 'block' : 'none';\n",
              "\n",
              "        async function convertToInteractive(key) {\n",
              "          const element = document.querySelector('#df-27bc4eec-a1b8-4caf-a384-74993e53b3ff');\n",
              "          const dataTable =\n",
              "            await google.colab.kernel.invokeFunction('convertToInteractive',\n",
              "                                                     [key], {});\n",
              "          if (!dataTable) return;\n",
              "\n",
              "          const docLinkHtml = 'Like what you see? Visit the ' +\n",
              "            '<a target=\"_blank\" href=https://colab.research.google.com/notebooks/data_table.ipynb>data table notebook</a>'\n",
              "            + ' to learn more about interactive tables.';\n",
              "          element.innerHTML = '';\n",
              "          dataTable['output_type'] = 'display_data';\n",
              "          await google.colab.output.renderOutput(dataTable, element);\n",
              "          const docLink = document.createElement('div');\n",
              "          docLink.innerHTML = docLinkHtml;\n",
              "          element.appendChild(docLink);\n",
              "        }\n",
              "      </script>\n",
              "    </div>\n",
              "  </div>\n",
              "  "
            ]
          },
          "metadata": {},
          "execution_count": 22
        }
      ]
    },
    {
      "cell_type": "code",
      "source": [
        "## ans to above question\n",
        "Status_complaints[Status_complaints['Open'] > Status_complaints['Open'].mean()*0.5][:5]"
      ],
      "metadata": {
        "colab": {
          "base_uri": "https://localhost:8080/",
          "height": 238
        },
        "id": "kcPUHlLbqx0q",
        "outputId": "a9ba6bde-383a-4ef9-a9c3-0a9d36b6b732"
      },
      "execution_count": null,
      "outputs": [
        {
          "output_type": "execute_result",
          "data": {
            "text/plain": [
              "newStatus    Closed  Open  % Unresolved Complaints\n",
              "State                                             \n",
              "Mississippi    23.0  16.0                41.025641\n",
              "Alabama        17.0   9.0                34.615385\n",
              "Tennessee      96.0  47.0                32.867133\n",
              "Texas          49.0  22.0                30.985915\n",
              "Georgia       208.0  80.0                27.777778"
            ],
            "text/html": [
              "\n",
              "  <div id=\"df-6eec0180-87e1-4c34-ae91-2693e6547669\">\n",
              "    <div class=\"colab-df-container\">\n",
              "      <div>\n",
              "<style scoped>\n",
              "    .dataframe tbody tr th:only-of-type {\n",
              "        vertical-align: middle;\n",
              "    }\n",
              "\n",
              "    .dataframe tbody tr th {\n",
              "        vertical-align: top;\n",
              "    }\n",
              "\n",
              "    .dataframe thead th {\n",
              "        text-align: right;\n",
              "    }\n",
              "</style>\n",
              "<table border=\"1\" class=\"dataframe\">\n",
              "  <thead>\n",
              "    <tr style=\"text-align: right;\">\n",
              "      <th>newStatus</th>\n",
              "      <th>Closed</th>\n",
              "      <th>Open</th>\n",
              "      <th>% Unresolved Complaints</th>\n",
              "    </tr>\n",
              "    <tr>\n",
              "      <th>State</th>\n",
              "      <th></th>\n",
              "      <th></th>\n",
              "      <th></th>\n",
              "    </tr>\n",
              "  </thead>\n",
              "  <tbody>\n",
              "    <tr>\n",
              "      <th>Mississippi</th>\n",
              "      <td>23.0</td>\n",
              "      <td>16.0</td>\n",
              "      <td>41.025641</td>\n",
              "    </tr>\n",
              "    <tr>\n",
              "      <th>Alabama</th>\n",
              "      <td>17.0</td>\n",
              "      <td>9.0</td>\n",
              "      <td>34.615385</td>\n",
              "    </tr>\n",
              "    <tr>\n",
              "      <th>Tennessee</th>\n",
              "      <td>96.0</td>\n",
              "      <td>47.0</td>\n",
              "      <td>32.867133</td>\n",
              "    </tr>\n",
              "    <tr>\n",
              "      <th>Texas</th>\n",
              "      <td>49.0</td>\n",
              "      <td>22.0</td>\n",
              "      <td>30.985915</td>\n",
              "    </tr>\n",
              "    <tr>\n",
              "      <th>Georgia</th>\n",
              "      <td>208.0</td>\n",
              "      <td>80.0</td>\n",
              "      <td>27.777778</td>\n",
              "    </tr>\n",
              "  </tbody>\n",
              "</table>\n",
              "</div>\n",
              "      <button class=\"colab-df-convert\" onclick=\"convertToInteractive('df-6eec0180-87e1-4c34-ae91-2693e6547669')\"\n",
              "              title=\"Convert this dataframe to an interactive table.\"\n",
              "              style=\"display:none;\">\n",
              "        \n",
              "  <svg xmlns=\"http://www.w3.org/2000/svg\" height=\"24px\"viewBox=\"0 0 24 24\"\n",
              "       width=\"24px\">\n",
              "    <path d=\"M0 0h24v24H0V0z\" fill=\"none\"/>\n",
              "    <path d=\"M18.56 5.44l.94 2.06.94-2.06 2.06-.94-2.06-.94-.94-2.06-.94 2.06-2.06.94zm-11 1L8.5 8.5l.94-2.06 2.06-.94-2.06-.94L8.5 2.5l-.94 2.06-2.06.94zm10 10l.94 2.06.94-2.06 2.06-.94-2.06-.94-.94-2.06-.94 2.06-2.06.94z\"/><path d=\"M17.41 7.96l-1.37-1.37c-.4-.4-.92-.59-1.43-.59-.52 0-1.04.2-1.43.59L10.3 9.45l-7.72 7.72c-.78.78-.78 2.05 0 2.83L4 21.41c.39.39.9.59 1.41.59.51 0 1.02-.2 1.41-.59l7.78-7.78 2.81-2.81c.8-.78.8-2.07 0-2.86zM5.41 20L4 18.59l7.72-7.72 1.47 1.35L5.41 20z\"/>\n",
              "  </svg>\n",
              "      </button>\n",
              "      \n",
              "  <style>\n",
              "    .colab-df-container {\n",
              "      display:flex;\n",
              "      flex-wrap:wrap;\n",
              "      gap: 12px;\n",
              "    }\n",
              "\n",
              "    .colab-df-convert {\n",
              "      background-color: #E8F0FE;\n",
              "      border: none;\n",
              "      border-radius: 50%;\n",
              "      cursor: pointer;\n",
              "      display: none;\n",
              "      fill: #1967D2;\n",
              "      height: 32px;\n",
              "      padding: 0 0 0 0;\n",
              "      width: 32px;\n",
              "    }\n",
              "\n",
              "    .colab-df-convert:hover {\n",
              "      background-color: #E2EBFA;\n",
              "      box-shadow: 0px 1px 2px rgba(60, 64, 67, 0.3), 0px 1px 3px 1px rgba(60, 64, 67, 0.15);\n",
              "      fill: #174EA6;\n",
              "    }\n",
              "\n",
              "    [theme=dark] .colab-df-convert {\n",
              "      background-color: #3B4455;\n",
              "      fill: #D2E3FC;\n",
              "    }\n",
              "\n",
              "    [theme=dark] .colab-df-convert:hover {\n",
              "      background-color: #434B5C;\n",
              "      box-shadow: 0px 1px 3px 1px rgba(0, 0, 0, 0.15);\n",
              "      filter: drop-shadow(0px 1px 2px rgba(0, 0, 0, 0.3));\n",
              "      fill: #FFFFFF;\n",
              "    }\n",
              "  </style>\n",
              "\n",
              "      <script>\n",
              "        const buttonEl =\n",
              "          document.querySelector('#df-6eec0180-87e1-4c34-ae91-2693e6547669 button.colab-df-convert');\n",
              "        buttonEl.style.display =\n",
              "          google.colab.kernel.accessAllowed ? 'block' : 'none';\n",
              "\n",
              "        async function convertToInteractive(key) {\n",
              "          const element = document.querySelector('#df-6eec0180-87e1-4c34-ae91-2693e6547669');\n",
              "          const dataTable =\n",
              "            await google.colab.kernel.invokeFunction('convertToInteractive',\n",
              "                                                     [key], {});\n",
              "          if (!dataTable) return;\n",
              "\n",
              "          const docLinkHtml = 'Like what you see? Visit the ' +\n",
              "            '<a target=\"_blank\" href=https://colab.research.google.com/notebooks/data_table.ipynb>data table notebook</a>'\n",
              "            + ' to learn more about interactive tables.';\n",
              "          element.innerHTML = '';\n",
              "          dataTable['output_type'] = 'display_data';\n",
              "          await google.colab.output.renderOutput(dataTable, element);\n",
              "          const docLink = document.createElement('div');\n",
              "          docLink.innerHTML = docLinkHtml;\n",
              "          element.appendChild(docLink);\n",
              "        }\n",
              "      </script>\n",
              "    </div>\n",
              "  </div>\n",
              "  "
            ]
          },
          "metadata": {},
          "execution_count": 23
        }
      ]
    },
    {
      "cell_type": "markdown",
      "metadata": {
        "id": "JEMackR5W-jV"
      },
      "source": [
        "**`IMP` ▶** Provide a table with the frequency of complaint types. Which complaint types are maximum i.e., around internet, network issues, or across any other domains.\n",
        "\n",
        "To solve the above problem we need to get deeper into GENSIM.  \n",
        "\n",
        "## Gensim - Topic Modeling for Humans\n",
        "\n",
        "<font color='red'><b>1. What is gensim?</b></font>\n",
        "\n",
        "Gensim is a `Natural Language Processing` package that does ‘Topic Modeling for Humans’ and much more.\n",
        "\n",
        "Topic modeling, is a technique to extract the underlying topics from large volumes of text. Gensim provides algorithms like **LDA** and **LSI** to do it.\n",
        "\n",
        "> **LDA stands for Linear Discriminant Analysis**\n",
        "\n",
        "> **LSI stands for Latent semantic analysis**\n",
        "\n",
        "<font color='red'><b>2. What is a Dictionary and Corpus?</b></font>\n",
        "\n",
        "In order to work on text documents, Gensim requires the words (aka tokens) be converted to unique ids. In order to achieve that, Gensim lets you create a Dictionary object that maps each word to a unique id.\n",
        "\n",
        "<font color='red'>So, how to create a Dictionary?</font>\n",
        "\n",
        "By converting your text/sentences to a [list of words] and pass it to the corpora.Dictionary() object.\n",
        "\n",
        "The dictionary object is typically used to create a ‘bag of words’ Corpus. <font color='green'><b>It is this Dictionary and the bag-of-words (Corpus) that are used as inputs to topic modeling and other models that Gensim specializes in</b></font>.\n",
        "\n",
        "> <font color='red'>What sort of text inputs can gensim handle?</font>\n",
        "\n",
        "The input text typically comes in 3 different forms:\n",
        "\n",
        "> As sentences stored in python’s native list object\n",
        "\n",
        "> As one single text file, small or large.\n",
        "\n",
        "> In multiple text files.\n",
        "\n",
        "<font color='green'><b>Some NLP jargon.</b></font>\n",
        "\n",
        "> A ‘token’ typically means a ‘word’.\n",
        "\n",
        "> A ‘document’ can typically refer to a ‘sentence’ or ‘paragraph’ and a\n",
        "\n",
        "> ‘corpus’ is typically a ‘collection of documents as a bag of words’.\n",
        "\n",
        "**NOTE** : *For each document, a corpus contains each word’s id and its frequency count in that document. As a result, information of the order of words is lost.*\n",
        "\n",
        "<font color='red'><b>3. How to create a Dictionary from a list of sentences? </b></font>\n",
        "\n",
        "In gensim, the dictionary contains a map of all words (tokens) to its unique id."
      ]
    },
    {
      "cell_type": "code",
      "source": [
        "import gensim\n",
        "from gensim import corpora\n",
        "from pprint import pprint\n",
        "\n",
        "# How to create a dictionary from a list of sentences?\n",
        "documents = [\"Natural language processing is a subfield of linguistics,\",\n",
        "             \"computer science, and artificial intelligence concerned with the\",\n",
        "             \"interactions between computers and human language, in particular \",\n",
        "             \"how to program computers to process and analyze large amounts of natural language data.\"]\n",
        "\n",
        "documents_2 = [\"Data science is an interdisciplinary field that uses scientific\",\n",
        "                \"methods, processes, algorithms and systems to extract knowledge and insights from noisy, structured and unstructured data, \",\n",
        "                \"and apply knowledge and actionable insights from data across a broad range of application domains.\",\n",
        "              ]\n",
        "\n",
        "# Tokenize(split) the sentences into words\n",
        "texts = [[text for text in doc.split()] for doc in documents]\n",
        "print(texts)\n",
        "\n",
        "# Create dictionary\n",
        "dictionary = corpora.Dictionary(texts)\n",
        "\n",
        "# Get information about the dictionary\n",
        "print(dictionary)"
      ],
      "metadata": {
        "colab": {
          "base_uri": "https://localhost:8080/"
        },
        "id": "Q57w6X8DFuen",
        "outputId": "000ecbf6-a928-4494-acf7-8b27c6ebcc6b"
      },
      "execution_count": null,
      "outputs": [
        {
          "output_type": "stream",
          "name": "stdout",
          "text": [
            "[['Natural', 'language', 'processing', 'is', 'a', 'subfield', 'of', 'linguistics,'], ['computer', 'science,', 'and', 'artificial', 'intelligence', 'concerned', 'with', 'the'], ['interactions', 'between', 'computers', 'and', 'human', 'language,', 'in', 'particular'], ['how', 'to', 'program', 'computers', 'to', 'process', 'and', 'analyze', 'large', 'amounts', 'of', 'natural', 'language', 'data.']]\n",
            "Dictionary(32 unique tokens: ['Natural', 'a', 'is', 'language', 'linguistics,']...)\n"
          ]
        }
      ]
    },
    {
      "cell_type": "code",
      "source": [
        "## As it says the dictionary has 32 unique tokens (or words).\n",
        "## Let’s see the unique ids for each of these tokens.\n",
        "\n",
        "# Show the word to id map\n",
        "print(dictionary.token2id)"
      ],
      "metadata": {
        "colab": {
          "base_uri": "https://localhost:8080/"
        },
        "id": "ZMVw4DIxF5XO",
        "outputId": "2092783c-8f65-444d-99bb-7c5ec25fc65d"
      },
      "execution_count": null,
      "outputs": [
        {
          "output_type": "stream",
          "name": "stdout",
          "text": [
            "{'Natural': 0, 'a': 1, 'is': 2, 'language': 3, 'linguistics,': 4, 'of': 5, 'processing': 6, 'subfield': 7, 'and': 8, 'artificial': 9, 'computer': 10, 'concerned': 11, 'intelligence': 12, 'science,': 13, 'the': 14, 'with': 15, 'between': 16, 'computers': 17, 'human': 18, 'in': 19, 'interactions': 20, 'language,': 21, 'particular': 22, 'amounts': 23, 'analyze': 24, 'data.': 25, 'how': 26, 'large': 27, 'natural': 28, 'process': 29, 'program': 30, 'to': 31}\n"
          ]
        }
      ]
    },
    {
      "cell_type": "markdown",
      "source": [
        "We have successfully created a Dictionary object. Gensim will use this dictionary to create a bag-of-words corpus where the words in the documents are replaced with its respective id provided by this dictionary.\n",
        "\n",
        "If you get new documents in the future, it is also possible to update an existing dictionary to include the new words."
      ],
      "metadata": {
        "id": "eG4q-ehuGFja"
      }
    },
    {
      "cell_type": "code",
      "source": [
        "documents_2 = [\"Latent semantic indexing (LSI) is an indexing and retrieval method\",\n",
        "               \"that uses a mathematical technique called singular value decomposition (SVD)\",\n",
        "               \" to identify patterns in the relationships between the terms and concepts\",\n",
        "               \" contained in an unstructured collection of text.\"]\n",
        "\n",
        "texts_2 = [[text for text in doc.split()] for doc in documents_2]\n",
        "\n",
        "dictionary.add_documents(texts_2)\n",
        "\n",
        "# If you check now, the dictionary should have been updated with the new words (tokens).\n",
        "print(dictionary)\n",
        "\n",
        "print(dictionary.token2id)"
      ],
      "metadata": {
        "colab": {
          "base_uri": "https://localhost:8080/"
        },
        "id": "rgqUF-tfGJNo",
        "outputId": "7734050f-bde0-4aa9-b78b-4cf1d185c6e3"
      },
      "execution_count": null,
      "outputs": [
        {
          "output_type": "stream",
          "name": "stdout",
          "text": [
            "Dictionary(57 unique tokens: ['Natural', 'a', 'is', 'language', 'linguistics,']...)\n",
            "{'Natural': 0, 'a': 1, 'is': 2, 'language': 3, 'linguistics,': 4, 'of': 5, 'processing': 6, 'subfield': 7, 'and': 8, 'artificial': 9, 'computer': 10, 'concerned': 11, 'intelligence': 12, 'science,': 13, 'the': 14, 'with': 15, 'between': 16, 'computers': 17, 'human': 18, 'in': 19, 'interactions': 20, 'language,': 21, 'particular': 22, 'amounts': 23, 'analyze': 24, 'data.': 25, 'how': 26, 'large': 27, 'natural': 28, 'process': 29, 'program': 30, 'to': 31, '(LSI)': 32, 'Latent': 33, 'an': 34, 'indexing': 35, 'method': 36, 'retrieval': 37, 'semantic': 38, '(SVD)': 39, 'called': 40, 'decomposition': 41, 'mathematical': 42, 'singular': 43, 'technique': 44, 'that': 45, 'uses': 46, 'value': 47, 'concepts': 48, 'identify': 49, 'patterns': 50, 'relationships': 51, 'terms': 52, 'collection': 53, 'contained': 54, 'text.': 55, 'unstructured': 56}\n"
          ]
        }
      ]
    },
    {
      "cell_type": "markdown",
      "source": [
        "<font color='red'><b> 4. How to create a bag of words corpus in gensim? </b></font>\n",
        "\n",
        "The next important object you need to familiarize with in order to work in gensim is the Corpus (a Bag of Words). That is, it is a corpus object that contains the word id and its frequency in each document. You can think of it as gensim’s equivalent of a Document-Term matrix."
      ],
      "metadata": {
        "id": "Y0s9uwnmG0ZT"
      }
    },
    {
      "cell_type": "code",
      "source": [
        "## a dummy Example\n",
        "# List with 2 sentences\n",
        "my_docs = [\"Who let the cats out?\",\n",
        "           \"Who? Who? Who? Who?\"]\n",
        "\n",
        "# Tokenize the docs\n",
        "from gensim.utils import simple_preprocess\n",
        "## Convert a document into a list of tokens.\n",
        "tokenized_list = [simple_preprocess(doc) for doc in my_docs]\n",
        "print(tokenized_list)\n",
        "\n",
        "# Create the Corpus\n",
        "mydict = corpora.Dictionary()\n",
        "mycorpus = [mydict.doc2bow(doc, allow_update=True) for doc in tokenized_list]\n",
        "pprint(mycorpus)"
      ],
      "metadata": {
        "colab": {
          "base_uri": "https://localhost:8080/"
        },
        "id": "uHJo_cOxHNmr",
        "outputId": "948de358-5bbe-4ff4-f5cf-23c393040a92"
      },
      "execution_count": null,
      "outputs": [
        {
          "output_type": "stream",
          "name": "stdout",
          "text": [
            "[['who', 'let', 'the', 'cats', 'out'], ['who', 'who', 'who', 'who']]\n",
            "[[(0, 1), (1, 1), (2, 1), (3, 1), (4, 1)], [(4, 4)]]\n"
          ]
        }
      ]
    },
    {
      "cell_type": "markdown",
      "source": [
        "**`How to interpret the above corpus?`**\n",
        "\n",
        "The (0, 1) in line 1 means, the word with id=0 appears once in the 1st document.\n",
        "\n",
        "Likewise, the (4, 4) in the second list item means the word with id 4 appears 4 times in the second document. And so on.\n",
        "\n",
        "Well, this is not human readable. To convert the id’s to words, you will need the dictionary to do the conversion.\n",
        "\n",
        "Let’s see how to get the original texts back."
      ],
      "metadata": {
        "id": "_JoxUO6NHlBi"
      }
    },
    {
      "cell_type": "code",
      "source": [
        "word_counts = [[(mydict[id], count) for id, count in line] for line in mycorpus]\n",
        "pprint(word_counts)"
      ],
      "metadata": {
        "colab": {
          "base_uri": "https://localhost:8080/"
        },
        "id": "pjW-fmRkH9wJ",
        "outputId": "6f83ed9c-51b1-463c-d818-48f2f6f89793"
      },
      "execution_count": null,
      "outputs": [
        {
          "output_type": "stream",
          "name": "stdout",
          "text": [
            "[[('cats', 1), ('let', 1), ('out', 1), ('the', 1), ('who', 1)], [('who', 4)]]\n"
          ]
        }
      ]
    },
    {
      "cell_type": "markdown",
      "source": [
        "<font color='red'><b>5. How to save a gensim dictionary and corpus to disk and load them back?</b></font>\n",
        "\n",
        "<pre>\n",
        "# Save the Dict and Corpus\n",
        "mydict.save('suven1.dict')  # save dict to disk\n",
        "corpora.MmCorpus.serialize('bow_corpus.mm', mycorpus)  # save corpus to disk\n",
        "</pre>"
      ],
      "metadata": {
        "id": "aIaO_MdRIkww"
      }
    },
    {
      "cell_type": "code",
      "source": [
        "mydict.save('suven1.dict')  # save dict to disk\n",
        "corpora.MmCorpus.serialize('bow_corpus.mm', mycorpus)  # save corpus to disk\n",
        "\n",
        "## An MM file contains a \"mind map,\"\n",
        "## which is a visual diagram that consists of text, nodes, branches, shapes,\n",
        "## and icons that represent ideas.\n"
      ],
      "metadata": {
        "id": "w1fzg0K3JNdQ"
      },
      "execution_count": null,
      "outputs": []
    },
    {
      "cell_type": "code",
      "source": [
        "## We have saved the dictionary and corpus objects. Let’s load them back.\n",
        "\n",
        "# Load them back\n",
        "loaded_dict = corpora.Dictionary.load('suven1.dict')\n",
        "print(loaded_dict)\n",
        "\n",
        "corpus = corpora.MmCorpus('bow_corpus.mm')\n",
        "for line in corpus:\n",
        "    print(line)"
      ],
      "metadata": {
        "colab": {
          "base_uri": "https://localhost:8080/"
        },
        "id": "f22lKAFeJPk-",
        "outputId": "41f72b3d-4d75-4be3-b5cc-18797580a86a"
      },
      "execution_count": null,
      "outputs": [
        {
          "output_type": "stream",
          "name": "stdout",
          "text": [
            "Dictionary(5 unique tokens: ['cats', 'let', 'out', 'the', 'who'])\n",
            "[(0, 1.0), (1, 1.0), (2, 1.0), (3, 1.0), (4, 1.0)]\n",
            "[(4, 4.0)]\n"
          ]
        }
      ]
    },
    {
      "cell_type": "markdown",
      "source": [
        "<font color='red'><b>6. How to create the TFIDF matrix (corpus) in gensim? </b></font>\n",
        "\n",
        "The Term Frequency – Inverse Document Frequency(TF-IDF) is also a bag-of-words model but unlike the regular corpus, TFIDF down weights tokens (words) that appears frequently across documents."
      ],
      "metadata": {
        "id": "9rXcc9-TJfz_"
      }
    },
    {
      "cell_type": "code",
      "source": [
        "## So, how to get the TFIDF weights?\n",
        "\n",
        "## By training the corpus with models.TfidfModel().\n",
        "## Then, apply the corpus within the square brackets\n",
        "## of the trained tfidf model. See a dummy example below.\n",
        "\n",
        "from gensim import models\n",
        "import numpy as np\n",
        "\n",
        "documents = [\"This is the first line\",\n",
        "             \"This is the second sentence\",\n",
        "             \"This third document\"]\n",
        "\n",
        "# Create the Dictionary and Corpus\n",
        "mydict = corpora.Dictionary([simple_preprocess(line) for line in documents])\n",
        "corpus = [mydict.doc2bow(simple_preprocess(line)) for line in documents]\n",
        "\n",
        "# Show the Word Weights in Corpus\n",
        "for doc in corpus:\n",
        "    print([[mydict[id], freq] for id, freq in doc])\n",
        "\n",
        "# Create the TF-IDF model\n",
        "tfidf = models.TfidfModel(corpus, smartirs='ntc') ## ## https://radimrehurek.com/gensim/models/tfidfmodel.html\n",
        "## smartirs='ntc' is default value\n",
        "\n",
        "print(\"------------------------------------------\")\n",
        "print(\"------------------------------------------\")\n",
        "\n",
        "# Show the TF-IDF weights\n",
        "for doc in tfidf[corpus]:\n",
        "    print([[mydict[id], np.around(freq, decimals=2)] for id, freq in doc])\n",
        "\n",
        "\n",
        "## Notice the difference in weights of the words between the original corpus and the tfidf weighted corpus.\n",
        "## The words ‘is’ and ‘the’ occur in two documents and were weighted down.\n",
        "## The word ‘this’ appearing in all three documents was removed altogether.\n",
        "## In simple terms, words that occur more frequently across the documents get smaller weights."
      ],
      "metadata": {
        "colab": {
          "base_uri": "https://localhost:8080/"
        },
        "id": "4ME1eGaCKKmM",
        "outputId": "673adc46-fef4-4e9c-daaa-3f357be871fa"
      },
      "execution_count": null,
      "outputs": [
        {
          "output_type": "stream",
          "name": "stdout",
          "text": [
            "[['first', 1], ['is', 1], ['line', 1], ['the', 1], ['this', 1]]\n",
            "[['is', 1], ['the', 1], ['this', 1], ['second', 1], ['sentence', 1]]\n",
            "[['this', 1], ['document', 1], ['third', 1]]\n",
            "------------------------------------------\n",
            "------------------------------------------\n",
            "[['first', 0.66], ['is', 0.24], ['line', 0.66], ['the', 0.24]]\n",
            "[['is', 0.24], ['the', 0.24], ['second', 0.66], ['sentence', 0.66]]\n",
            "[['document', 0.71], ['third', 0.71]]\n"
          ]
        }
      ]
    },
    {
      "cell_type": "markdown",
      "source": [
        "<hr />\n",
        "\n",
        "### Above Information is enough to solve the last part of this case study , where , we have to find the major categories of complaints.\n",
        "\n",
        "**Note** : `Customer complaint column contains Text words hence its a NLP problem-solving`\n",
        "\n",
        "<hr />"
      ],
      "metadata": {
        "id": "M2XMmHjALCR0"
      }
    },
    {
      "cell_type": "code",
      "metadata": {
        "colab": {
          "base_uri": "https://localhost:8080/"
        },
        "id": "kaVjfcEiYKWe",
        "outputId": "7532d6f4-e15a-45fd-e66d-9d416f15b476"
      },
      "source": [
        "from nltk.corpus import stopwords\n",
        "from nltk.stem.wordnet import WordNetLemmatizer\n",
        "import string\n",
        "\n",
        "import nltk\n",
        "nltk.download('stopwords')\n",
        "\n",
        "stop = set(stopwords.words('english'))\n",
        "exclude = set(string.punctuation)\n",
        "lemma = WordNetLemmatizer()"
      ],
      "execution_count": null,
      "outputs": [
        {
          "output_type": "stream",
          "name": "stderr",
          "text": [
            "[nltk_data] Downloading package stopwords to /root/nltk_data...\n",
            "[nltk_data]   Unzipping corpora/stopwords.zip.\n"
          ]
        }
      ]
    },
    {
      "cell_type": "markdown",
      "source": [
        "### Stemming vs. Lemmatization\n",
        "\n",
        "<img src=\"https://drive.google.com/uc?id=1zzZ_2FqReCbUmARvN9xvrrPIL8MyKVPI\">\n",
        "\n",
        "<hr />\n",
        "\n",
        "<img src=\"https://drive.google.com/uc?id=1Hyz3QLypFR1Ccwi2yRvLDH8314EVjyO3\">\n",
        "\n"
      ],
      "metadata": {
        "id": "bHhDOFxQOwKf"
      }
    },
    {
      "cell_type": "code",
      "metadata": {
        "id": "qudNa7dlYcsn"
      },
      "source": [
        "def clean(doc):\n",
        "    stop_free = \" \".join([i for i in doc.lower().split() if i not in stop])\n",
        "    punc_free = \"\".join([ch for ch in stop_free if ch not in exclude])\n",
        "    normalised = \" \".join(lemma.lemmatize(word) for word in punc_free.split())\n",
        "    return normalised"
      ],
      "execution_count": null,
      "outputs": []
    },
    {
      "cell_type": "code",
      "metadata": {
        "colab": {
          "base_uri": "https://localhost:8080/"
        },
        "id": "7pKlAdhKYiTK",
        "outputId": "57e42781-6469-44cf-9707-ea57cff95940"
      },
      "source": [
        "import nltk\n",
        "nltk.download('wordnet')\n",
        "nltk.download('omw-1.4')\n",
        "\n",
        "doc_complete = df[\"Customer Complaint\"].tolist()\n",
        "doc_clean = [clean(doc).split() for doc in doc_complete]"
      ],
      "execution_count": null,
      "outputs": [
        {
          "output_type": "stream",
          "name": "stderr",
          "text": [
            "[nltk_data] Downloading package wordnet to /root/nltk_data...\n",
            "[nltk_data] Downloading package omw-1.4 to /root/nltk_data...\n"
          ]
        }
      ]
    },
    {
      "cell_type": "code",
      "metadata": {
        "id": "_sGJ5vI5Y3Xa"
      },
      "source": [
        "import gensim\n",
        "from gensim import corpora"
      ],
      "execution_count": null,
      "outputs": []
    },
    {
      "cell_type": "code",
      "metadata": {
        "colab": {
          "base_uri": "https://localhost:8080/"
        },
        "id": "QMMrlz1XaYQ6",
        "outputId": "f835bc1f-26d4-4972-c619-8c6d0b7181ce"
      },
      "source": [
        "dictionary = corpora.Dictionary(doc_clean)\n",
        "print(dictionary)"
      ],
      "execution_count": null,
      "outputs": [
        {
          "output_type": "stream",
          "name": "stdout",
          "text": [
            "Dictionary(1412 unique tokens: ['cable', 'comcast', 'internet', 'speed', 'disappear']...)\n"
          ]
        }
      ]
    },
    {
      "cell_type": "code",
      "metadata": {
        "colab": {
          "base_uri": "https://localhost:8080/"
        },
        "id": "N_OWmSq6awmY",
        "outputId": "1e12c296-4db5-4066-ae65-f5213b2c8128"
      },
      "source": [
        "doc_term_matrix = [dictionary.doc2bow(doc) for doc in doc_clean]\n",
        "doc_term_matrix[:10]"
      ],
      "execution_count": null,
      "outputs": [
        {
          "output_type": "execute_result",
          "data": {
            "text/plain": [
              "[[(0, 1), (1, 1), (2, 1), (3, 1)],\n",
              " [(4, 1), (5, 1), (6, 1), (7, 1), (8, 1)],\n",
              " [(3, 1), (8, 1)],\n",
              " [(1, 1), (9, 1), (10, 1), (11, 1), (12, 1), (13, 1), (14, 1), (15, 1)],\n",
              " [(1, 1), (8, 1), (16, 1), (17, 1)],\n",
              " [(18, 1), (19, 1), (20, 1), (21, 1), (22, 1), (23, 1), (24, 1)],\n",
              " [(8, 1), (10, 1), (20, 1), (25, 1), (26, 1)],\n",
              " [(1, 1), (8, 1), (27, 1), (28, 1), (29, 1), (30, 1)],\n",
              " [(1, 1), (31, 1), (32, 1)],\n",
              " [(1, 1), (33, 1), (34, 1), (35, 1), (36, 1)]]"
            ]
          },
          "metadata": {},
          "execution_count": 35
        }
      ]
    },
    {
      "cell_type": "code",
      "metadata": {
        "id": "532FJu4-buxV"
      },
      "source": [
        "from gensim.models import LdaModel"
      ],
      "execution_count": null,
      "outputs": []
    },
    {
      "cell_type": "code",
      "metadata": {
        "id": "YPtWm4KObwbN"
      },
      "source": [
        "Num_Topic = 9\n",
        "ldamodel = LdaModel(doc_term_matrix, num_topics= Num_Topic, id2word = dictionary, passes= 30)"
      ],
      "execution_count": null,
      "outputs": []
    },
    {
      "cell_type": "code",
      "metadata": {
        "colab": {
          "base_uri": "https://localhost:8080/"
        },
        "id": "kFvmxq_Zb-q0",
        "outputId": "8fa4ae2a-c5a5-40ae-805a-ce3e93187199"
      },
      "source": [
        "topics = ldamodel.show_topics()\n",
        "for topic in topics:\n",
        "    print(topic)\n",
        "    print()"
      ],
      "execution_count": null,
      "outputs": [
        {
          "output_type": "stream",
          "name": "stdout",
          "text": [
            "(0, '0.096*\"comcast\" + 0.046*\"xfinity\" + 0.033*\"false\" + 0.033*\"price\" + 0.027*\"deceptive\" + 0.021*\"monopoly\" + 0.020*\"switch\" + 0.018*\"limit\" + 0.017*\"cramming\" + 0.016*\"contract\"')\n",
            "\n",
            "(1, '0.152*\"billing\" + 0.138*\"comcast\" + 0.083*\"service\" + 0.057*\"issue\" + 0.040*\"practice\" + 0.025*\"unfair\" + 0.016*\"customer\" + 0.015*\"bill\" + 0.012*\"failure\" + 0.011*\"business\"')\n",
            "\n",
            "(2, '0.044*\"comcast\" + 0.041*\"connection\" + 0.028*\"refund\" + 0.026*\"day\" + 0.024*\"appointment\" + 0.024*\"unreliable\" + 0.023*\"signal\" + 0.022*\"several\" + 0.022*\"show\" + 0.020*\"fee\"')\n",
            "\n",
            "(3, '0.240*\"comcast\" + 0.079*\"complaint\" + 0.058*\"charge\" + 0.031*\"bill\" + 0.031*\"pricing\" + 0.016*\"fee\" + 0.016*\"account\" + 0.016*\"credit\" + 0.015*\"back\" + 0.015*\"unfair\"')\n",
            "\n",
            "(4, '0.052*\"comcast\" + 0.028*\"bandwidth\" + 0.026*\"monthly\" + 0.026*\"service\" + 0.026*\"contract\" + 0.025*\"without\" + 0.025*\"email\" + 0.025*\"xfinitycomcast\" + 0.024*\"increased\" + 0.023*\"month\"')\n",
            "\n",
            "(5, '0.198*\"data\" + 0.160*\"cap\" + 0.137*\"comcast\" + 0.038*\"usage\" + 0.032*\"internet\" + 0.017*\"overage\" + 0.013*\"broadband\" + 0.010*\"charge\" + 0.010*\"phone\" + 0.010*\"availability\"')\n",
            "\n",
            "(6, '0.257*\"service\" + 0.127*\"internet\" + 0.097*\"comcast\" + 0.029*\"poor\" + 0.024*\"customer\" + 0.019*\"problem\" + 0.019*\"comcastxfinity\" + 0.017*\"terrible\" + 0.015*\"outage\" + 0.013*\"home\"')\n",
            "\n",
            "(7, '0.192*\"internet\" + 0.131*\"speed\" + 0.082*\"comcast\" + 0.040*\"slow\" + 0.020*\"cable\" + 0.018*\"monopolistic\" + 0.018*\"paying\" + 0.014*\"connectivity\" + 0.013*\"bill\" + 0.013*\"price\"')\n",
            "\n",
            "(8, '0.121*\"comcast\" + 0.091*\"throttling\" + 0.055*\"internet\" + 0.031*\"charging\" + 0.021*\"shitty\" + 0.020*\"quality\" + 0.015*\"disconnection\" + 0.013*\"area\" + 0.013*\"much\" + 0.013*\"download\"')\n",
            "\n"
          ]
        }
      ]
    },
    {
      "cell_type": "code",
      "metadata": {
        "id": "oRuhSm6QcNrS"
      },
      "source": [
        "word_dict = {}\n",
        "for i in range(Num_Topic):\n",
        "    words = ldamodel.show_topic(i, topn =10)\n",
        "    word_dict[\"Topic # \" + \"{}\".format(i)] = [i[0] for i in words]"
      ],
      "execution_count": null,
      "outputs": []
    },
    {
      "cell_type": "code",
      "metadata": {
        "colab": {
          "base_uri": "https://localhost:8080/",
          "height": 444
        },
        "id": "Xfzk2byleBjF",
        "outputId": "e0df09a5-d815-48e7-ce6e-01b6f610065e"
      },
      "source": [
        "pd.DataFrame(word_dict)"
      ],
      "execution_count": null,
      "outputs": [
        {
          "output_type": "execute_result",
          "data": {
            "text/plain": [
              "   Topic # 0 Topic # 1    Topic # 2  Topic # 3       Topic # 4     Topic # 5  \\\n",
              "0    comcast   billing      comcast    comcast         comcast          data   \n",
              "1    xfinity   comcast   connection  complaint       bandwidth           cap   \n",
              "2      false   service       refund     charge         monthly       comcast   \n",
              "3      price     issue          day       bill         service         usage   \n",
              "4  deceptive  practice  appointment    pricing        contract      internet   \n",
              "5   monopoly    unfair   unreliable        fee         without       overage   \n",
              "6     switch  customer       signal    account           email     broadband   \n",
              "7      limit      bill      several     credit  xfinitycomcast        charge   \n",
              "8   cramming   failure         show       back       increased         phone   \n",
              "9   contract  business          fee     unfair           month  availability   \n",
              "\n",
              "        Topic # 6     Topic # 7      Topic # 8  \n",
              "0         service      internet        comcast  \n",
              "1        internet         speed     throttling  \n",
              "2         comcast       comcast       internet  \n",
              "3            poor          slow       charging  \n",
              "4        customer         cable         shitty  \n",
              "5         problem  monopolistic        quality  \n",
              "6  comcastxfinity        paying  disconnection  \n",
              "7        terrible  connectivity           area  \n",
              "8          outage          bill           much  \n",
              "9            home         price       download  "
            ],
            "text/html": [
              "\n",
              "  <div id=\"df-b99fc28b-3f3e-4602-a8de-d36ef728b450\">\n",
              "    <div class=\"colab-df-container\">\n",
              "      <div>\n",
              "<style scoped>\n",
              "    .dataframe tbody tr th:only-of-type {\n",
              "        vertical-align: middle;\n",
              "    }\n",
              "\n",
              "    .dataframe tbody tr th {\n",
              "        vertical-align: top;\n",
              "    }\n",
              "\n",
              "    .dataframe thead th {\n",
              "        text-align: right;\n",
              "    }\n",
              "</style>\n",
              "<table border=\"1\" class=\"dataframe\">\n",
              "  <thead>\n",
              "    <tr style=\"text-align: right;\">\n",
              "      <th></th>\n",
              "      <th>Topic # 0</th>\n",
              "      <th>Topic # 1</th>\n",
              "      <th>Topic # 2</th>\n",
              "      <th>Topic # 3</th>\n",
              "      <th>Topic # 4</th>\n",
              "      <th>Topic # 5</th>\n",
              "      <th>Topic # 6</th>\n",
              "      <th>Topic # 7</th>\n",
              "      <th>Topic # 8</th>\n",
              "    </tr>\n",
              "  </thead>\n",
              "  <tbody>\n",
              "    <tr>\n",
              "      <th>0</th>\n",
              "      <td>comcast</td>\n",
              "      <td>billing</td>\n",
              "      <td>comcast</td>\n",
              "      <td>comcast</td>\n",
              "      <td>comcast</td>\n",
              "      <td>data</td>\n",
              "      <td>service</td>\n",
              "      <td>internet</td>\n",
              "      <td>comcast</td>\n",
              "    </tr>\n",
              "    <tr>\n",
              "      <th>1</th>\n",
              "      <td>xfinity</td>\n",
              "      <td>comcast</td>\n",
              "      <td>connection</td>\n",
              "      <td>complaint</td>\n",
              "      <td>bandwidth</td>\n",
              "      <td>cap</td>\n",
              "      <td>internet</td>\n",
              "      <td>speed</td>\n",
              "      <td>throttling</td>\n",
              "    </tr>\n",
              "    <tr>\n",
              "      <th>2</th>\n",
              "      <td>false</td>\n",
              "      <td>service</td>\n",
              "      <td>refund</td>\n",
              "      <td>charge</td>\n",
              "      <td>monthly</td>\n",
              "      <td>comcast</td>\n",
              "      <td>comcast</td>\n",
              "      <td>comcast</td>\n",
              "      <td>internet</td>\n",
              "    </tr>\n",
              "    <tr>\n",
              "      <th>3</th>\n",
              "      <td>price</td>\n",
              "      <td>issue</td>\n",
              "      <td>day</td>\n",
              "      <td>bill</td>\n",
              "      <td>service</td>\n",
              "      <td>usage</td>\n",
              "      <td>poor</td>\n",
              "      <td>slow</td>\n",
              "      <td>charging</td>\n",
              "    </tr>\n",
              "    <tr>\n",
              "      <th>4</th>\n",
              "      <td>deceptive</td>\n",
              "      <td>practice</td>\n",
              "      <td>appointment</td>\n",
              "      <td>pricing</td>\n",
              "      <td>contract</td>\n",
              "      <td>internet</td>\n",
              "      <td>customer</td>\n",
              "      <td>cable</td>\n",
              "      <td>shitty</td>\n",
              "    </tr>\n",
              "    <tr>\n",
              "      <th>5</th>\n",
              "      <td>monopoly</td>\n",
              "      <td>unfair</td>\n",
              "      <td>unreliable</td>\n",
              "      <td>fee</td>\n",
              "      <td>without</td>\n",
              "      <td>overage</td>\n",
              "      <td>problem</td>\n",
              "      <td>monopolistic</td>\n",
              "      <td>quality</td>\n",
              "    </tr>\n",
              "    <tr>\n",
              "      <th>6</th>\n",
              "      <td>switch</td>\n",
              "      <td>customer</td>\n",
              "      <td>signal</td>\n",
              "      <td>account</td>\n",
              "      <td>email</td>\n",
              "      <td>broadband</td>\n",
              "      <td>comcastxfinity</td>\n",
              "      <td>paying</td>\n",
              "      <td>disconnection</td>\n",
              "    </tr>\n",
              "    <tr>\n",
              "      <th>7</th>\n",
              "      <td>limit</td>\n",
              "      <td>bill</td>\n",
              "      <td>several</td>\n",
              "      <td>credit</td>\n",
              "      <td>xfinitycomcast</td>\n",
              "      <td>charge</td>\n",
              "      <td>terrible</td>\n",
              "      <td>connectivity</td>\n",
              "      <td>area</td>\n",
              "    </tr>\n",
              "    <tr>\n",
              "      <th>8</th>\n",
              "      <td>cramming</td>\n",
              "      <td>failure</td>\n",
              "      <td>show</td>\n",
              "      <td>back</td>\n",
              "      <td>increased</td>\n",
              "      <td>phone</td>\n",
              "      <td>outage</td>\n",
              "      <td>bill</td>\n",
              "      <td>much</td>\n",
              "    </tr>\n",
              "    <tr>\n",
              "      <th>9</th>\n",
              "      <td>contract</td>\n",
              "      <td>business</td>\n",
              "      <td>fee</td>\n",
              "      <td>unfair</td>\n",
              "      <td>month</td>\n",
              "      <td>availability</td>\n",
              "      <td>home</td>\n",
              "      <td>price</td>\n",
              "      <td>download</td>\n",
              "    </tr>\n",
              "  </tbody>\n",
              "</table>\n",
              "</div>\n",
              "      <button class=\"colab-df-convert\" onclick=\"convertToInteractive('df-b99fc28b-3f3e-4602-a8de-d36ef728b450')\"\n",
              "              title=\"Convert this dataframe to an interactive table.\"\n",
              "              style=\"display:none;\">\n",
              "        \n",
              "  <svg xmlns=\"http://www.w3.org/2000/svg\" height=\"24px\"viewBox=\"0 0 24 24\"\n",
              "       width=\"24px\">\n",
              "    <path d=\"M0 0h24v24H0V0z\" fill=\"none\"/>\n",
              "    <path d=\"M18.56 5.44l.94 2.06.94-2.06 2.06-.94-2.06-.94-.94-2.06-.94 2.06-2.06.94zm-11 1L8.5 8.5l.94-2.06 2.06-.94-2.06-.94L8.5 2.5l-.94 2.06-2.06.94zm10 10l.94 2.06.94-2.06 2.06-.94-2.06-.94-.94-2.06-.94 2.06-2.06.94z\"/><path d=\"M17.41 7.96l-1.37-1.37c-.4-.4-.92-.59-1.43-.59-.52 0-1.04.2-1.43.59L10.3 9.45l-7.72 7.72c-.78.78-.78 2.05 0 2.83L4 21.41c.39.39.9.59 1.41.59.51 0 1.02-.2 1.41-.59l7.78-7.78 2.81-2.81c.8-.78.8-2.07 0-2.86zM5.41 20L4 18.59l7.72-7.72 1.47 1.35L5.41 20z\"/>\n",
              "  </svg>\n",
              "      </button>\n",
              "      \n",
              "  <style>\n",
              "    .colab-df-container {\n",
              "      display:flex;\n",
              "      flex-wrap:wrap;\n",
              "      gap: 12px;\n",
              "    }\n",
              "\n",
              "    .colab-df-convert {\n",
              "      background-color: #E8F0FE;\n",
              "      border: none;\n",
              "      border-radius: 50%;\n",
              "      cursor: pointer;\n",
              "      display: none;\n",
              "      fill: #1967D2;\n",
              "      height: 32px;\n",
              "      padding: 0 0 0 0;\n",
              "      width: 32px;\n",
              "    }\n",
              "\n",
              "    .colab-df-convert:hover {\n",
              "      background-color: #E2EBFA;\n",
              "      box-shadow: 0px 1px 2px rgba(60, 64, 67, 0.3), 0px 1px 3px 1px rgba(60, 64, 67, 0.15);\n",
              "      fill: #174EA6;\n",
              "    }\n",
              "\n",
              "    [theme=dark] .colab-df-convert {\n",
              "      background-color: #3B4455;\n",
              "      fill: #D2E3FC;\n",
              "    }\n",
              "\n",
              "    [theme=dark] .colab-df-convert:hover {\n",
              "      background-color: #434B5C;\n",
              "      box-shadow: 0px 1px 3px 1px rgba(0, 0, 0, 0.15);\n",
              "      filter: drop-shadow(0px 1px 2px rgba(0, 0, 0, 0.3));\n",
              "      fill: #FFFFFF;\n",
              "    }\n",
              "  </style>\n",
              "\n",
              "      <script>\n",
              "        const buttonEl =\n",
              "          document.querySelector('#df-b99fc28b-3f3e-4602-a8de-d36ef728b450 button.colab-df-convert');\n",
              "        buttonEl.style.display =\n",
              "          google.colab.kernel.accessAllowed ? 'block' : 'none';\n",
              "\n",
              "        async function convertToInteractive(key) {\n",
              "          const element = document.querySelector('#df-b99fc28b-3f3e-4602-a8de-d36ef728b450');\n",
              "          const dataTable =\n",
              "            await google.colab.kernel.invokeFunction('convertToInteractive',\n",
              "                                                     [key], {});\n",
              "          if (!dataTable) return;\n",
              "\n",
              "          const docLinkHtml = 'Like what you see? Visit the ' +\n",
              "            '<a target=\"_blank\" href=https://colab.research.google.com/notebooks/data_table.ipynb>data table notebook</a>'\n",
              "            + ' to learn more about interactive tables.';\n",
              "          element.innerHTML = '';\n",
              "          dataTable['output_type'] = 'display_data';\n",
              "          await google.colab.output.renderOutput(dataTable, element);\n",
              "          const docLink = document.createElement('div');\n",
              "          docLink.innerHTML = docLinkHtml;\n",
              "          element.appendChild(docLink);\n",
              "        }\n",
              "      </script>\n",
              "    </div>\n",
              "  </div>\n",
              "  "
            ]
          },
          "metadata": {},
          "execution_count": 41
        }
      ]
    },
    {
      "cell_type": "markdown",
      "source": [
        "Basics of LDA - Topic Modelling ▶\n",
        "\n",
        "<img src=\"https://drive.google.com/uc?id=1HGeJgyYHXk0qirx3WMaGAwAkirwbks8b\">\n",
        "\n",
        "Extra Reading Resource - https://www.knowledgehut.com/blog/data-science/linear-discriminant-analysis-for-machine-learning"
      ],
      "metadata": {
        "id": "HsXoneXtxwVL"
      }
    }
  ]
}