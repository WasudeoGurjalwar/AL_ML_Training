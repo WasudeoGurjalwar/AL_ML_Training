{
  "nbformat": 4,
  "nbformat_minor": 0,
  "metadata": {
    "kernelspec": {
      "display_name": "Python 3",
      "language": "python",
      "name": "python3"
    },
    "language_info": {
      "codemirror_mode": {
        "name": "ipython",
        "version": 3
      },
      "file_extension": ".py",
      "mimetype": "text/x-python",
      "name": "python",
      "nbconvert_exporter": "python",
      "pygments_lexer": "ipython3",
      "version": "3.6.8"
    },
    "colab": {
      "provenance": [],
      "include_colab_link": true
    }
  },
  "cells": [
    {
      "cell_type": "markdown",
      "metadata": {
        "id": "view-in-github",
        "colab_type": "text"
      },
      "source": [
        "<a href=\"https://colab.research.google.com/github/WasudeoGurjalwar/AL_ML_Training/blob/main/AICTE_FDP_K_Means_Clustering_Unsupervised_ML_Algo.ipynb\" target=\"_parent\"><img src=\"https://colab.research.google.com/assets/colab-badge.svg\" alt=\"Open In Colab\"/></a>"
      ]
    },
    {
      "cell_type": "markdown",
      "metadata": {
        "id": "KGwtxO-nc75N"
      },
      "source": [
        "K-Means Clustering with Scikit-Learn\n",
        "-----------------------------------------------------"
      ]
    },
    {
      "cell_type": "markdown",
      "metadata": {
        "id": "eDpl-N5Fc75S"
      },
      "source": [
        "<font color='green'><b>K-means clustering is one of the most widely used unsupervised machine learning algorithms that forms clusters of data based on the similarity between data instances.</b></font> For this particular algorithm to work, the number of clusters has to be defined beforehand. The **`K`** in the K-means refers to the <u>number of clusters</u>.\n",
        "\n",
        "The K-means algorithm starts by randomly choosing a centroid value for each cluster. After that the algorithm iteratively performs three steps:\n",
        "\n",
        "(i) Find the **`Euclidean distance`** between each data instance and centroids of all the clusters.\n",
        "\n",
        "(ii) Assign the data instances to the cluster of the centroid with **`nearest distance`**.\n",
        "\n",
        "(iii) Calculate **`new centroid values`** based on the mean values of the coordinates of all the data instances from the corresponding cluster."
      ]
    },
    {
      "cell_type": "markdown",
      "metadata": {
        "id": "a4q544Wtc75U"
      },
      "source": [
        "A Simple Example\n",
        "--------------------------\n",
        "Let's try to see how the K-means algorithm works with the help of a handcrafted example, before implementing the algorithm in Scikit-Learn.\n",
        "\n",
        "We have a set of the following two dimensional data instances named **`D`**."
      ]
    },
    {
      "cell_type": "code",
      "metadata": {
        "id": "I_zOPEAGc75W"
      },
      "source": [
        "D = { (5,3), (10,15), (15,12), (24,10), (30,45), (85,70), (71,80), (60,78), (55,52), (80,91) }\n",
        "\n",
        "# We want to divide this data into two clusters,\n",
        "# C1 and C2 based on the similarity between the data points."
      ],
      "execution_count": null,
      "outputs": []
    },
    {
      "cell_type": "markdown",
      "metadata": {
        "id": "YwLYCWIpc75d"
      },
      "source": [
        "The first step is to randomly initialize values for the centroids of both clusters. Let's name centroids of clusters <font color='green'>C1 and C2 as c1 and c2</font> and initialize them with the values of the first two data points\n",
        "i.e. (5, 3) and (10, 15)."
      ]
    },
    {
      "cell_type": "markdown",
      "metadata": {
        "id": "NJGE7cNcc75e"
      },
      "source": [
        "![Iteration_1_K_means_algo](https://drive.google.com/uc?id=1uzb4HC6oxVimCvKjVOWL8r9rKMp1ycfW 'Iteration_1_K_means_algo')"
      ]
    },
    {
      "cell_type": "markdown",
      "metadata": {
        "id": "G7a1gxUNc75g"
      },
      "source": [
        "After assigning data points to the corresponding clusters, the next step is to calculate the new centroid values. These values are calculated by finding the mean of the coordinates of the data points that belong to a particular cluster.\n",
        "\n",
        "For cluster C1, there is currently only one point i.e. (5,3), therefore the mean of the coordinates remain same and the new centroid value for c1 will also be (5,3).\n",
        "\n",
        "For C2, there are currently 9 data points. We name the coordinates of data points as x and y. The new value for x coordinate of centroid c2 can be calculated by determining the mean of x coordinates of all 9 points that belong to cluster C2 as given below:\n",
        "\n",
        "<b>c2(x)</b> = (10 + 15 + 24 + 30 + 85 + 71 + 60 + 55 + 80) / 9 = 47.77  \n",
        "The new value for y coordinate of centroid c2 can be calculated by determining the mean of all y coordinates of all 9 points that belong to cluster C2.\n",
        "\n",
        "<b>c2(y)</b> = (15 + 12 + 10 + 45 + 70 + 80 + 78 + 52 + 91) / 9 = 50.33  \n",
        "\n",
        "<font color='green'>The updated centroid value for c2 will now be <b>{47.77, 50.33}</b>.</font>"
      ]
    },
    {
      "cell_type": "markdown",
      "metadata": {
        "id": "SXUXS6Cqc75i"
      },
      "source": [
        "For the next iteration, the new centroid values for c1 and c2 will be used and the whole process will be repeated. The iterations continue until the centroid values stop updating."
      ]
    },
    {
      "cell_type": "markdown",
      "metadata": {
        "id": "98S1TgJhc75k"
      },
      "source": [
        "![Iteration_2_K_means_algo](https://drive.google.com/uc?id=1uNw6RwkUbWuwteBV95yOnrg8slJnMc96 'Iteration_2_K_means_algo')"
      ]
    },
    {
      "cell_type": "markdown",
      "metadata": {
        "id": "JIz-pRfLc75m"
      },
      "source": [
        "<b>c1(x)</b> = (5, 10, 15, 24) / 4 = 13.5   <br>\n",
        "<b>c1(y)</b> = (3, 15, 12, 10) / 4 = 10.0   <br>\n",
        ">Updated c1 to be (13.5, 10.0).\n",
        "\n",
        "<b>c2(x)</b> = (30 + 85 + 71 + 60 + 55 + 80) / 6 = 63.5  <br>\n",
        "<b>c2(y)</b> = (45 + 70 + 80 + 78 + 52 +91) / 6 = 69.33  <br>\n",
        "> Updated c2 to be (63.5, 69.33)."
      ]
    },
    {
      "cell_type": "markdown",
      "metadata": {
        "id": "W-EfjfN6c75o"
      },
      "source": [
        "![Iteration_3_K_means_algo](https://drive.google.com/uc?id=1g2TCXfMriBQkWD_WCeOhJRO1Eq6aN443 'Iteration_3_K_means_algo')"
      ]
    },
    {
      "cell_type": "markdown",
      "metadata": {
        "id": "r3IYVTkCc75q"
      },
      "source": [
        "<b>c1(x)</b> = (5, 10, 15, 24, 30) / 5 = 16.8  <br>\n",
        "<b>c1(y)</b> = (3, 15, 12, 10, 45) / 5 = 17.0  <br>\n",
        "> Updated c1 to be (16.8, 17.0)\n",
        "\n",
        "<b>c2(x)</b> = (85 + 71 + 60 + 55 + 80) / 5 = 70.2 <br>\n",
        "<b>c2(y)</b> = (70 + 80 + 78 + 52 + 91) / 5 = 74.2 <br>\n",
        "> Updated c2 to be (70.2, 74.2)."
      ]
    },
    {
      "cell_type": "markdown",
      "metadata": {
        "id": "MENg5luUc75r"
      },
      "source": [
        "![Iteration_4_K_means_algo](https://drive.google.com/uc?id=1c7raBUh8KwdlFAO2Di18EYOcuIll65uB 'Iteration_4_K_means_algo')"
      ]
    },
    {
      "cell_type": "markdown",
      "metadata": {
        "id": "yKNlUVLwc75t"
      },
      "source": [
        "At the end of fourth iteration, the updated values of C1 and C2 are same as they were at the end of the third iteration. This means that data cannot be clustered any further. c1 and c2 are the centroids for C1 and C2. To classify a new data point, the distance between the data point and the centroids of the clusters is calculated. Data point is assigned to the cluster whose centroid is closest to the data point."
      ]
    },
    {
      "cell_type": "markdown",
      "metadata": {
        "id": "MSl-ydPac75v"
      },
      "source": [
        "K-means Clustering with Scikit-Learn\n",
        "-----------------------------------------------------\n",
        "Now that we know how the K-means clustering algorithm actually works, let's see how we can implement it with Scikit-Learn."
      ]
    },
    {
      "cell_type": "code",
      "metadata": {
        "id": "tZYeTTq_c75w",
        "outputId": "273efc76-4fec-451d-9784-2fb55a73a4ee",
        "colab": {
          "base_uri": "https://localhost:8080/",
          "height": 430
        }
      },
      "source": [
        "import matplotlib.pyplot as plt\n",
        "%matplotlib inline\n",
        "import numpy as np\n",
        "from sklearn.cluster import KMeans\n",
        "\n",
        "# prepare the data that we want to cluster\n",
        "X = np.array([[5,3],\n",
        "     [10,15],\n",
        "     [15,12],\n",
        "     [24,10],\n",
        "     [30,45],\n",
        "     [85,70],\n",
        "     [71,80],\n",
        "     [60,78],\n",
        "     [55,52],\n",
        "     [80,91],])\n",
        "\n",
        "# Visualize the Data\n",
        "plt.scatter(X[:,0],X[:,1], label='True Position')\n",
        "plt.show()"
      ],
      "execution_count": null,
      "outputs": [
        {
          "output_type": "display_data",
          "data": {
            "text/plain": [
              "<Figure size 640x480 with 1 Axes>"
            ],
            "image/png": "[encoded data removed]"
          },
          "metadata": {}
        }
      ]
    },
    {
      "cell_type": "code",
      "metadata": {
        "id": "2cDfZsmyc754",
        "outputId": "28c2bd2b-c460-427e-ccc0-7394d3408de8",
        "colab": {
          "base_uri": "https://localhost:8080/"
        }
      },
      "source": [
        "# Create Clusters. Assume with no. of clusters = 2\n",
        "kmeans = KMeans(n_clusters=2, n_init = 'auto')\n",
        "kmeans.fit(X)\n",
        "\n",
        "# see what centroid values the algorithm generated for the final clusters\n",
        "print(kmeans.cluster_centers_)"
      ],
      "execution_count": null,
      "outputs": [
        {
          "output_type": "stream",
          "name": "stdout",
          "text": [
            "[[16.8 17. ]\n",
            " [70.2 74.2]]\n"
          ]
        }
      ]
    },
    {
      "cell_type": "markdown",
      "metadata": {
        "id": "WzTD1kb7c75_"
      },
      "source": [
        "<font color='green'>Observation</font> : Here the first row contains values for the coordinates of the first centroid i.e. <b>(16.8 , 17)</b> and the second row contains values for the coordinates of the other centroid i.e. <b>(70.2, 74.2)</b>. You can see that these values are similar to what we calculated manually for centroids c1 and c2 in the last section."
      ]
    },
    {
      "cell_type": "code",
      "metadata": {
        "id": "5IPqWOp8c76B",
        "outputId": "d8c6fa8a-e563-4fbb-891c-8d4adadf7ede",
        "colab": {
          "base_uri": "https://localhost:8080/"
        }
      },
      "source": [
        "# To see the labels for the data point, execute the following script.\n",
        "print(kmeans.labels_)\n",
        "\n",
        "# The output is a one dimensional array of 10 elements corresponding\n",
        "# to the clusters assigned to our 10 data points."
      ],
      "execution_count": null,
      "outputs": [
        {
          "output_type": "stream",
          "name": "stdout",
          "text": [
            "[0 0 0 0 0 1 1 1 1 1]\n"
          ]
        }
      ]
    },
    {
      "cell_type": "markdown",
      "metadata": {
        "id": "LWx-k6KXc76G"
      },
      "source": [
        "<font color='green'>Observation</font> : Here the first five points have been clustered together and the last five points have been clustered. Here 0 and 1 are merely used to represent cluster IDs and have no mathematical significance."
      ]
    },
    {
      "cell_type": "code",
      "metadata": {
        "id": "44HhEpHlc76I",
        "outputId": "fcd6230a-9149-4742-e6d7-46f1e12a1a8a",
        "colab": {
          "base_uri": "https://localhost:8080/",
          "height": 447
        }
      },
      "source": [
        "# Let's plot the data points again on the graph and\n",
        "# visualize how the data has been clustered.\n",
        "\n",
        "plt.scatter(X[:,0],X[:,1], c=kmeans.labels_, cmap='rainbow')\n",
        "# Here c parameter indicates color\n",
        "# cmap means color map. There are some predefined color templates."
      ],
      "execution_count": null,
      "outputs": [
        {
          "output_type": "execute_result",
          "data": {
            "text/plain": [
              "<matplotlib.collections.PathCollection at 0x7cd62a22bf10>"
            ]
          },
          "metadata": {},
          "execution_count": 5
        },
        {
          "output_type": "display_data",
          "data": {
            "text/plain": [
              "<Figure size 640x480 with 1 Axes>"
            ],
            "image/png": "[encoded data removed]"
          },
          "metadata": {}
        }
      ]
    },
    {
      "cell_type": "code",
      "metadata": {
        "id": "4YXSykKMc76O",
        "outputId": "430a3cc4-90bf-4efa-8e50-9b0db7b55987",
        "colab": {
          "base_uri": "https://localhost:8080/",
          "height": 430
        }
      },
      "source": [
        "# execute K-means algorithm with three clusters and see the output graph\n",
        "kmeans = KMeans(n_clusters=3, n_init = 'auto')\n",
        "kmeans.fit(X)\n",
        "\n",
        "plt.scatter(X[:,0],X[:,1], c=kmeans.labels_ , cmap='rainbow');\n",
        "# visualise the 3 clusters. Imagine 3 circles , one at lower left near origin having 4 points,\n",
        "# second circle in center having 2 points and third circle having 4 points."
      ],
      "execution_count": null,
      "outputs": [
        {
          "output_type": "display_data",
          "data": {
            "text/plain": [
              "<Figure size 640x480 with 1 Axes>"
            ],
            "image/png": "[encoded data removed]"
          },
          "metadata": {}
        }
      ]
    },
    {
      "cell_type": "code",
      "metadata": {
        "id": "dunKKh-yc76T",
        "outputId": "8430616f-69dc-462e-99b1-f30105c977fa",
        "colab": {
          "base_uri": "https://localhost:8080/",
          "height": 430
        }
      },
      "source": [
        "# let's plot the points along with the centroid coordinates\n",
        "# of each cluster to see how the centroid positions effects clustering.\n",
        "\n",
        "plt.scatter(X[:,0], X[:,1], c=kmeans.labels_, cmap='rainbow')\n",
        "plt.scatter(kmeans.cluster_centers_[ : ,0] ,kmeans.cluster_centers_[ : ,1], color='black');"
      ],
      "execution_count": null,
      "outputs": [
        {
          "output_type": "display_data",
          "data": {
            "text/plain": [
              "<Figure size 640x480 with 1 Axes>"
            ],
            "image/png": "[encoded data removed]"
          },
          "metadata": {}
        }
      ]
    },
    {
      "cell_type": "code",
      "source": [
        "print(kmeans.labels_) ## print the labels in 3 clusters\n",
        "print(kmeans.cluster_centers_)"
      ],
      "metadata": {
        "colab": {
          "base_uri": "https://localhost:8080/"
        },
        "id": "-xzIaUC-c-sg",
        "outputId": "350f2d61-efcd-4d08-8bd5-419104155ac0"
      },
      "execution_count": null,
      "outputs": [
        {
          "output_type": "stream",
          "name": "stdout",
          "text": [
            "[0 0 0 0 2 1 1 1 2 1]\n",
            "[[13.5  10.  ]\n",
            " [74.   79.75]\n",
            " [42.5  48.5 ]]\n"
          ]
        }
      ]
    },
    {
      "cell_type": "markdown",
      "metadata": {
        "id": "crGgKHhJE9AH"
      },
      "source": [
        "<font color='red'><b>Could you test for some new points ?</b></font>\n",
        "\n"
      ]
    },
    {
      "cell_type": "code",
      "metadata": {
        "id": "cmB9HJ_OE7aP",
        "outputId": "13c3679f-3354-4d23-c407-c545fc3c1a5d",
        "colab": {
          "base_uri": "https://localhost:8080/"
        }
      },
      "source": [
        "# lets define some test Points\n",
        "Xtest = np.array([[4,5], [67,80]])\n",
        "\n",
        "# use the above model kmeans with n_clusters = 3 to classify these points into correct cluster.\n",
        "testClassification = kmeans.predict(Xtest)\n",
        "\n",
        "testClassification"
      ],
      "execution_count": null,
      "outputs": [
        {
          "output_type": "execute_result",
          "data": {
            "text/plain": [
              "array([0, 1], dtype=int32)"
            ]
          },
          "metadata": {},
          "execution_count": 8
        }
      ]
    },
    {
      "cell_type": "markdown",
      "metadata": {
        "id": "4-3T4T4LGSFi"
      },
      "source": [
        "<font color='green'><b>Observation :</b></font> Both the test points are classified to be in **Cluster 0**. See plot below where we have the **original points** , **centroid of each cluster** and the **test points** also."
      ]
    },
    {
      "cell_type": "code",
      "metadata": {
        "id": "wWBTidiJGUej",
        "outputId": "c6e5fb93-2a93-4bd0-b7a7-f8c06ff6b129",
        "colab": {
          "base_uri": "https://localhost:8080/",
          "height": 499
        }
      },
      "source": [
        "# execute K-means algorithm with three clusters and see the above points correctly classified in respective clusters\n",
        "kmeans = KMeans(n_clusters=3, n_init = 'auto')\n",
        "kmeans.fit(X)\n",
        "\n",
        "Xtest = np.array([[4,5], [70,75],])\n",
        "kmeans.predict(Xtest)\n",
        "\n",
        "# plotting the original points\n",
        "plt.scatter(X[:,0],X[:,1], cmap='rainbow')\n",
        "\n",
        "# plotting the test points into the correct cluster\n",
        "plt.scatter(Xtest[:,0],Xtest[:,1], cmap='rainbow')\n",
        "\n",
        "# plotting the centroid points\n",
        "plt.scatter(X[:,0], X[:,1], c=kmeans.labels_, cmap='rainbow')\n",
        "plt.scatter(kmeans.cluster_centers_[:,0] ,kmeans.cluster_centers_[:,1], color='black');"
      ],
      "execution_count": null,
      "outputs": [
        {
          "output_type": "stream",
          "name": "stderr",
          "text": [
            "<ipython-input-9-f7b6f27c41e0>:9: UserWarning: No data for colormapping provided via 'c'. Parameters 'cmap' will be ignored\n",
            "  plt.scatter(X[:,0],X[:,1], cmap='rainbow')\n",
            "<ipython-input-9-f7b6f27c41e0>:12: UserWarning: No data for colormapping provided via 'c'. Parameters 'cmap' will be ignored\n",
            "  plt.scatter(Xtest[:,0],Xtest[:,1], cmap='rainbow')\n"
          ]
        },
        {
          "output_type": "display_data",
          "data": {
            "text/plain": [
              "<Figure size 640x480 with 1 Axes>"
            ],
            "image/png": "[encoded data removed]"
          },
          "metadata": {}
        }
      ]
    },
    {
      "cell_type": "markdown",
      "metadata": {
        "id": "3pLtDSLcHuUP"
      },
      "source": [
        "<font color='red'><b><h3><u>Case Study</u></h3></b></font>\n",
        "**(follow hints & solve `within` 25 mins. Make sure of watching the video on `finding n_clusters using Elbow method` )**\n",
        "\n"
      ]
    },
    {
      "cell_type": "code",
      "metadata": {
        "id": "2W2mYtNxIWwe",
        "outputId": "e92c693e-e91d-4c98-b60c-6392dd3157f4",
        "colab": {
          "resources": {
            "http://localhost:8080/nbextensions/google.colab/files.js": {
              "data": "Ly8gQ29weXJpZ2h0IDIwMTcgR29vZ2xlIExMQwovLwovLyBMaWNlbnNlZCB1bmRlciB0aGUgQXBhY2hlIExpY2Vuc2UsIFZlcnNpb24gMi4wICh0aGUgIkxpY2Vuc2UiKTsKLy8geW91IG1heSBub3QgdXNlIHRoaXMgZmlsZSBleGNlcHQgaW4gY29tcGxpYW5jZSB3aXRoIHRoZSBMaWNlbnNlLgovLyBZb3UgbWF5IG9idGFpbiBhIGNvcHkgb2YgdGhlIExpY2Vuc2UgYXQKLy8KLy8gICAgICBodHRwOi8vd3d3LmFwYWNoZS5vcmcvbGljZW5zZXMvTElDRU5TRS0yLjAKLy8KLy8gVW5sZXNzIHJlcXVpcmVkIGJ5IGFwcGxpY2FibGUgbGF3IG9yIGFncmVlZCB0byBpbiB3cml0aW5nLCBzb2Z0d2FyZQovLyBkaXN0cmlidXRlZCB1bmRlciB0aGUgTGljZW5zZSBpcyBkaXN0cmlidXRlZCBvbiBhbiAiQVMgSVMiIEJBU0lTLAovLyBXSVRIT1VUIFdBUlJBTlRJRVMgT1IgQ09ORElUSU9OUyBPRiBBTlkgS0lORCwgZWl0aGVyIGV4cHJlc3Mgb3IgaW1wbGllZC4KLy8gU2VlIHRoZSBMaWNlbnNlIGZvciB0aGUgc3BlY2lmaWMgbGFuZ3VhZ2UgZ292ZXJuaW5nIHBlcm1pc3Npb25zIGFuZAovLyBsaW1pdGF0aW9ucyB1bmRlciB0aGUgTGljZW5zZS4KCi8qKgogKiBAZmlsZW92ZXJ2aWV3IEhlbHBlcnMgZm9yIGdvb2dsZS5jb2xhYiBQeXRob24gbW9kdWxlLgogKi8KKGZ1bmN0aW9uKHNjb3BlKSB7CmZ1bmN0aW9uIHNwYW4odGV4dCwgc3R5bGVBdHRyaWJ1dGVzID0ge30pIHsKICBjb25zdCBlbGVtZW50ID0gZG9jdW1lbnQuY3JlYXRlRWxlbWVudCgnc3BhbicpOwogIGVsZW1lbnQudGV4dENvbnRlbnQgPSB0ZXh0OwogIGZvciAoY29uc3Qga2V5IG9mIE9iamVjdC5rZXlzKHN0eWxlQXR0cmlidXRlcykpIHsKICAgIGVsZW1lbnQuc3R5bGVba2V5XSA9IHN0eWxlQXR0cmlidXRlc1trZXldOwogIH0KICByZXR1cm4gZWxlbWVudDsKfQoKLy8gTWF4IG51bWJlciBvZiBieXRlcyB3aGljaCB3aWxsIGJlIHVwbG9hZGVkIGF0IGEgdGltZS4KY29uc3QgTUFYX1BBWUxPQURfU0laRSA9IDEwMCAqIDEwMjQ7CgpmdW5jdGlvbiBfdXBsb2FkRmlsZXMoaW5wdXRJZCwgb3V0cHV0SWQpIHsKICBjb25zdCBzdGVwcyA9IHVwbG9hZEZpbGVzU3RlcChpbnB1dElkLCBvdXRwdXRJZCk7CiAgY29uc3Qgb3V0cHV0RWxlbWVudCA9IGRvY3VtZW50LmdldEVsZW1lbnRCeUlkKG91dHB1dElkKTsKICAvLyBDYWNoZSBzdGVwcyBvbiB0aGUgb3V0cHV0RWxlbWVudCB0byBtYWtlIGl0IGF2YWlsYWJsZSBmb3IgdGhlIG5leHQgY2FsbAogIC8vIHRvIHVwbG9hZEZpbGVzQ29udGludWUgZnJvbSBQeXRob24uCiAgb3V0cHV0RWxlbWVudC5zdGVwcyA9IHN0ZXBzOwoKICByZXR1cm4gX3VwbG9hZEZpbGVzQ29udGludWUob3V0cHV0SWQpOwp9CgovLyBUaGlzIGlzIHJvdWdobHkgYW4gYXN5bmMgZ2VuZXJhdG9yIChub3Qgc3VwcG9ydGVkIGluIHRoZSBicm93c2VyIHlldCksCi8vIHdoZXJlIHRoZXJlIGFyZSBtdWx0aXBsZSBhc3luY2hyb25vdXMgc3RlcHMgYW5kIHRoZSBQeXRob24gc2lkZSBpcyBnb2luZwovLyB0byBwb2xsIGZvciBjb21wbGV0aW9uIG9mIGVhY2ggc3RlcC4KLy8gVGhpcyB1c2VzIGEgUHJvbWlzZSB0byBibG9jayB0aGUgcHl0aG9uIHNpZGUgb24gY29tcGxldGlvbiBvZiBlYWNoIHN0ZXAsCi8vIHRoZW4gcGFzc2VzIHRoZSByZXN1bHQgb2YgdGhlIHByZXZpb3VzIHN0ZXAgYXMgdGhlIGlucHV0IHRvIHRoZSBuZXh0IHN0ZXAuCmZ1bmN0aW9uIF91cGxvYWRGaWxlc0NvbnRpbnVlKG91dHB1dElkKSB7CiAgY29uc3Qgb3V0cHV0RWxlbWVudCA9IGRvY3VtZW50LmdldEVsZW1lbnRCeUlkKG91dHB1dElkKTsKICBjb25zdCBzdGVwcyA9IG91dHB1dEVsZW1lbnQuc3RlcHM7CgogIGNvbnN0IG5leHQgPSBzdGVwcy5uZXh0KG91dHB1dEVsZW1lbnQubGFzdFByb21pc2VWYWx1ZSk7CiAgcmV0dXJuIFByb21pc2UucmVzb2x2ZShuZXh0LnZhbHVlLnByb21pc2UpLnRoZW4oKHZhbHVlKSA9PiB7CiAgICAvLyBDYWNoZSB0aGUgbGFzdCBwcm9taXNlIHZhbHVlIHRvIG1ha2UgaXQgYXZhaWxhYmxlIHRvIHRoZSBuZXh0CiAgICAvLyBzdGVwIG9mIHRoZSBnZW5lcmF0b3IuCiAgICBvdXRwdXRFbGVtZW50Lmxhc3RQcm9taXNlVmFsdWUgPSB2YWx1ZTsKICAgIHJldHVybiBuZXh0LnZhbHVlLnJlc3BvbnNlOwogIH0pOwp9CgovKioKICogR2VuZXJhdG9yIGZ1bmN0aW9uIHdoaWNoIGlzIGNhbGxlZCBiZXR3ZWVuIGVhY2ggYXN5bmMgc3RlcCBvZiB0aGUgdXBsb2FkCiAqIHByb2Nlc3MuCiAqIEBwYXJhbSB7c3RyaW5nfSBpbnB1dElkIEVsZW1lbnQgSUQgb2YgdGhlIGlucHV0IGZpbGUgcGlja2VyIGVsZW1lbnQuCiAqIEBwYXJhbSB7c3RyaW5nfSBvdXRwdXRJZCBFbGVtZW50IElEIG9mIHRoZSBvdXRwdXQgZGlzcGxheS4KICogQHJldHVybiB7IUl0ZXJhYmxlPCFPYmplY3Q+fSBJdGVyYWJsZSBvZiBuZXh0IHN0ZXBzLgogKi8KZnVuY3Rpb24qIHVwbG9hZEZpbGVzU3RlcChpbnB1dElkLCBvdXRwdXRJZCkgewogIGNvbnN0IGlucHV0RWxlbWVudCA9IGRvY3VtZW50LmdldEVsZW1lbnRCeUlkKGlucHV0SWQpOwogIGlucHV0RWxlbWVudC5kaXNhYmxlZCA9IGZhbHNlOwoKICBjb25zdCBvdXRwdXRFbGVtZW50ID0gZG9jdW1lbnQuZ2V0RWxlbWVudEJ5SWQob3V0cHV0SWQpOwogIG91dHB1dEVsZW1lbnQuaW5uZXJIVE1MID0gJyc7CgogIGNvbnN0IHBpY2tlZFByb21pc2UgPSBuZXcgUHJvbWlzZSgocmVzb2x2ZSkgPT4gewogICAgaW5wdXRFbGVtZW50LmFkZEV2ZW50TGlzdGVuZXIoJ2NoYW5nZScsIChlKSA9PiB7CiAgICAgIHJlc29sdmUoZS50YXJnZXQuZmlsZXMpOwogICAgfSk7CiAgfSk7CgogIGNvbnN0IGNhbmNlbCA9IGRvY3VtZW50LmNyZWF0ZUVsZW1lbnQoJ2J1dHRvbicpOwogIGlucHV0RWxlbWVudC5wYXJlbnRFbGVtZW50LmFwcGVuZENoaWxkKGNhbmNlbCk7CiAgY2FuY2VsLnRleHRDb250ZW50ID0gJ0NhbmNlbCB1cGxvYWQnOwogIGNvbnN0IGNhbmNlbFByb21pc2UgPSBuZXcgUHJvbWlzZSgocmVzb2x2ZSkgPT4gewogICAgY2FuY2VsLm9uY2xpY2sgPSAoKSA9PiB7CiAgICAgIHJlc29sdmUobnVsbCk7CiAgICB9OwogIH0pOwoKICAvLyBXYWl0IGZvciB0aGUgdXNlciB0byBwaWNrIHRoZSBmaWxlcy4KICBjb25zdCBmaWxlcyA9IHlpZWxkIHsKICAgIHByb21pc2U6IFByb21pc2UucmFjZShbcGlja2VkUHJvbWlzZSwgY2FuY2VsUHJvbWlzZV0pLAogICAgcmVzcG9uc2U6IHsKICAgICAgYWN0aW9uOiAnc3RhcnRpbmcnLAogICAgfQogIH07CgogIGNhbmNlbC5yZW1vdmUoKTsKCiAgLy8gRGlzYWJsZSB0aGUgaW5wdXQgZWxlbWVudCBzaW5jZSBmdXJ0aGVyIHBpY2tzIGFyZSBub3QgYWxsb3dlZC4KICBpbnB1dEVsZW1lbnQuZGlzYWJsZWQgPSB0cnVlOwoKICBpZiAoIWZpbGVzKSB7CiAgICByZXR1cm4gewogICAgICByZXNwb25zZTogewogICAgICAgIGFjdGlvbjogJ2NvbXBsZXRlJywKICAgICAgfQogICAgfTsKICB9CgogIGZvciAoY29uc3QgZmlsZSBvZiBmaWxlcykgewogICAgY29uc3QgbGkgPSBkb2N1bWVudC5jcmVhdGVFbGVtZW50KCdsaScpOwogICAgbGkuYXBwZW5kKHNwYW4oZmlsZS5uYW1lLCB7Zm9udFdlaWdodDogJ2JvbGQnfSkpOwogICAgbGkuYXBwZW5kKHNwYW4oCiAgICAgICAgYCgke2ZpbGUudHlwZSB8fCAnbi9hJ30pIC0gJHtmaWxlLnNpemV9IGJ5dGVzLCBgICsKICAgICAgICBgbGFzdCBtb2RpZmllZDogJHsKICAgICAgICAgICAgZmlsZS5sYXN0TW9kaWZpZWREYXRlID8gZmlsZS5sYXN0TW9kaWZpZWREYXRlLnRvTG9jYWxlRGF0ZVN0cmluZygpIDoKICAgICAgICAgICAgICAgICAgICAgICAgICAgICAgICAgICAgJ24vYSd9IC0gYCkpOwogICAgY29uc3QgcGVyY2VudCA9IHNwYW4oJzAlIGRvbmUnKTsKICAgIGxpLmFwcGVuZENoaWxkKHBlcmNlbnQpOwoKICAgIG91dHB1dEVsZW1lbnQuYXBwZW5kQ2hpbGQobGkpOwoKICAgIGNvbnN0IGZpbGVEYXRhUHJvbWlzZSA9IG5ldyBQcm9taXNlKChyZXNvbHZlKSA9PiB7CiAgICAgIGNvbnN0IHJlYWRlciA9IG5ldyBGaWxlUmVhZGVyKCk7CiAgICAgIHJlYWRlci5vbmxvYWQgPSAoZSkgPT4gewogICAgICAgIHJlc29sdmUoZS50YXJnZXQucmVzdWx0KTsKICAgICAgfTsKICAgICAgcmVhZGVyLnJlYWRBc0FycmF5QnVmZmVyKGZpbGUpOwogICAgfSk7CiAgICAvLyBXYWl0IGZvciB0aGUgZGF0YSB0byBiZSByZWFkeS4KICAgIGxldCBmaWxlRGF0YSA9IHlpZWxkIHsKICAgICAgcHJvbWlzZTogZmlsZURhdGFQcm9taXNlLAogICAgICByZXNwb25zZTogewogICAgICAgIGFjdGlvbjogJ2NvbnRpbnVlJywKICAgICAgfQogICAgfTsKCiAgICAvLyBVc2UgYSBjaHVua2VkIHNlbmRpbmcgdG8gYXZvaWQgbWVzc2FnZSBzaXplIGxpbWl0cy4gU2VlIGIvNjIxMTU2NjAuCiAgICBsZXQgcG9zaXRpb24gPSAwOwogICAgd2hpbGUgKHBvc2l0aW9uIDwgZmlsZURhdGEuYnl0ZUxlbmd0aCkgewogICAgICBjb25zdCBsZW5ndGggPSBNYXRoLm1pbihmaWxlRGF0YS5ieXRlTGVuZ3RoIC0gcG9zaXRpb24sIE1BWF9QQVlMT0FEX1NJWkUpOwogICAgICBjb25zdCBjaHVuayA9IG5ldyBVaW50OEFycmF5KGZpbGVEYXRhLCBwb3NpdGlvbiwgbGVuZ3RoKTsKICAgICAgcG9zaXRpb24gKz0gbGVuZ3RoOwoKICAgICAgY29uc3QgYmFzZTY0ID0gYnRvYShTdHJpbmcuZnJvbUNoYXJDb2RlLmFwcGx5KG51bGwsIGNodW5rKSk7CiAgICAgIHlpZWxkIHsKICAgICAgICByZXNwb25zZTogewogICAgICAgICAgYWN0aW9uOiAnYXBwZW5kJywKICAgICAgICAgIGZpbGU6IGZpbGUubmFtZSwKICAgICAgICAgIGRhdGE6IGJhc2U2NCwKICAgICAgICB9LAogICAgICB9OwogICAgICBwZXJjZW50LnRleHRDb250ZW50ID0KICAgICAgICAgIGAke01hdGgucm91bmQoKHBvc2l0aW9uIC8gZmlsZURhdGEuYnl0ZUxlbmd0aCkgKiAxMDApfSUgZG9uZWA7CiAgICB9CiAgfQoKICAvLyBBbGwgZG9uZS4KICB5aWVsZCB7CiAgICByZXNwb25zZTogewogICAgICBhY3Rpb246ICdjb21wbGV0ZScsCiAgICB9CiAgfTsKfQoKc2NvcGUuZ29vZ2xlID0gc2NvcGUuZ29vZ2xlIHx8IHt9OwpzY29wZS5nb29nbGUuY29sYWIgPSBzY29wZS5nb29nbGUuY29sYWIgfHwge307CnNjb3BlLmdvb2dsZS5jb2xhYi5fZmlsZXMgPSB7CiAgX3VwbG9hZEZpbGVzLAogIF91cGxvYWRGaWxlc0NvbnRpbnVlLAp9Owp9KShzZWxmKTsK",
              "ok": true,
              "headers": [
                [
                  "content-type",
                  "application/javascript"
                ]
              ],
              "status": 200,
              "status_text": ""
            }
          },
          "base_uri": "https://localhost:8080/",
          "height": 110
        }
      },
      "source": [
        "#  download the Mall_Customers dataset from the below link to your local PC\n",
        "#  https://drive.google.com/open?id=1v9Ep1uXp7J-RXZVdm27r3fxstrqHgaa5\n",
        "\n",
        "#-- uncomment & run the code\n",
        "\n",
        "#--  Load the data set into your Colab NB\n",
        "\n",
        "#from google.colab import files\n",
        "#files.upload()"
      ],
      "execution_count": null,
      "outputs": [
        {
          "output_type": "display_data",
          "data": {
            "text/html": [
              "\n",
              "     <input type=\"file\" id=\"files-54602bc1-9d6f-4720-9323-a3fece3f7039\" name=\"files[]\" multiple disabled\n",
              "        style=\"border:none\" />\n",
              "     <output id=\"result-54602bc1-9d6f-4720-9323-a3fece3f7039\">\n",
              "      Upload widget is only available when the cell has been executed in the\n",
              "      current browser session. Please rerun this cell to enable.\n",
              "      </output>\n",
              "      <script src=\"/nbextensions/google.colab/files.js\"></script> "
            ],
            "text/plain": [
              "<IPython.core.display.HTML object>"
            ]
          },
          "metadata": {
            "tags": []
          }
        },
        {
          "output_type": "stream",
          "text": [
            "Saving Mall_Customers.csv to Mall_Customers.csv\n"
          ],
          "name": "stdout"
        },
        {
          "output_type": "execute_result",
          "data": {
            "text/plain": [
              "{'Mall_Customers.csv': b'CustomerID,Gender,Age,Annual Income (k$),Spending Score (1-100)\\r\\n1,Male,19,15,39\\r\\n2,Male,21,15,81\\r\\n3,Female,20,16,6\\r\\n4,Female,23,16,77\\r\\n5,Female,31,17,40\\r\\n6,Female,22,17,76\\r\\n7,Female,35,18,6\\r\\n8,Female,23,18,94\\r\\n9,Male,64,19,3\\r\\n10,Female,30,19,72\\r\\n11,Male,67,19,14\\r\\n12,Female,35,19,99\\r\\n13,Female,58,20,15\\r\\n14,Female,24,20,77\\r\\n15,Male,37,20,13\\r\\n16,Male,22,20,79\\r\\n17,Female,35,21,35\\r\\n18,Male,20,21,66\\r\\n19,Male,52,23,29\\r\\n20,Female,35,23,98\\r\\n21,Male,35,24,35\\r\\n22,Male,25,24,73\\r\\n23,Female,46,25,5\\r\\n24,Male,31,25,73\\r\\n25,Female,54,28,14\\r\\n26,Male,29,28,82\\r\\n27,Female,45,28,32\\r\\n28,Male,35,28,61\\r\\n29,Female,40,29,31\\r\\n30,Female,23,29,87\\r\\n31,Male,60,30,4\\r\\n32,Female,21,30,73\\r\\n33,Male,53,33,4\\r\\n34,Male,18,33,92\\r\\n35,Female,49,33,14\\r\\n36,Female,21,33,81\\r\\n37,Female,42,34,17\\r\\n38,Female,30,34,73\\r\\n39,Female,36,37,26\\r\\n40,Female,20,37,75\\r\\n41,Female,65,38,35\\r\\n42,Male,24,38,92\\r\\n43,Male,48,39,36\\r\\n44,Female,31,39,61\\r\\n45,Female,49,39,28\\r\\n46,Female,24,39,65\\r\\n47,Female,50,40,55\\r\\n48,Female,27,40,47\\r\\n49,Female,29,40,42\\r\\n50,Female,31,40,42\\r\\n51,Female,49,42,52\\r\\n52,Male,33,42,60\\r\\n53,Female,31,43,54\\r\\n54,Male,59,43,60\\r\\n55,Female,50,43,45\\r\\n56,Male,47,43,41\\r\\n57,Female,51,44,50\\r\\n58,Male,69,44,46\\r\\n59,Female,27,46,51\\r\\n60,Male,53,46,46\\r\\n61,Male,70,46,56\\r\\n62,Male,19,46,55\\r\\n63,Female,67,47,52\\r\\n64,Female,54,47,59\\r\\n65,Male,63,48,51\\r\\n66,Male,18,48,59\\r\\n67,Female,43,48,50\\r\\n68,Female,68,48,48\\r\\n69,Male,19,48,59\\r\\n70,Female,32,48,47\\r\\n71,Male,70,49,55\\r\\n72,Female,47,49,42\\r\\n73,Female,60,50,49\\r\\n74,Female,60,50,56\\r\\n75,Male,59,54,47\\r\\n76,Male,26,54,54\\r\\n77,Female,45,54,53\\r\\n78,Male,40,54,48\\r\\n79,Female,23,54,52\\r\\n80,Female,49,54,42\\r\\n81,Male,57,54,51\\r\\n82,Male,38,54,55\\r\\n83,Male,67,54,41\\r\\n84,Female,46,54,44\\r\\n85,Female,21,54,57\\r\\n86,Male,48,54,46\\r\\n87,Female,55,57,58\\r\\n88,Female,22,57,55\\r\\n89,Female,34,58,60\\r\\n90,Female,50,58,46\\r\\n91,Female,68,59,55\\r\\n92,Male,18,59,41\\r\\n93,Male,48,60,49\\r\\n94,Female,40,60,40\\r\\n95,Female,32,60,42\\r\\n96,Male,24,60,52\\r\\n97,Female,47,60,47\\r\\n98,Female,27,60,50\\r\\n99,Male,48,61,42\\r\\n100,Male,20,61,49\\r\\n101,Female,23,62,41\\r\\n102,Female,49,62,48\\r\\n103,Male,67,62,59\\r\\n104,Male,26,62,55\\r\\n105,Male,49,62,56\\r\\n106,Female,21,62,42\\r\\n107,Female,66,63,50\\r\\n108,Male,54,63,46\\r\\n109,Male,68,63,43\\r\\n110,Male,66,63,48\\r\\n111,Male,65,63,52\\r\\n112,Female,19,63,54\\r\\n113,Female,38,64,42\\r\\n114,Male,19,64,46\\r\\n115,Female,18,65,48\\r\\n116,Female,19,65,50\\r\\n117,Female,63,65,43\\r\\n118,Female,49,65,59\\r\\n119,Female,51,67,43\\r\\n120,Female,50,67,57\\r\\n121,Male,27,67,56\\r\\n122,Female,38,67,40\\r\\n123,Female,40,69,58\\r\\n124,Male,39,69,91\\r\\n125,Female,23,70,29\\r\\n126,Female,31,70,77\\r\\n127,Male,43,71,35\\r\\n128,Male,40,71,95\\r\\n129,Male,59,71,11\\r\\n130,Male,38,71,75\\r\\n131,Male,47,71,9\\r\\n132,Male,39,71,75\\r\\n133,Female,25,72,34\\r\\n134,Female,31,72,71\\r\\n135,Male,20,73,5\\r\\n136,Female,29,73,88\\r\\n137,Female,44,73,7\\r\\n138,Male,32,73,73\\r\\n139,Male,19,74,10\\r\\n140,Female,35,74,72\\r\\n141,Female,57,75,5\\r\\n142,Male,32,75,93\\r\\n143,Female,28,76,40\\r\\n144,Female,32,76,87\\r\\n145,Male,25,77,12\\r\\n146,Male,28,77,97\\r\\n147,Male,48,77,36\\r\\n148,Female,32,77,74\\r\\n149,Female,34,78,22\\r\\n150,Male,34,78,90\\r\\n151,Male,43,78,17\\r\\n152,Male,39,78,88\\r\\n153,Female,44,78,20\\r\\n154,Female,38,78,76\\r\\n155,Female,47,78,16\\r\\n156,Female,27,78,89\\r\\n157,Male,37,78,1\\r\\n158,Female,30,78,78\\r\\n159,Male,34,78,1\\r\\n160,Female,30,78,73\\r\\n161,Female,56,79,35\\r\\n162,Female,29,79,83\\r\\n163,Male,19,81,5\\r\\n164,Female,31,81,93\\r\\n165,Male,50,85,26\\r\\n166,Female,36,85,75\\r\\n167,Male,42,86,20\\r\\n168,Female,33,86,95\\r\\n169,Female,36,87,27\\r\\n170,Male,32,87,63\\r\\n171,Male,40,87,13\\r\\n172,Male,28,87,75\\r\\n173,Male,36,87,10\\r\\n174,Male,36,87,92\\r\\n175,Female,52,88,13\\r\\n176,Female,30,88,86\\r\\n177,Male,58,88,15\\r\\n178,Male,27,88,69\\r\\n179,Male,59,93,14\\r\\n180,Male,35,93,90\\r\\n181,Female,37,97,32\\r\\n182,Female,32,97,86\\r\\n183,Male,46,98,15\\r\\n184,Female,29,98,88\\r\\n185,Female,41,99,39\\r\\n186,Male,30,99,97\\r\\n187,Female,54,101,24\\r\\n188,Male,28,101,68\\r\\n189,Female,41,103,17\\r\\n190,Female,36,103,85\\r\\n191,Female,34,103,23\\r\\n192,Female,32,103,69\\r\\n193,Male,33,113,8\\r\\n194,Female,38,113,91\\r\\n195,Female,47,120,16\\r\\n196,Female,35,120,79\\r\\n197,Female,45,126,28\\r\\n198,Male,32,126,74\\r\\n199,Male,32,137,18\\r\\n200,Male,30,137,83\\r\\n'}"
            ]
          },
          "metadata": {
            "tags": []
          },
          "execution_count": 21
        }
      ]
    },
    {
      "cell_type": "markdown",
      "metadata": {
        "id": "L_5nHkLcbeZK"
      },
      "source": [
        "**Context** : Above data set is created only for the learning purpose. It teaches you **how to segment customers**, also known as market basket analysis . I will demonstrate this by using unsupervised ML technique (KMeans Clustering Algorithm) in the simplest form.\n",
        "\n",
        "**Content** : You are owing a supermarket mall and through membership cards , you have some basic data about your customers like Customer ID, age, gender, annual income and spending score. **Spending Score** is something you assign to the customer based on your defined parameters like customer behavior and purchasing data.\n",
        "\n",
        "**Problem Statement** : You own a `small supermarket` and want to understand your customers like who can be `Target Customers` for a new chain of products you plan to launch. This would also help the marketing team to plan their strategy."
      ]
    },
    {
      "cell_type": "code",
      "metadata": {
        "id": "PvSF46P1bW5D"
      },
      "source": [
        "# import the minimum required libraries\n",
        "import numpy as np   # linear algebra\n",
        "import pandas as pd  # data processing, CSV file I/O (e.g. pd.read_csv)\n",
        "import matplotlib.pyplot as plt  # Data Visualization\n",
        "import seaborn as sns  # Python library for Visualization"
      ],
      "execution_count": null,
      "outputs": []
    },
    {
      "cell_type": "code",
      "metadata": {
        "id": "CQFkPqahdBt8",
        "colab": {
          "base_uri": "https://localhost:8080/",
          "height": 363
        },
        "outputId": "a9fa0d02-7e1b-4add-922c-5af53fb67292"
      },
      "source": [
        "#---- uncomment the code part & run\n",
        "\n",
        "##-- Import the dataset\n",
        "\n",
        "dataset = pd.read_csv('Mall_Customers.csv')\n",
        "\n",
        "\n",
        "##-- Exploratory Data Analysis\n",
        "##-- As this is unsupervised learning so Label (Output Column) is unknown\n",
        "\n",
        "dataset.head(10)      # Printing first 10 rows of the dataset"
      ],
      "execution_count": null,
      "outputs": [
        {
          "output_type": "execute_result",
          "data": {
            "text/plain": [
              "   CustomerID  Gender  Age  Annual Income (k$)  Spending Score (1-100)\n",
              "0           1    Male   19                  15                      39\n",
              "1           2    Male   21                  15                      81\n",
              "2           3  Female   20                  16                       6\n",
              "3           4  Female   23                  16                      77\n",
              "4           5  Female   31                  17                      40\n",
              "5           6  Female   22                  17                      76\n",
              "6           7  Female   35                  18                       6\n",
              "7           8  Female   23                  18                      94\n",
              "8           9    Male   64                  19                       3\n",
              "9          10  Female   30                  19                      72"
            ],
            "text/html": [
              "\n",
              "  <div id=\"df-71797ffc-b046-453d-a88c-9bc64ee65c20\" class=\"colab-df-container\">\n",
              "    <div>\n",
              "<style scoped>\n",
              "    .dataframe tbody tr th:only-of-type {\n",
              "        vertical-align: middle;\n",
              "    }\n",
              "\n",
              "    .dataframe tbody tr th {\n",
              "        vertical-align: top;\n",
              "    }\n",
              "\n",
              "    .dataframe thead th {\n",
              "        text-align: right;\n",
              "    }\n",
              "</style>\n",
              "<table border=\"1\" class=\"dataframe\">\n",
              "  <thead>\n",
              "    <tr style=\"text-align: right;\">\n",
              "      <th></th>\n",
              "      <th>CustomerID</th>\n",
              "      <th>Gender</th>\n",
              "      <th>Age</th>\n",
              "      <th>Annual Income (k$)</th>\n",
              "      <th>Spending Score (1-100)</th>\n",
              "    </tr>\n",
              "  </thead>\n",
              "  <tbody>\n",
              "    <tr>\n",
              "      <th>0</th>\n",
              "      <td>1</td>\n",
              "      <td>Male</td>\n",
              "      <td>19</td>\n",
              "      <td>15</td>\n",
              "      <td>39</td>\n",
              "    </tr>\n",
              "    <tr>\n",
              "      <th>1</th>\n",
              "      <td>2</td>\n",
              "      <td>Male</td>\n",
              "      <td>21</td>\n",
              "      <td>15</td>\n",
              "      <td>81</td>\n",
              "    </tr>\n",
              "    <tr>\n",
              "      <th>2</th>\n",
              "      <td>3</td>\n",
              "      <td>Female</td>\n",
              "      <td>20</td>\n",
              "      <td>16</td>\n",
              "      <td>6</td>\n",
              "    </tr>\n",
              "    <tr>\n",
              "      <th>3</th>\n",
              "      <td>4</td>\n",
              "      <td>Female</td>\n",
              "      <td>23</td>\n",
              "      <td>16</td>\n",
              "      <td>77</td>\n",
              "    </tr>\n",
              "    <tr>\n",
              "      <th>4</th>\n",
              "      <td>5</td>\n",
              "      <td>Female</td>\n",
              "      <td>31</td>\n",
              "      <td>17</td>\n",
              "      <td>40</td>\n",
              "    </tr>\n",
              "    <tr>\n",
              "      <th>5</th>\n",
              "      <td>6</td>\n",
              "      <td>Female</td>\n",
              "      <td>22</td>\n",
              "      <td>17</td>\n",
              "      <td>76</td>\n",
              "    </tr>\n",
              "    <tr>\n",
              "      <th>6</th>\n",
              "      <td>7</td>\n",
              "      <td>Female</td>\n",
              "      <td>35</td>\n",
              "      <td>18</td>\n",
              "      <td>6</td>\n",
              "    </tr>\n",
              "    <tr>\n",
              "      <th>7</th>\n",
              "      <td>8</td>\n",
              "      <td>Female</td>\n",
              "      <td>23</td>\n",
              "      <td>18</td>\n",
              "      <td>94</td>\n",
              "    </tr>\n",
              "    <tr>\n",
              "      <th>8</th>\n",
              "      <td>9</td>\n",
              "      <td>Male</td>\n",
              "      <td>64</td>\n",
              "      <td>19</td>\n",
              "      <td>3</td>\n",
              "    </tr>\n",
              "    <tr>\n",
              "      <th>9</th>\n",
              "      <td>10</td>\n",
              "      <td>Female</td>\n",
              "      <td>30</td>\n",
              "      <td>19</td>\n",
              "      <td>72</td>\n",
              "    </tr>\n",
              "  </tbody>\n",
              "</table>\n",
              "</div>\n",
              "    <div class=\"colab-df-buttons\">\n",
              "\n",
              "  <div class=\"colab-df-container\">\n",
              "    <button class=\"colab-df-convert\" onclick=\"convertToInteractive('df-71797ffc-b046-453d-a88c-9bc64ee65c20')\"\n",
              "            title=\"Convert this dataframe to an interactive table.\"\n",
              "            style=\"display:none;\">\n",
              "\n",
              "  <svg xmlns=\"http://www.w3.org/2000/svg\" height=\"24px\" viewBox=\"0 -960 960 960\">\n",
              "    <path d=\"M120-120v-720h720v720H120Zm60-500h600v-160H180v160Zm220 220h160v-160H400v160Zm0 220h160v-160H400v160ZM180-400h160v-160H180v160Zm440 0h160v-160H620v160ZM180-180h160v-160H180v160Zm440 0h160v-160H620v160Z\"/>\n",
              "  </svg>\n",
              "    </button>\n",
              "\n",
              "  <style>\n",
              "    .colab-df-container {\n",
              "      display:flex;\n",
              "      gap: 12px;\n",
              "    }\n",
              "\n",
              "    .colab-df-convert {\n",
              "      background-color: #E8F0FE;\n",
              "      border: none;\n",
              "      border-radius: 50%;\n",
              "      cursor: pointer;\n",
              "      display: none;\n",
              "      fill: #1967D2;\n",
              "      height: 32px;\n",
              "      padding: 0 0 0 0;\n",
              "      width: 32px;\n",
              "    }\n",
              "\n",
              "    .colab-df-convert:hover {\n",
              "      background-color: #E2EBFA;\n",
              "      box-shadow: 0px 1px 2px rgba(60, 64, 67, 0.3), 0px 1px 3px 1px rgba(60, 64, 67, 0.15);\n",
              "      fill: #174EA6;\n",
              "    }\n",
              "\n",
              "    .colab-df-buttons div {\n",
              "      margin-bottom: 4px;\n",
              "    }\n",
              "\n",
              "    [theme=dark] .colab-df-convert {\n",
              "      background-color: #3B4455;\n",
              "      fill: #D2E3FC;\n",
              "    }\n",
              "\n",
              "    [theme=dark] .colab-df-convert:hover {\n",
              "      background-color: #434B5C;\n",
              "      box-shadow: 0px 1px 3px 1px rgba(0, 0, 0, 0.15);\n",
              "      filter: drop-shadow(0px 1px 2px rgba(0, 0, 0, 0.3));\n",
              "      fill: #FFFFFF;\n",
              "    }\n",
              "  </style>\n",
              "\n",
              "    <script>\n",
              "      const buttonEl =\n",
              "        document.querySelector('#df-71797ffc-b046-453d-a88c-9bc64ee65c20 button.colab-df-convert');\n",
              "      buttonEl.style.display =\n",
              "        google.colab.kernel.accessAllowed ? 'block' : 'none';\n",
              "\n",
              "      async function convertToInteractive(key) {\n",
              "        const element = document.querySelector('#df-71797ffc-b046-453d-a88c-9bc64ee65c20');\n",
              "        const dataTable =\n",
              "          await google.colab.kernel.invokeFunction('convertToInteractive',\n",
              "                                                    [key], {});\n",
              "        if (!dataTable) return;\n",
              "\n",
              "        const docLinkHtml = 'Like what you see? Visit the ' +\n",
              "          '<a target=\"_blank\" href=https://colab.research.google.com/notebooks/data_table.ipynb>data table notebook</a>'\n",
              "          + ' to learn more about interactive tables.';\n",
              "        element.innerHTML = '';\n",
              "        dataTable['output_type'] = 'display_data';\n",
              "        await google.colab.output.renderOutput(dataTable, element);\n",
              "        const docLink = document.createElement('div');\n",
              "        docLink.innerHTML = docLinkHtml;\n",
              "        element.appendChild(docLink);\n",
              "      }\n",
              "    </script>\n",
              "  </div>\n",
              "\n",
              "\n",
              "<div id=\"df-08091ff6-aa72-4c7f-aac8-4418f7078109\">\n",
              "  <button class=\"colab-df-quickchart\" onclick=\"quickchart('df-08091ff6-aa72-4c7f-aac8-4418f7078109')\"\n",
              "            title=\"Suggest charts\"\n",
              "            style=\"display:none;\">\n",
              "\n",
              "<svg xmlns=\"http://www.w3.org/2000/svg\" height=\"24px\"viewBox=\"0 0 24 24\"\n",
              "     width=\"24px\">\n",
              "    <g>\n",
              "        <path d=\"M19 3H5c-1.1 0-2 .9-2 2v14c0 1.1.9 2 2 2h14c1.1 0 2-.9 2-2V5c0-1.1-.9-2-2-2zM9 17H7v-7h2v7zm4 0h-2V7h2v10zm4 0h-2v-4h2v4z\"/>\n",
              "    </g>\n",
              "</svg>\n",
              "  </button>\n",
              "\n",
              "<style>\n",
              "  .colab-df-quickchart {\n",
              "      --bg-color: #E8F0FE;\n",
              "      --fill-color: #1967D2;\n",
              "      --hover-bg-color: #E2EBFA;\n",
              "      --hover-fill-color: #174EA6;\n",
              "      --disabled-fill-color: #AAA;\n",
              "      --disabled-bg-color: #DDD;\n",
              "  }\n",
              "\n",
              "  [theme=dark] .colab-df-quickchart {\n",
              "      --bg-color: #3B4455;\n",
              "      --fill-color: #D2E3FC;\n",
              "      --hover-bg-color: #434B5C;\n",
              "      --hover-fill-color: #FFFFFF;\n",
              "      --disabled-bg-color: #3B4455;\n",
              "      --disabled-fill-color: #666;\n",
              "  }\n",
              "\n",
              "  .colab-df-quickchart {\n",
              "    background-color: var(--bg-color);\n",
              "    border: none;\n",
              "    border-radius: 50%;\n",
              "    cursor: pointer;\n",
              "    display: none;\n",
              "    fill: var(--fill-color);\n",
              "    height: 32px;\n",
              "    padding: 0;\n",
              "    width: 32px;\n",
              "  }\n",
              "\n",
              "  .colab-df-quickchart:hover {\n",
              "    background-color: var(--hover-bg-color);\n",
              "    box-shadow: 0 1px 2px rgba(60, 64, 67, 0.3), 0 1px 3px 1px rgba(60, 64, 67, 0.15);\n",
              "    fill: var(--button-hover-fill-color);\n",
              "  }\n",
              "\n",
              "  .colab-df-quickchart-complete:disabled,\n",
              "  .colab-df-quickchart-complete:disabled:hover {\n",
              "    background-color: var(--disabled-bg-color);\n",
              "    fill: var(--disabled-fill-color);\n",
              "    box-shadow: none;\n",
              "  }\n",
              "\n",
              "  .colab-df-spinner {\n",
              "    border: 2px solid var(--fill-color);\n",
              "    border-color: transparent;\n",
              "    border-bottom-color: var(--fill-color);\n",
              "    animation:\n",
              "      spin 1s steps(1) infinite;\n",
              "  }\n",
              "\n",
              "  @keyframes spin {\n",
              "    0% {\n",
              "      border-color: transparent;\n",
              "      border-bottom-color: var(--fill-color);\n",
              "      border-left-color: var(--fill-color);\n",
              "    }\n",
              "    20% {\n",
              "      border-color: transparent;\n",
              "      border-left-color: var(--fill-color);\n",
              "      border-top-color: var(--fill-color);\n",
              "    }\n",
              "    30% {\n",
              "      border-color: transparent;\n",
              "      border-left-color: var(--fill-color);\n",
              "      border-top-color: var(--fill-color);\n",
              "      border-right-color: var(--fill-color);\n",
              "    }\n",
              "    40% {\n",
              "      border-color: transparent;\n",
              "      border-right-color: var(--fill-color);\n",
              "      border-top-color: var(--fill-color);\n",
              "    }\n",
              "    60% {\n",
              "      border-color: transparent;\n",
              "      border-right-color: var(--fill-color);\n",
              "    }\n",
              "    80% {\n",
              "      border-color: transparent;\n",
              "      border-right-color: var(--fill-color);\n",
              "      border-bottom-color: var(--fill-color);\n",
              "    }\n",
              "    90% {\n",
              "      border-color: transparent;\n",
              "      border-bottom-color: var(--fill-color);\n",
              "    }\n",
              "  }\n",
              "</style>\n",
              "\n",
              "  <script>\n",
              "    async function quickchart(key) {\n",
              "      const quickchartButtonEl =\n",
              "        document.querySelector('#' + key + ' button');\n",
              "      quickchartButtonEl.disabled = true;  // To prevent multiple clicks.\n",
              "      quickchartButtonEl.classList.add('colab-df-spinner');\n",
              "      try {\n",
              "        const charts = await google.colab.kernel.invokeFunction(\n",
              "            'suggestCharts', [key], {});\n",
              "      } catch (error) {\n",
              "        console.error('Error during call to suggestCharts:', error);\n",
              "      }\n",
              "      quickchartButtonEl.classList.remove('colab-df-spinner');\n",
              "      quickchartButtonEl.classList.add('colab-df-quickchart-complete');\n",
              "    }\n",
              "    (() => {\n",
              "      let quickchartButtonEl =\n",
              "        document.querySelector('#df-08091ff6-aa72-4c7f-aac8-4418f7078109 button');\n",
              "      quickchartButtonEl.style.display =\n",
              "        google.colab.kernel.accessAllowed ? 'block' : 'none';\n",
              "    })();\n",
              "  </script>\n",
              "</div>\n",
              "\n",
              "    </div>\n",
              "  </div>\n"
            ],
            "application/vnd.google.colaboratory.intrinsic+json": {
              "type": "dataframe",
              "variable_name": "dataset",
              "summary": "{\n  \"name\": \"dataset\",\n  \"rows\": 200,\n  \"fields\": [\n    {\n      \"column\": \"CustomerID\",\n      \"properties\": {\n        \"dtype\": \"number\",\n        \"std\": 57,\n        \"min\": 1,\n        \"max\": 200,\n        \"num_unique_values\": 200,\n        \"samples\": [\n          96,\n          16,\n          31\n        ],\n        \"semantic_type\": \"\",\n        \"description\": \"\"\n      }\n    },\n    {\n      \"column\": \"Gender\",\n      \"properties\": {\n        \"dtype\": \"category\",\n        \"num_unique_values\": 2,\n        \"samples\": [\n          \"Female\",\n          \"Male\"\n        ],\n        \"semantic_type\": \"\",\n        \"description\": \"\"\n      }\n    },\n    {\n      \"column\": \"Age\",\n      \"properties\": {\n        \"dtype\": \"number\",\n        \"std\": 13,\n        \"min\": 18,\n        \"max\": 70,\n        \"num_unique_values\": 51,\n        \"samples\": [\n          55,\n          26\n        ],\n        \"semantic_type\": \"\",\n        \"description\": \"\"\n      }\n    },\n    {\n      \"column\": \"Annual Income (k$)\",\n      \"properties\": {\n        \"dtype\": \"number\",\n        \"std\": 26,\n        \"min\": 15,\n        \"max\": 137,\n        \"num_unique_values\": 64,\n        \"samples\": [\n          87,\n          101\n        ],\n        \"semantic_type\": \"\",\n        \"description\": \"\"\n      }\n    },\n    {\n      \"column\": \"Spending Score (1-100)\",\n      \"properties\": {\n        \"dtype\": \"number\",\n        \"std\": 25,\n        \"min\": 1,\n        \"max\": 99,\n        \"num_unique_values\": 84,\n        \"samples\": [\n          83,\n          39\n        ],\n        \"semantic_type\": \"\",\n        \"description\": \"\"\n      }\n    }\n  ]\n}"
            }
          },
          "metadata": {},
          "execution_count": 2
        }
      ]
    },
    {
      "cell_type": "code",
      "metadata": {
        "id": "VMcG8SUKda0w",
        "colab": {
          "base_uri": "https://localhost:8080/"
        },
        "outputId": "e1417143-0cb9-41c0-8a17-93b3da4fda39"
      },
      "source": [
        "#---- uncomment the code part & run\n",
        "##-- Check the total rows and colums in the dataset\n",
        "dataset.shape"
      ],
      "execution_count": null,
      "outputs": [
        {
          "output_type": "execute_result",
          "data": {
            "text/plain": [
              "(200, 5)"
            ]
          },
          "metadata": {},
          "execution_count": 3
        }
      ]
    },
    {
      "cell_type": "code",
      "metadata": {
        "id": "OcGWeHcRdh6k",
        "colab": {
          "base_uri": "https://localhost:8080/"
        },
        "outputId": "5f458602-502b-43cc-d758-07a63541f9d4"
      },
      "source": [
        "#---- uncomment the code part & run\n",
        "dataset.info()\n",
        "\n",
        "##-- Did u observe this ?\n",
        "##-- there are no missing values as all the columns has 200 entries properly"
      ],
      "execution_count": null,
      "outputs": [
        {
          "output_type": "stream",
          "name": "stdout",
          "text": [
            "<class 'pandas.core.frame.DataFrame'>\n",
            "RangeIndex: 200 entries, 0 to 199\n",
            "Data columns (total 5 columns):\n",
            " #   Column                  Non-Null Count  Dtype \n",
            "---  ------                  --------------  ----- \n",
            " 0   CustomerID              200 non-null    int64 \n",
            " 1   Gender                  200 non-null    object\n",
            " 2   Age                     200 non-null    int64 \n",
            " 3   Annual Income (k$)      200 non-null    int64 \n",
            " 4   Spending Score (1-100)  200 non-null    int64 \n",
            "dtypes: int64(4), object(1)\n",
            "memory usage: 7.9+ KB\n"
          ]
        }
      ]
    },
    {
      "cell_type": "code",
      "metadata": {
        "id": "QP7fuA30d3mu",
        "colab": {
          "base_uri": "https://localhost:8080/",
          "height": 241
        },
        "outputId": "490e60af-3d55-4368-aaf6-d298e8356af7"
      },
      "source": [
        "#---- uncomment the code part & run\n",
        "\n",
        "##-- Check for Missing values ?\n",
        "\n",
        "dataset.isnull().sum()\n",
        "\n",
        "##-- Did u observe again ?\n",
        "##-- there are no missing values."
      ],
      "execution_count": null,
      "outputs": [
        {
          "output_type": "execute_result",
          "data": {
            "text/plain": [
              "CustomerID                0\n",
              "Gender                    0\n",
              "Age                       0\n",
              "Annual Income (k$)        0\n",
              "Spending Score (1-100)    0\n",
              "dtype: int64"
            ],
            "text/html": [
              "<div>\n",
              "<style scoped>\n",
              "    .dataframe tbody tr th:only-of-type {\n",
              "        vertical-align: middle;\n",
              "    }\n",
              "\n",
              "    .dataframe tbody tr th {\n",
              "        vertical-align: top;\n",
              "    }\n",
              "\n",
              "    .dataframe thead th {\n",
              "        text-align: right;\n",
              "    }\n",
              "</style>\n",
              "<table border=\"1\" class=\"dataframe\">\n",
              "  <thead>\n",
              "    <tr style=\"text-align: right;\">\n",
              "      <th></th>\n",
              "      <th>0</th>\n",
              "    </tr>\n",
              "  </thead>\n",
              "  <tbody>\n",
              "    <tr>\n",
              "      <th>CustomerID</th>\n",
              "      <td>0</td>\n",
              "    </tr>\n",
              "    <tr>\n",
              "      <th>Gender</th>\n",
              "      <td>0</td>\n",
              "    </tr>\n",
              "    <tr>\n",
              "      <th>Age</th>\n",
              "      <td>0</td>\n",
              "    </tr>\n",
              "    <tr>\n",
              "      <th>Annual Income (k$)</th>\n",
              "      <td>0</td>\n",
              "    </tr>\n",
              "    <tr>\n",
              "      <th>Spending Score (1-100)</th>\n",
              "      <td>0</td>\n",
              "    </tr>\n",
              "  </tbody>\n",
              "</table>\n",
              "</div><br><label><b>dtype:</b> int64</label>"
            ]
          },
          "metadata": {},
          "execution_count": 5
        }
      ]
    },
    {
      "cell_type": "code",
      "metadata": {
        "id": "KYb4j68DeQVq",
        "colab": {
          "base_uri": "https://localhost:8080/"
        },
        "outputId": "34e9f6bd-64c3-4e9e-d0a3-b7b8eb08359d"
      },
      "source": [
        "#---- uncomment the code part & run\n",
        "\n",
        "##-- Feature selection for the model\n",
        "##-- Considering only 2 features (Annual income and Spending Score) and no Label available\n",
        "\n",
        "X = dataset.iloc[:, [3,4]].values\n",
        "X[ : 5]"
      ],
      "execution_count": null,
      "outputs": [
        {
          "output_type": "execute_result",
          "data": {
            "text/plain": [
              "array([[15, 39],\n",
              "       [15, 81],\n",
              "       [16,  6],\n",
              "       [16, 77],\n",
              "       [17, 40]])"
            ]
          },
          "metadata": {},
          "execution_count": 5
        }
      ]
    },
    {
      "cell_type": "markdown",
      "metadata": {
        "id": "f62d1Lwtll4L"
      },
      "source": [
        "**Building the Model** <br>\n",
        "The tricky part in KMeans Algorithm is to find rigth **`n_clusters`**. The best method to find n_clusters is using **`Elbow`** method.\n",
        "\n",
        "<h3>Quick watch this <b>Using Elbow method for finding n_clusters</b></h3>\n",
        "\n",
        "<a href=\"https://drive.google.com/open?id=1yFSml64X21ZAPec0jr2BLqVkxJuhWXIq\">\n",
        "  <img src=\"https://drive.google.com/uc?id=14OOsd0HaKoMJjqu5YT5n7-HsvE6UVV7z\" alt=\"Elbow method for finding n_clusters\" width=\"130\" height=\"70\">\n",
        "</a>\n",
        "\n",
        "<small><b>This Video would give you a fare idea on <u>What will we</u> code in next cell</b><small><br>\n",
        "<small>Credits : This video is recorded by 365 Data Science team members.</small>\n"
      ]
    },
    {
      "cell_type": "code",
      "metadata": {
        "id": "UH0cZXv4ekoU",
        "colab": {
          "base_uri": "https://localhost:8080/"
        },
        "outputId": "a4bc4264-119f-42d0-df6f-02fb449aed5c"
      },
      "source": [
        "# Building the Model\n",
        "# the tricky part in KMeans Algorithm is to find rigth => n_clusters.\n",
        "# The best method to find n_clusters is using Elbow method\n",
        "\n",
        "# To decide the optimum cluster number use ELBOW Method\n",
        "\n",
        "# -- run the below code\n",
        "\n",
        "from sklearn.cluster import KMeans\n",
        "wcss=[]   # wcss means with-in clusters Sum of Squares\n",
        "\n",
        "# we always assume the max number of cluster would be 10\n",
        "# you can judge the number of clusters by doing averaging\n",
        "\n",
        "# Watch the video above and type your code to get wcss for n_clusters from 1 to 10\n",
        "for k in range(1, 10):\n",
        "    kmeans = KMeans(n_clusters=k, n_init = 'auto', max_iter=300, random_state=10)\n",
        "    kmeans.fit(X)\n",
        "    wcss.append(kmeans.inertia_)\n",
        "\n",
        "print(wcss)\n",
        "# inertia_ is the formula used to segregate the data points into clusters"
      ],
      "execution_count": null,
      "outputs": [
        {
          "output_type": "stream",
          "name": "stdout",
          "text": [
            "[269981.28000000014, 184609.98434090626, 106348.37306211119, 73880.64496247198, 44448.45544793369, 37265.86520484345, 31632.259809473468, 25038.836208685145, 23337.407053782088]\n"
          ]
        }
      ]
    },
    {
      "cell_type": "code",
      "metadata": {
        "id": "g1oDZcpOk3Fl",
        "colab": {
          "base_uri": "https://localhost:8080/",
          "height": 472
        },
        "outputId": "54a3b760-ffdf-4b3a-f807-326d0ec2e4ce"
      },
      "source": [
        "## -- Type your code according to the above Video and below comments.\n",
        "\n",
        "# plot the wcss vs. n_clusters to Visualize the ELBOW\n",
        "# This way we would get the optimal value of K\n",
        "plt.plot(range(1,10), wcss)\n",
        "plt.title('Elbow')\n",
        "plt.xlabel('clusters')\n",
        "plt.ylabel('wcss')\n",
        "plt.show()"
      ],
      "execution_count": null,
      "outputs": [
        {
          "output_type": "display_data",
          "data": {
            "text/plain": [
              "<Figure size 640x480 with 1 Axes>"
            ],
            "image/png": "[encoded data removed]"
          },
          "metadata": {}
        }
      ]
    },
    {
      "cell_type": "code",
      "metadata": {
        "id": "BgBxGCMqnHC5"
      },
      "source": [
        "# If you zoom out this curve then you will see that last elbow comes at k=5\n",
        "# no matter what range we select for example (1,21) also u will see the same behaviour\n",
        "# but if we chose higher range it is little difficult to visualize the ELBOW.\n",
        "# that is why we usually prefer range (1,11)\n",
        "# Finally we got that k=5\n",
        "\n",
        "## -- Just run the below code\n",
        "\n",
        "# Model Build\n",
        "kmeansmodel = KMeans(n_clusters= 5, random_state=0, n_init= 'auto')\n",
        "y_kmeans= kmeansmodel.fit_predict(X)\n",
        "\n",
        "# y_kmeans is the final model .\n",
        "# Now how and where we will deploy this model in production depends on what tool we are using.\n",
        "# This use case is very common and it is used in \"BFS industry(credit card)\"\n",
        "# and retail for \"Customer Segmentation\".\n",
        "\n",
        "# BFS -> Banking & Finance Sector"
      ],
      "execution_count": null,
      "outputs": []
    },
    {
      "cell_type": "code",
      "metadata": {
        "id": "TLONCxNdn0xP",
        "outputId": "34f7cfb6-ebef-404f-d6c3-92b0cfa85dfb",
        "colab": {
          "base_uri": "https://localhost:8080/",
          "height": 641
        }
      },
      "source": [
        "## -- Just run the below code\n",
        "\n",
        "# Visualizing all the clusters\n",
        "plt.figure(figsize=(12,7))\n",
        "\n",
        "plt.scatter(X[y_kmeans == 0, 0], X[y_kmeans == 0, 1], s = 100, c = 'red', label = 'Cluster 1')\n",
        "plt.scatter(X[y_kmeans == 1, 0], X[y_kmeans == 1, 1], s = 100, c = 'blue', label = 'Cluster 2')\n",
        "plt.scatter(X[y_kmeans == 2, 0], X[y_kmeans == 2, 1], s = 100, c = 'green', label = 'Cluster 3')\n",
        "plt.scatter(X[y_kmeans == 3, 0], X[y_kmeans == 3, 1], s = 100, c = 'cyan', label = 'Cluster 4')\n",
        "plt.scatter(X[y_kmeans == 4, 0], X[y_kmeans == 4, 1], s = 100, c = 'magenta', label = 'Cluster 5')\n",
        "\n",
        "plt.scatter(kmeansmodel.cluster_centers_[:, 0], kmeansmodel.cluster_centers_[:, 1], s = 300, c = 'yellow', label = 'Centroids')\n",
        "plt.title('Clusters of customers')\n",
        "plt.xlabel('Annual Income (k$)')\n",
        "plt.ylabel('Spending Score (1-100)')\n",
        "plt.legend()\n",
        "plt.show()"
      ],
      "execution_count": null,
      "outputs": [
        {
          "output_type": "display_data",
          "data": {
            "text/plain": [
              "<Figure size 1200x700 with 1 Axes>"
            ],
            "image/png": "[encoded data removed]"
          },
          "metadata": {}
        }
      ]
    },
    {
      "cell_type": "markdown",
      "metadata": {
        "id": "13jMoB6Tozj-"
      },
      "source": [
        "<font color='green'><b>Model Interpretation</b></font> :\n",
        "\n",
        "**Cluster 1 (Red Color)** -> mid level earning and mid-spending <br>\n",
        "\n",
        "**Cluster 2 (Blue Color)** -> low earners and high spenders <br>\n",
        "\n",
        "**Cluster 3 (Green Color)** -> earning high and also spending high **[TARGET SET]**\n",
        "\n",
        "**Cluster 4 (cyan Color)** -> earning less ,  spending less\n",
        "\n",
        "**Cluster 5 (magenta Color)** -> Earning more , spending less\n",
        "\n",
        "<hr>\n",
        "<font color='green'><b>Outcome of the Analysis : </b></font><br>\n",
        "We can put Cluster 3 into some alerting system where email can be send to them on daily basis as these <b>Target Customers</b> can easily be convinced to buy newer brand products. <b>Wherein others we can set like once in a week or once in a month. </b>\n"
      ]
    },
    {
      "cell_type": "markdown",
      "metadata": {
        "id": "l1o5I32PqX-E"
      },
      "source": [
        "<hr>\n",
        "<h3><font color='green'>You have coded and found the best value of n_clusters and segmented the Customers for your <b>Supermarket</b>.\n",
        "\n",
        "</h3>\n",
        "<hr>"
      ]
    },
    {
      "cell_type": "markdown",
      "metadata": {
        "id": "7utqh6rGrvc5"
      },
      "source": [
        "<font color='green'><b>Thank you for going through the Notebook. I am sure it was a fruitful learning exprience. </b></font>\n",
        "\n",
        "**You think you have query or a thought in Data Science or Machine learning** , for solving some real problems, you are welcome to connect / message on Linkedin with the author of this Notebook. ( <small> https://linkedin.com/in/rocky-jagtiani-3b390649/ </small> )\n"
      ]
    }
  ]
}