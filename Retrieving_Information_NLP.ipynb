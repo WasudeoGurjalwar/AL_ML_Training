{
  "nbformat": 4,
  "nbformat_minor": 0,
  "metadata": {
    "colab": {
      "provenance": [],
      "include_colab_link": true
    },
    "kernelspec": {
      "display_name": "Python 3",
      "language": "python",
      "name": "python3"
    },
    "language_info": {
      "codemirror_mode": {
        "name": "ipython",
        "version": 3
      },
      "file_extension": ".py",
      "mimetype": "text/x-python",
      "name": "python",
      "nbconvert_exporter": "python",
      "pygments_lexer": "ipython3",
      "version": "3.6.8"
    }
  },
  "cells": [
    {
      "cell_type": "markdown",
      "metadata": {
        "id": "view-in-github",
        "colab_type": "text"
      },
      "source": [
        "<a href=\"https://colab.research.google.com/github/WasudeoGurjalwar/AL_ML_Training/blob/main/Retrieving_Information_NLP.ipynb\" target=\"_parent\"><img src=\"https://colab.research.google.com/assets/colab-badge.svg\" alt=\"Open In Colab\"/></a>"
      ]
    },
    {
      "cell_type": "markdown",
      "metadata": {
        "id": "rdivP0pVKXx_"
      },
      "source": [
        "Deep Learning for NLP\n",
        "--\n",
        "\n",
        "Recipe 7-1:  Retrieving Information\n",
        "--\n",
        "\n",
        "Information retrieval is one of the highly used applications of NLP and it is\n",
        "quite tricky. The meaning of the words or sentences not only depends on the exact words used but also on the context and meaning. Two sentences may be of completely different words but can convey the same meaning. We should be able to capture that as well.\n",
        "\n",
        "An information retrieval (IR) system allows users to efficiently search documents and retrieve meaningful information based on a search text/query.\n",
        "\n",
        "<img src=\"https://drive.google.com/uc?id=1QOtLrYLecQSPH3D_SgaFg12urVyeOu3b\" />"
      ]
    },
    {
      "cell_type": "markdown",
      "metadata": {
        "id": "QDR47qnjNDXX"
      },
      "source": [
        "Problem\n",
        "--\n",
        "Information retrieval using word embeddings.\n",
        "\n",
        "Solution\n",
        "--\n",
        "There are multiple ways to do Information retrieval. But we will see how to do it using word embeddings, which is very effective since it takes context also into consideration.\n",
        "\n",
        "We will just use the pretrained word2vec in this case.\n",
        "( Src : https://radimrehurek.com/gensim/models/word2vec.html )\n",
        "\n",
        "Let’s take a simple example and see how to build a document retrieval using query input. Let’s say we have 4 documents in our database as below. (Just showcasing how it works. We will have too many documents in a real-world application.)"
      ]
    },
    {
      "cell_type": "code",
      "metadata": {
        "id": "-DEUUdqKvwD_"
      },
      "source": [
        "Doc1 = [\"With the Union cabinet approving the amendments to the Motor Vehicles Act, 2016, those caught for drunken driving will have to have really deep pockets, as the fine payable in court has been enhanced to Rs 10,000 for first-time offenders.\" ]\n",
        "\n",
        "Doc2 = [\"Natural language processing (NLP) is an area of computer science and artificial intelligence concerned with the interactions between computers and human (natural) languages, in particular how to program computers to process and analyze large amounts of natural language data.\"]\n",
        "\n",
        "Doc3 = [\"He points out that public transport is very good in Mumbai and New Delhi, where there is a good network of suburban and metro rail systems.\"]\n",
        "\n",
        "Doc4 = [\"But the man behind the wickets at the other end was watching just as keenly. With an affirmative nod from Dhoni, India captain Rohit Sharma promptly asked for a review. Sure enough, the ball would have clipped the top of middle and leg.\"]"
      ],
      "execution_count": null,
      "outputs": []
    },
    {
      "cell_type": "markdown",
      "metadata": {
        "id": "5iTAj0OMNU8J"
      },
      "source": [
        "Assume we have numerous documents like this. And you want to retrieve the most relevant one, for the query “cricket.” Let’s see how to build it.\n",
        "\n",
        "**query = \"cricket\"**"
      ]
    },
    {
      "cell_type": "code",
      "metadata": {
        "colab": {
          "base_uri": "https://localhost:8080/"
        },
        "id": "SzD4v887kZ69",
        "outputId": "fb6b65cb-044d-4b73-c455-a0776396cd10"
      },
      "source": [
        "import nltk\n",
        "nltk.download('stopwords')"
      ],
      "execution_count": null,
      "outputs": [
        {
          "output_type": "stream",
          "name": "stderr",
          "text": [
            "[nltk_data] Downloading package stopwords to /root/nltk_data...\n",
            "[nltk_data]   Unzipping corpora/stopwords.zip.\n"
          ]
        },
        {
          "output_type": "execute_result",
          "data": {
            "text/plain": [
              "True"
            ]
          },
          "metadata": {},
          "execution_count": 2
        }
      ]
    },
    {
      "cell_type": "code",
      "metadata": {
        "colab": {
          "base_uri": "https://localhost:8080/"
        },
        "id": "I-FWGfWSqQru",
        "outputId": "964db5ca-9386-42cc-abfe-3785436edc6f"
      },
      "source": [
        "import nltk\n",
        "nltk.download('punkt')"
      ],
      "execution_count": null,
      "outputs": [
        {
          "output_type": "stream",
          "name": "stderr",
          "text": [
            "[nltk_data] Downloading package punkt to /root/nltk_data...\n",
            "[nltk_data]   Unzipping tokenizers/punkt.zip.\n"
          ]
        },
        {
          "output_type": "execute_result",
          "data": {
            "text/plain": [
              "True"
            ]
          },
          "metadata": {},
          "execution_count": 3
        }
      ]
    },
    {
      "cell_type": "code",
      "metadata": {
        "id": "mH0XAMIJkOhm"
      },
      "source": [
        "# Step 7.1.1 : Import the libraries\n",
        "import gensim\n",
        "from gensim.models import Word2Vec\n",
        "import numpy as np\n",
        "import nltk\n",
        "import itertools\n",
        "from nltk.corpus import stopwords\n",
        "from nltk.tokenize import sent_tokenize, word_tokenize\n",
        "import scipy\n",
        "from scipy import spatial\n",
        "from nltk.tokenize.toktok import ToktokTokenizer\n",
        "import re\n",
        "\n",
        "tokenizer = ToktokTokenizer()\n",
        "stopword_list = nltk.corpus.stopwords.words('english')"
      ],
      "execution_count": null,
      "outputs": []
    },
    {
      "cell_type": "code",
      "metadata": {
        "colab": {
          "base_uri": "https://localhost:8080/"
        },
        "id": "VGtk76Juke11",
        "outputId": "20f640f6-ff5e-446d-cbf6-37b115882735"
      },
      "source": [
        "# Step 7.1.2 - Create/import documents\n",
        "\n",
        "# Doc1 , Doc2 , Doc3 and Doc4 as defined above in the code.\n",
        "\n",
        "# Put all the documents in one list\n",
        "fin = Doc1+Doc2+Doc3+Doc4\n",
        "print(fin)"
      ],
      "execution_count": null,
      "outputs": [
        {
          "output_type": "stream",
          "name": "stdout",
          "text": [
            "['With the Union cabinet approving the amendments to the Motor Vehicles Act, 2016, those caught for drunken driving will have to have really deep pockets, as the fine payable in court has been enhanced to Rs 10,000 for first-time offenders.', 'Natural language processing (NLP) is an area of computer science and artificial intelligence concerned with the interactions between computers and human (natural) languages, in particular how to program computers to process and analyze large amounts of natural language data.', 'He points out that public transport is very good in Mumbai and New Delhi, where there is a good network of suburban and metro rail systems.', 'But the man behind the wickets at the other end was watching just as keenly. With an affirmative nod from Dhoni, India captain Rohit Sharma promptly asked for a review. Sure enough, the ball would have clipped the top of middle and leg.']\n"
          ]
        }
      ]
    },
    {
      "cell_type": "code",
      "metadata": {
        "id": "vclGFshLkoeU",
        "colab": {
          "base_uri": "https://localhost:8080/"
        },
        "outputId": "da3983b7-78f0-40e8-aebc-d95c611adb7f"
      },
      "source": [
        "# import gensim package\n",
        "#import gensim\n",
        "\n",
        "# load the saved model\n",
        "#model = gensim.models.KeyedVectors.load_word2vec_format('http://d1ufe8q8sjuo99.cloudfront.net/public/GoogleNews-vectors-negative300.bin.gz', binary=True)\n",
        "## http://d1ufe8q8sjuo99.cloudfront.net/public/GoogleNews-vectors-negative300.bin.gz\n",
        "\n",
        "import gensim.downloader as api\n",
        "wv = api.load('word2vec-google-news-300')"
      ],
      "execution_count": null,
      "outputs": [
        {
          "output_type": "stream",
          "name": "stdout",
          "text": [
            "[========------------------------------------------] 17.7% 293.7/1662.8MB downloaded"
          ]
        }
      ]
    },
    {
      "cell_type": "code",
      "metadata": {
        "id": "dcOTFB-CstWE"
      },
      "source": [
        "#print(model)\n",
        "#print(gensim.models.Word2Vec())"
      ],
      "execution_count": null,
      "outputs": []
    },
    {
      "cell_type": "code",
      "metadata": {
        "id": "CVCsU5zDlPJ0"
      },
      "source": [
        "# Step 7.1.4 : Create IR system\n",
        "\n",
        "# Now we build the information retrieval system:\n",
        "\n",
        "# Preprocessing\n",
        "def remove_stopwords(text, is_lower_case=False):\n",
        " pattern = r'[^a-zA-Z0-9\\s]'\n",
        " text = re.sub(pattern, \"\" , text)\n",
        "\n",
        "\n",
        " tokens = tokenizer.tokenize(text)\n",
        " tokens = [token.strip() for token in tokens]\n",
        " if is_lower_case:\n",
        "  filtered_tokens = [token for token in tokens if token not in stopword_list]\n",
        "\n",
        " else:\n",
        "  filtered_tokens = [token for token in tokens if token.lower() not in stopword_list]\n",
        "  filtered_text = ' '.join(filtered_tokens)\n",
        "\n",
        " return filtered_text\n",
        "\n",
        "\n",
        "# Function to get the embedding vector for n dimension, we have used \"300\"\n",
        "def get_embedding(word):\n",
        " if word in wv.key_to_index:\n",
        "  return wv[word]\n",
        " else:\n",
        "  return np.zeros(300)"
      ],
      "execution_count": null,
      "outputs": []
    },
    {
      "cell_type": "code",
      "metadata": {
        "id": "7v65UrBvct_d"
      },
      "source": [
        "# just to see the word vector for some word.\n",
        "print(wv['cricket'])\n",
        "print(\"-----------------------------------\")\n",
        "print(len(wv['cricket']))\n",
        "print(np.mean(np.array(wv['cricket']), axis=0))\n",
        "\n",
        "# just to see no. of words in Doc1\n",
        "print(len(tokenizer.tokenize(Doc1)))\n",
        "\n",
        "\n",
        "# so, we would get 47 word vectors, each of size 300.\n",
        "# One vector for one word.\n",
        "# so, we could get the mean of each vector\n",
        "# so that we reduce of the values we have to handle"
      ],
      "execution_count": null,
      "outputs": []
    },
    {
      "cell_type": "code",
      "metadata": {
        "id": "UzUaICTknvhN"
      },
      "source": [
        "import nltk\n",
        "nltk.download('punkt')\n",
        "\n",
        "# Getting average vector for each document\n",
        "out_dict = {}\n",
        "for sen in fin:  # this loop will pick one sentence at a time from fin (final document)\n",
        " average_vector = (np.mean(np.array([get_embedding(x) for x in nltk.word_tokenize(remove_stopwords(sen))]), axis=0))\n",
        " dict = { sen : (average_vector) }\n",
        " out_dict.update(dict)\n",
        "\n",
        "# Function to calculate the similarity between the query vector and document vector\n",
        "def get_sim(query_embedding, average_vector_doc):\n",
        " sim = [(1 - scipy.spatial.distance.cosine(query_embedding, average_vector_doc))]\n",
        " return sim"
      ],
      "execution_count": null,
      "outputs": []
    },
    {
      "cell_type": "code",
      "metadata": {
        "id": "7VpMhsCBsJaC"
      },
      "source": [
        "print(out_dict)"
      ],
      "execution_count": null,
      "outputs": []
    },
    {
      "cell_type": "code",
      "metadata": {
        "id": "sOoYnJNbvRAE"
      },
      "source": [
        "# Rank all the documents based on the similarity to get relevant docs\n",
        "def Ranked_documents(query):\n",
        " query_words = (np.mean(np.array([get_embedding(x) for x in nltk.word_tokenize(query.lower())],dtype=float), axis=0))\n",
        " rank = []\n",
        "\n",
        " for k,v in out_dict.items():\n",
        "  rank.append((k, get_sim(query_words, v)))\n",
        "\n",
        " rank = sorted(rank,key=lambda t: t[1], reverse=True)\n",
        " print('Ranked Documents :')\n",
        " return rank"
      ],
      "execution_count": null,
      "outputs": []
    },
    {
      "cell_type": "code",
      "metadata": {
        "id": "mnmo1x-_v5VI"
      },
      "source": [
        "# Call the IR function with a query\n",
        "Ranked_documents(\"cricket\")"
      ],
      "execution_count": null,
      "outputs": []
    },
    {
      "cell_type": "code",
      "metadata": {
        "id": "P6Odmi7DwFSJ"
      },
      "source": [
        "# Let’s take one more example as may be driving.\n",
        "Ranked_documents(\"driving is cool on National Highways\")"
      ],
      "execution_count": null,
      "outputs": []
    },
    {
      "cell_type": "markdown",
      "metadata": {
        "id": "R7l7KmO2Nsre"
      },
      "source": [
        "We can use the same approach and scale it up for as many documents as possible.\n",
        "\n",
        "For more accuracy, we can build our own embeddings, for specific industries since the one we are using is generalized.\n",
        "(Although it is time consuming task)\n",
        "\n",
        "This is the fundamental approach that can be used for many applications like the following:\n",
        "1. Search engines (Internet Search Engines)\n",
        "2. Document retrieval\n",
        "3. Passage retrieval\n",
        "4. Question and answer"
      ]
    },
    {
      "cell_type": "markdown",
      "metadata": {
        "id": "Kp-cl9AmNwcE"
      },
      "source": [
        "<img src=\"https://drive.google.com/uc?id=1kGARF7WUBYrDKbRkQh5l7V01pDTYCwiU\">\n",
        "\n"
      ]
    },
    {
      "cell_type": "markdown",
      "metadata": {
        "id": "Mh7yMxVqOeAO"
      },
      "source": [
        "It’s been proven that results will be good when queries are longer and\n",
        "the result length is shorter. That’s the reason we don’t get great results in search engines when the search query has lesser number of words."
      ]
    }
  ]
}